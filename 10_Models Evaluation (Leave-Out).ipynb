{
 "cells": [
  {
   "cell_type": "code",
   "execution_count": 33,
   "id": "ddffad27",
   "metadata": {},
   "outputs": [],
   "source": [
    "import pandas as pd\n",
    "import numpy as np\n",
    "import math as m\n",
    "import random as rand\n",
    "import matplotlib.pyplot as plt\n",
    "import seaborn as sns\n",
    "import re\n",
    "from datetime import datetime\n",
    "from sklearn import linear_model as lm, metrics, ensemble as ens\n",
    "from sklearn.model_selection import train_test_split, cross_val_score, RepeatedKFold\n",
    "from sklearn.preprocessing import StandardScaler, normalize\n",
    "from sklearn.svm import SVC\n",
    "from sklearn.feature_selection import RFE, RFECV, SequentialFeatureSelector\n",
    "import random\n",
    "from sklearn.model_selection import GridSearchCV\n",
    "from sklearn.decomposition import PCA, KernelPCA\n",
    "from sklearn.pipeline import Pipeline\n",
    "\n",
    "import warnings\n",
    "warnings.filterwarnings(\"ignore\")\n"
   ]
  },
  {
   "cell_type": "markdown",
   "id": "e4a43f45",
   "metadata": {},
   "source": [
    "# Clinical Data updated_ Alex"
   ]
  },
  {
   "cell_type": "code",
   "execution_count": 34,
   "id": "cdfd26ca",
   "metadata": {},
   "outputs": [],
   "source": [
    "#DEFINING A FUNCTION TO UPDATE COLUMN NAMES LATER\n",
    "def lower_no_space(word): \n",
    "    \n",
    "    word = re.sub(' ', '_', word) \n",
    "    \n",
    "    word = re.sub(r'\\'', '', word) \n",
    "    \n",
    "    word = re.sub(r'\\(', '', word)\n",
    "    \n",
    "    word = re.sub(r'\\)', '', word)\n",
    "    \n",
    "    word = re.sub('\\?', '', word)\n",
    "    \n",
    "    word = re.sub('/', '_', word)\n",
    "    \n",
    "    word = word.lower()\n",
    "    \n",
    "    return word"
   ]
  },
  {
   "cell_type": "code",
   "execution_count": 35,
   "id": "3a4d005c",
   "metadata": {},
   "outputs": [],
   "source": [
    "#READ IN Updated CLINICAL DATA FOR LATER USE (CONVERTED TO .csv IN GOOGLE SHEETS)\n",
    "df_clin_updated = pd.read_csv(\"Homebase_new_updated.csv\", header = 1)"
   ]
  },
  {
   "cell_type": "code",
   "execution_count": 36,
   "id": "fce5ecf7",
   "metadata": {},
   "outputs": [],
   "source": [
    "#RENAMING COLUMNS\n",
    "df_clin_updated = df_clin_updated.rename(mapper = lower_no_space, axis = 1) \n",
    "df_clin_updated.rename(columns={'subject_sample_id':'sample_id'}, inplace=True)"
   ]
  },
  {
   "cell_type": "code",
   "execution_count": 37,
   "id": "b1c9a31d",
   "metadata": {},
   "outputs": [
    {
     "data": {
      "text/html": [
       "<div>\n",
       "<style scoped>\n",
       "    .dataframe tbody tr th:only-of-type {\n",
       "        vertical-align: middle;\n",
       "    }\n",
       "\n",
       "    .dataframe tbody tr th {\n",
       "        vertical-align: top;\n",
       "    }\n",
       "\n",
       "    .dataframe thead th {\n",
       "        text-align: right;\n",
       "    }\n",
       "</style>\n",
       "<table border=\"1\" class=\"dataframe\">\n",
       "  <thead>\n",
       "    <tr style=\"text-align: right;\">\n",
       "      <th></th>\n",
       "      <th>patient_id</th>\n",
       "      <th>data_access_group</th>\n",
       "      <th>survey_identifier</th>\n",
       "      <th>survey_timestamp</th>\n",
       "      <th>sample_id</th>\n",
       "      <th>date_of_birth</th>\n",
       "      <th>current_age_at_time_of_data_entry_-_can_answer_instead_of_dob</th>\n",
       "      <th>country_of_origin</th>\n",
       "      <th>country_of_residence</th>\n",
       "      <th>gender</th>\n",
       "      <th>...</th>\n",
       "      <th>age_at_date_of_relapse_disease_progression_4_can_answer_instead_of_date_of_relapse_disease_progression_4</th>\n",
       "      <th>date_of_relapse_disease_progression.4</th>\n",
       "      <th>age_at_date_of_relapse_disease_progression_5_can_answer_instead_of_date_of_relapse_disease_progression_5</th>\n",
       "      <th>disease_status_at_time_of_sampling</th>\n",
       "      <th>disease_status_at_time_of_data_entry</th>\n",
       "      <th>date_of_death</th>\n",
       "      <th>age_at_death_can_answer_instead_of_date_of_death</th>\n",
       "      <th>death_related_to_disease</th>\n",
       "      <th>cause_of_death</th>\n",
       "      <th>complete</th>\n",
       "    </tr>\n",
       "  </thead>\n",
       "  <tbody>\n",
       "    <tr>\n",
       "      <th>0</th>\n",
       "      <td>795-1</td>\n",
       "      <td>MD Anderson</td>\n",
       "      <td>NaN</td>\n",
       "      <td>NaN</td>\n",
       "      <td>spz-20</td>\n",
       "      <td>1933-03-08</td>\n",
       "      <td>NaN</td>\n",
       "      <td>NaN</td>\n",
       "      <td>United States of America</td>\n",
       "      <td>Female</td>\n",
       "      <td>...</td>\n",
       "      <td>NaN</td>\n",
       "      <td>NaN</td>\n",
       "      <td>NaN</td>\n",
       "      <td>Progressive disease</td>\n",
       "      <td>Deceased</td>\n",
       "      <td>2013-11-06</td>\n",
       "      <td>NaN</td>\n",
       "      <td>Yes</td>\n",
       "      <td>NaN</td>\n",
       "      <td>Complete</td>\n",
       "    </tr>\n",
       "    <tr>\n",
       "      <th>1</th>\n",
       "      <td>795-2</td>\n",
       "      <td>MD Anderson</td>\n",
       "      <td>NaN</td>\n",
       "      <td>NaN</td>\n",
       "      <td>spz-3</td>\n",
       "      <td>1930-09-04</td>\n",
       "      <td>NaN</td>\n",
       "      <td>NaN</td>\n",
       "      <td>United States of America</td>\n",
       "      <td>Female</td>\n",
       "      <td>...</td>\n",
       "      <td>NaN</td>\n",
       "      <td>12-16-2013, 05-19-2014, 09-16-2014, 09-09-2015</td>\n",
       "      <td>NaN</td>\n",
       "      <td>Progressive disease</td>\n",
       "      <td>Deceased</td>\n",
       "      <td>2015-10-26</td>\n",
       "      <td>NaN</td>\n",
       "      <td>Yes</td>\n",
       "      <td>NaN</td>\n",
       "      <td>Complete</td>\n",
       "    </tr>\n",
       "    <tr>\n",
       "      <th>2</th>\n",
       "      <td>795-3</td>\n",
       "      <td>MD Anderson</td>\n",
       "      <td>NaN</td>\n",
       "      <td>NaN</td>\n",
       "      <td>spz-4</td>\n",
       "      <td>1926-12-27</td>\n",
       "      <td>NaN</td>\n",
       "      <td>NaN</td>\n",
       "      <td>United States of America</td>\n",
       "      <td>Male</td>\n",
       "      <td>...</td>\n",
       "      <td>NaN</td>\n",
       "      <td>NaN</td>\n",
       "      <td>NaN</td>\n",
       "      <td>Stable disease</td>\n",
       "      <td>Deceased</td>\n",
       "      <td>2014-09-14</td>\n",
       "      <td>NaN</td>\n",
       "      <td>Yes</td>\n",
       "      <td>NaN</td>\n",
       "      <td>Complete</td>\n",
       "    </tr>\n",
       "    <tr>\n",
       "      <th>3</th>\n",
       "      <td>795-4</td>\n",
       "      <td>MD Anderson</td>\n",
       "      <td>NaN</td>\n",
       "      <td>NaN</td>\n",
       "      <td>spz-8</td>\n",
       "      <td>1945-08-17</td>\n",
       "      <td>NaN</td>\n",
       "      <td>NaN</td>\n",
       "      <td>United States of America</td>\n",
       "      <td>Male</td>\n",
       "      <td>...</td>\n",
       "      <td>NaN</td>\n",
       "      <td>NaN</td>\n",
       "      <td>NaN</td>\n",
       "      <td>Progressive disease</td>\n",
       "      <td>Deceased</td>\n",
       "      <td>2018-01-05</td>\n",
       "      <td>NaN</td>\n",
       "      <td>No</td>\n",
       "      <td>NaN</td>\n",
       "      <td>Complete</td>\n",
       "    </tr>\n",
       "    <tr>\n",
       "      <th>4</th>\n",
       "      <td>795-5</td>\n",
       "      <td>MD Anderson</td>\n",
       "      <td>NaN</td>\n",
       "      <td>NaN</td>\n",
       "      <td>spz-10</td>\n",
       "      <td>1925-04-28</td>\n",
       "      <td>NaN</td>\n",
       "      <td>NaN</td>\n",
       "      <td>United States of America</td>\n",
       "      <td>Male</td>\n",
       "      <td>...</td>\n",
       "      <td>NaN</td>\n",
       "      <td>NaN</td>\n",
       "      <td>NaN</td>\n",
       "      <td>Progressive disease</td>\n",
       "      <td>Deceased</td>\n",
       "      <td>2017-09-25</td>\n",
       "      <td>NaN</td>\n",
       "      <td>No</td>\n",
       "      <td>NaN</td>\n",
       "      <td>Complete</td>\n",
       "    </tr>\n",
       "  </tbody>\n",
       "</table>\n",
       "<p>5 rows × 354 columns</p>\n",
       "</div>"
      ],
      "text/plain": [
       "  patient_id data_access_group  survey_identifier  survey_timestamp sample_id  \\\n",
       "0      795-1       MD Anderson                NaN               NaN    spz-20   \n",
       "1      795-2       MD Anderson                NaN               NaN     spz-3   \n",
       "2      795-3       MD Anderson                NaN               NaN     spz-4   \n",
       "3      795-4       MD Anderson                NaN               NaN     spz-8   \n",
       "4      795-5       MD Anderson                NaN               NaN    spz-10   \n",
       "\n",
       "  date_of_birth  \\\n",
       "0    1933-03-08   \n",
       "1    1930-09-04   \n",
       "2    1926-12-27   \n",
       "3    1945-08-17   \n",
       "4    1925-04-28   \n",
       "\n",
       "   current_age_at_time_of_data_entry_-_can_answer_instead_of_dob  \\\n",
       "0                                                NaN               \n",
       "1                                                NaN               \n",
       "2                                                NaN               \n",
       "3                                                NaN               \n",
       "4                                                NaN               \n",
       "\n",
       "  country_of_origin      country_of_residence  gender  ...  \\\n",
       "0               NaN  United States of America  Female  ...   \n",
       "1               NaN  United States of America  Female  ...   \n",
       "2               NaN  United States of America    Male  ...   \n",
       "3               NaN  United States of America    Male  ...   \n",
       "4               NaN  United States of America    Male  ...   \n",
       "\n",
       "  age_at_date_of_relapse_disease_progression_4_can_answer_instead_of_date_of_relapse_disease_progression_4  \\\n",
       "0                                                NaN                                                         \n",
       "1                                                NaN                                                         \n",
       "2                                                NaN                                                         \n",
       "3                                                NaN                                                         \n",
       "4                                                NaN                                                         \n",
       "\n",
       "            date_of_relapse_disease_progression.4  \\\n",
       "0                                             NaN   \n",
       "1  12-16-2013, 05-19-2014, 09-16-2014, 09-09-2015   \n",
       "2                                             NaN   \n",
       "3                                             NaN   \n",
       "4                                             NaN   \n",
       "\n",
       "  age_at_date_of_relapse_disease_progression_5_can_answer_instead_of_date_of_relapse_disease_progression_5  \\\n",
       "0                                                NaN                                                         \n",
       "1                                                NaN                                                         \n",
       "2                                                NaN                                                         \n",
       "3                                                NaN                                                         \n",
       "4                                                NaN                                                         \n",
       "\n",
       "  disease_status_at_time_of_sampling  disease_status_at_time_of_data_entry  \\\n",
       "0                Progressive disease                              Deceased   \n",
       "1                Progressive disease                              Deceased   \n",
       "2                     Stable disease                              Deceased   \n",
       "3                Progressive disease                              Deceased   \n",
       "4                Progressive disease                              Deceased   \n",
       "\n",
       "  date_of_death age_at_death_can_answer_instead_of_date_of_death  \\\n",
       "0    2013-11-06                                              NaN   \n",
       "1    2015-10-26                                              NaN   \n",
       "2    2014-09-14                                              NaN   \n",
       "3    2018-01-05                                              NaN   \n",
       "4    2017-09-25                                              NaN   \n",
       "\n",
       "  death_related_to_disease cause_of_death  complete  \n",
       "0                      Yes            NaN  Complete  \n",
       "1                      Yes            NaN  Complete  \n",
       "2                      Yes            NaN  Complete  \n",
       "3                       No            NaN  Complete  \n",
       "4                       No            NaN  Complete  \n",
       "\n",
       "[5 rows x 354 columns]"
      ]
     },
     "execution_count": 37,
     "metadata": {},
     "output_type": "execute_result"
    }
   ],
   "source": [
    "#CHECK CLINICAL DATA BASICS\n",
    "df_clin_updated.head()"
   ]
  },
  {
   "cell_type": "code",
   "execution_count": 38,
   "id": "44a05600",
   "metadata": {},
   "outputs": [],
   "source": [
    "#Compute the age at initial diagnosis from date of birth and date_of_initial_diagnosis\n",
    "df_clin_updated['date_of_birth'] = pd.to_datetime(df_clin_updated['date_of_birth'])\n",
    "df_clin_updated['date_of_initial_diagnosis'] = pd.to_datetime(df_clin_updated['date_of_initial_diagnosis'])\n",
    "df_clin_updated[\"age_at_initial_diagnosis\"] = (pd.DatetimeIndex(df_clin_updated['date_of_initial_diagnosis']).year \n",
    "                        - pd.DatetimeIndex(df_clin_updated['date_of_birth']).year)"
   ]
  },
  {
   "cell_type": "code",
   "execution_count": 39,
   "id": "3bf3174a",
   "metadata": {},
   "outputs": [],
   "source": [
    "#Due to the abnormal in date of birth from the Stanford data, \n",
    "#Remove the age at initial diagonosis for data from Stanford & the one that has negative age \n",
    "df_clin_updated[\"age_at_initial_diagnosis\"] = np.where(df_clin_updated['data_access_group'] == 'Stanford', np.nan, df_clin_updated[\"age_at_initial_diagnosis\"])\n",
    "df_clin_updated[\"age_at_initial_diagnosis\"] = np.where(df_clin_updated[\"age_at_initial_diagnosis\"] < 0, np.nan, df_clin_updated[\"age_at_initial_diagnosis\"])\n"
   ]
  },
  {
   "cell_type": "code",
   "execution_count": 40,
   "id": "24da101a",
   "metadata": {},
   "outputs": [],
   "source": [
    "#Change the data type: date_of_birth, n, m \n",
    "df_clin_updated = df_clin_updated.astype({'t':'object', 'b':'object'})\n"
   ]
  },
  {
   "cell_type": "code",
   "execution_count": 41,
   "id": "bb1c3610",
   "metadata": {},
   "outputs": [],
   "source": [
    "#TONS OF DATA, PULL WHAT WE WANT\n",
    "df_clin_updated_lean = df_clin_updated.drop(columns = [x for x in df_clin_updated.columns if x not in ['gender', 'race', \\\n",
    "                                       'country_of_residence', 'sample_id', 'ethnicity',\\\n",
    "                                        'age_at_initial_diagnosis',\\\n",
    "                                        'lymph_node_biopsy_performed','predominant_lesion_type_at_diagnosis',\\\n",
    "                                        'family_history_of_leukemia_lymphoma', 't', 'n', 'm', 'b',\\\n",
    "                                        'has_the_patient_ever_been_exposed_at_work_or_in_the_service_to_a_toxic_chemical',\\\n",
    "                                        'cd4+:cd8+_ratio', 'total_lymphocyte_count', 'absolute_cd4+_count_per_ul',\\\n",
    "                                        '%cd4+cd26-', '%cd4+cd7-', 'tcr_clonality', 'tumor_cell_cd30+',\\\n",
    "                                        'large_cell_transformation', 'ldh_u_l', 'wbc_103_μl', 'rbc_106_μl',\\\n",
    "                                        'hematocrit_%', 'mcv_fl', 'mchc_g_dl', 'rdw_%', 'platelet_count_103_μl',\\\n",
    "                                        'segmented_neutrophil,_absolute_103_μl', 'lymphocyte,_absolute_103_μl',\\\n",
    "                                        'monocytes,_absolute_103_μl', 'eosinophils,_absolute_103_μl',\\\n",
    "                                        'basophils,_absolute_103_μl', 'segmented_neutrophils_%', 'lymphocytes_%',\\\n",
    "                                        'monocytes_%', 'eosinophils_%', 'basophils_%']])\n",
    "\n",
    "# 'predominant_lesion_type_at_diagnosis', \n",
    "# 't', 'n', 'm', 'b', \n",
    "# 'eosinophils,_absolute_103_μl'\n",
    "\n",
    "\n",
    "#wbc_103mul\n",
    "#rbc_106ml\n",
    "#nuetrophil_number"
   ]
  },
  {
   "cell_type": "code",
   "execution_count": 42,
   "id": "9bc4e03a",
   "metadata": {},
   "outputs": [],
   "source": [
    "# TURN YES/NO & POSITIVE/NEGATIVE TO DUMMIES\n",
    "df_clin_updated_lean['lymph_node_biopsy_performed'] = \\\n",
    "df_clin_updated_lean['lymph_node_biopsy_performed'].apply(lambda x: 1 if x == 'Yes' else 0)\n",
    "\n",
    "df_clin_updated_lean['family_history_of_leukemia_lymphoma'] = \\\n",
    "df_clin_updated_lean['family_history_of_leukemia_lymphoma'].apply(lambda x: 1 if x == 'Yes' else 0)\n",
    "\n",
    "df_clin_updated_lean['tumor_cell_cd30+'] = \\\n",
    "df_clin_updated_lean['tumor_cell_cd30+'].apply(lambda x: 1 if x == 'Yes' else 0)\n",
    "\n",
    "df_clin_updated_lean['large_cell_transformation'] = \\\n",
    "df_clin_updated_lean['large_cell_transformation'].apply(lambda x: 1 if x == 'Yes' else 0)\n",
    "\n",
    "df_clin_updated_lean['tcr_clonality'] = \\\n",
    "df_clin_updated_lean['tcr_clonality'].apply(lambda x: 1 if x == 'Positive' else 0)\n",
    "\n",
    "df_clin_updated_lean['has_the_patient_ever_been_exposed_at_work_or_in_the_service_to_a_toxic_chemical'] = \\\n",
    "df_clin_updated_lean['has_the_patient_ever_been_exposed_at_work_or_in_the_service_to_a_toxic_chemical'].apply(lambda x: 1 if x == 'Yes' else 0)"
   ]
  },
  {
   "cell_type": "markdown",
   "id": "4109d752",
   "metadata": {},
   "source": [
    "### df_lean: Preprocessed Genetic Data"
   ]
  },
  {
   "cell_type": "code",
   "execution_count": 43,
   "id": "bb146ddf",
   "metadata": {},
   "outputs": [],
   "source": [
    "# Read in the Preprocessed Genetic Data\n",
    "df_lean = pd.read_csv ('stats_by_sample.csv')"
   ]
  },
  {
   "cell_type": "code",
   "execution_count": 44,
   "id": "416cc4e1",
   "metadata": {},
   "outputs": [
    {
     "data": {
      "text/html": [
       "<div>\n",
       "<style scoped>\n",
       "    .dataframe tbody tr th:only-of-type {\n",
       "        vertical-align: middle;\n",
       "    }\n",
       "\n",
       "    .dataframe tbody tr th {\n",
       "        vertical-align: top;\n",
       "    }\n",
       "\n",
       "    .dataframe thead th {\n",
       "        text-align: right;\n",
       "    }\n",
       "</style>\n",
       "<table border=\"1\" class=\"dataframe\">\n",
       "  <thead>\n",
       "    <tr style=\"text-align: right;\">\n",
       "      <th></th>\n",
       "      <th>patient_id</th>\n",
       "      <th>data_access_group</th>\n",
       "      <th>survey_identifier</th>\n",
       "      <th>survey_timestamp</th>\n",
       "      <th>sample_id</th>\n",
       "      <th>date_of_birth</th>\n",
       "      <th>current_age_at_time_of_data_entry_-_can_answer_instead_of_dob</th>\n",
       "      <th>country_of_origin</th>\n",
       "      <th>country_of_residence</th>\n",
       "      <th>gender</th>\n",
       "      <th>...</th>\n",
       "      <th>date_of_relapse_disease_progression.4</th>\n",
       "      <th>age_at_date_of_relapse_disease_progression_5_can_answer_instead_of_date_of_relapse_disease_progression_5</th>\n",
       "      <th>disease_status_at_time_of_sampling</th>\n",
       "      <th>disease_status_at_time_of_data_entry</th>\n",
       "      <th>date_of_death</th>\n",
       "      <th>age_at_death_can_answer_instead_of_date_of_death</th>\n",
       "      <th>death_related_to_disease</th>\n",
       "      <th>cause_of_death</th>\n",
       "      <th>complete</th>\n",
       "      <th>age_at_initial_diagnosis</th>\n",
       "    </tr>\n",
       "  </thead>\n",
       "  <tbody>\n",
       "    <tr>\n",
       "      <th>0</th>\n",
       "      <td>795-1</td>\n",
       "      <td>MD Anderson</td>\n",
       "      <td>NaN</td>\n",
       "      <td>NaN</td>\n",
       "      <td>spz-20</td>\n",
       "      <td>1933-03-08</td>\n",
       "      <td>NaN</td>\n",
       "      <td>NaN</td>\n",
       "      <td>United States of America</td>\n",
       "      <td>Female</td>\n",
       "      <td>...</td>\n",
       "      <td>NaN</td>\n",
       "      <td>NaN</td>\n",
       "      <td>Progressive disease</td>\n",
       "      <td>Deceased</td>\n",
       "      <td>2013-11-06</td>\n",
       "      <td>NaN</td>\n",
       "      <td>Yes</td>\n",
       "      <td>NaN</td>\n",
       "      <td>Complete</td>\n",
       "      <td>73.0</td>\n",
       "    </tr>\n",
       "    <tr>\n",
       "      <th>1</th>\n",
       "      <td>795-2</td>\n",
       "      <td>MD Anderson</td>\n",
       "      <td>NaN</td>\n",
       "      <td>NaN</td>\n",
       "      <td>spz-3</td>\n",
       "      <td>1930-09-04</td>\n",
       "      <td>NaN</td>\n",
       "      <td>NaN</td>\n",
       "      <td>United States of America</td>\n",
       "      <td>Female</td>\n",
       "      <td>...</td>\n",
       "      <td>12-16-2013, 05-19-2014, 09-16-2014, 09-09-2015</td>\n",
       "      <td>NaN</td>\n",
       "      <td>Progressive disease</td>\n",
       "      <td>Deceased</td>\n",
       "      <td>2015-10-26</td>\n",
       "      <td>NaN</td>\n",
       "      <td>Yes</td>\n",
       "      <td>NaN</td>\n",
       "      <td>Complete</td>\n",
       "      <td>81.0</td>\n",
       "    </tr>\n",
       "    <tr>\n",
       "      <th>2</th>\n",
       "      <td>795-3</td>\n",
       "      <td>MD Anderson</td>\n",
       "      <td>NaN</td>\n",
       "      <td>NaN</td>\n",
       "      <td>spz-4</td>\n",
       "      <td>1926-12-27</td>\n",
       "      <td>NaN</td>\n",
       "      <td>NaN</td>\n",
       "      <td>United States of America</td>\n",
       "      <td>Male</td>\n",
       "      <td>...</td>\n",
       "      <td>NaN</td>\n",
       "      <td>NaN</td>\n",
       "      <td>Stable disease</td>\n",
       "      <td>Deceased</td>\n",
       "      <td>2014-09-14</td>\n",
       "      <td>NaN</td>\n",
       "      <td>Yes</td>\n",
       "      <td>NaN</td>\n",
       "      <td>Complete</td>\n",
       "      <td>86.0</td>\n",
       "    </tr>\n",
       "    <tr>\n",
       "      <th>3</th>\n",
       "      <td>795-4</td>\n",
       "      <td>MD Anderson</td>\n",
       "      <td>NaN</td>\n",
       "      <td>NaN</td>\n",
       "      <td>spz-8</td>\n",
       "      <td>1945-08-17</td>\n",
       "      <td>NaN</td>\n",
       "      <td>NaN</td>\n",
       "      <td>United States of America</td>\n",
       "      <td>Male</td>\n",
       "      <td>...</td>\n",
       "      <td>NaN</td>\n",
       "      <td>NaN</td>\n",
       "      <td>Progressive disease</td>\n",
       "      <td>Deceased</td>\n",
       "      <td>2018-01-05</td>\n",
       "      <td>NaN</td>\n",
       "      <td>No</td>\n",
       "      <td>NaN</td>\n",
       "      <td>Complete</td>\n",
       "      <td>66.0</td>\n",
       "    </tr>\n",
       "    <tr>\n",
       "      <th>4</th>\n",
       "      <td>795-5</td>\n",
       "      <td>MD Anderson</td>\n",
       "      <td>NaN</td>\n",
       "      <td>NaN</td>\n",
       "      <td>spz-10</td>\n",
       "      <td>1925-04-28</td>\n",
       "      <td>NaN</td>\n",
       "      <td>NaN</td>\n",
       "      <td>United States of America</td>\n",
       "      <td>Male</td>\n",
       "      <td>...</td>\n",
       "      <td>NaN</td>\n",
       "      <td>NaN</td>\n",
       "      <td>Progressive disease</td>\n",
       "      <td>Deceased</td>\n",
       "      <td>2017-09-25</td>\n",
       "      <td>NaN</td>\n",
       "      <td>No</td>\n",
       "      <td>NaN</td>\n",
       "      <td>Complete</td>\n",
       "      <td>87.0</td>\n",
       "    </tr>\n",
       "  </tbody>\n",
       "</table>\n",
       "<p>5 rows × 355 columns</p>\n",
       "</div>"
      ],
      "text/plain": [
       "  patient_id data_access_group  survey_identifier  survey_timestamp sample_id  \\\n",
       "0      795-1       MD Anderson                NaN               NaN    spz-20   \n",
       "1      795-2       MD Anderson                NaN               NaN     spz-3   \n",
       "2      795-3       MD Anderson                NaN               NaN     spz-4   \n",
       "3      795-4       MD Anderson                NaN               NaN     spz-8   \n",
       "4      795-5       MD Anderson                NaN               NaN    spz-10   \n",
       "\n",
       "  date_of_birth  \\\n",
       "0    1933-03-08   \n",
       "1    1930-09-04   \n",
       "2    1926-12-27   \n",
       "3    1945-08-17   \n",
       "4    1925-04-28   \n",
       "\n",
       "   current_age_at_time_of_data_entry_-_can_answer_instead_of_dob  \\\n",
       "0                                                NaN               \n",
       "1                                                NaN               \n",
       "2                                                NaN               \n",
       "3                                                NaN               \n",
       "4                                                NaN               \n",
       "\n",
       "  country_of_origin      country_of_residence  gender  ...  \\\n",
       "0               NaN  United States of America  Female  ...   \n",
       "1               NaN  United States of America  Female  ...   \n",
       "2               NaN  United States of America    Male  ...   \n",
       "3               NaN  United States of America    Male  ...   \n",
       "4               NaN  United States of America    Male  ...   \n",
       "\n",
       "            date_of_relapse_disease_progression.4  \\\n",
       "0                                             NaN   \n",
       "1  12-16-2013, 05-19-2014, 09-16-2014, 09-09-2015   \n",
       "2                                             NaN   \n",
       "3                                             NaN   \n",
       "4                                             NaN   \n",
       "\n",
       "  age_at_date_of_relapse_disease_progression_5_can_answer_instead_of_date_of_relapse_disease_progression_5  \\\n",
       "0                                                NaN                                                         \n",
       "1                                                NaN                                                         \n",
       "2                                                NaN                                                         \n",
       "3                                                NaN                                                         \n",
       "4                                                NaN                                                         \n",
       "\n",
       "  disease_status_at_time_of_sampling disease_status_at_time_of_data_entry  \\\n",
       "0                Progressive disease                             Deceased   \n",
       "1                Progressive disease                             Deceased   \n",
       "2                     Stable disease                             Deceased   \n",
       "3                Progressive disease                             Deceased   \n",
       "4                Progressive disease                             Deceased   \n",
       "\n",
       "   date_of_death age_at_death_can_answer_instead_of_date_of_death  \\\n",
       "0     2013-11-06                                              NaN   \n",
       "1     2015-10-26                                              NaN   \n",
       "2     2014-09-14                                              NaN   \n",
       "3     2018-01-05                                              NaN   \n",
       "4     2017-09-25                                              NaN   \n",
       "\n",
       "  death_related_to_disease cause_of_death  complete age_at_initial_diagnosis  \n",
       "0                      Yes            NaN  Complete                     73.0  \n",
       "1                      Yes            NaN  Complete                     81.0  \n",
       "2                      Yes            NaN  Complete                     86.0  \n",
       "3                       No            NaN  Complete                     66.0  \n",
       "4                       No            NaN  Complete                     87.0  \n",
       "\n",
       "[5 rows x 355 columns]"
      ]
     },
     "execution_count": 44,
     "metadata": {},
     "output_type": "execute_result"
    }
   ],
   "source": [
    "#CHECK CLINICAL DATA BASICS\n",
    "df_clin_updated.head()"
   ]
  },
  {
   "cell_type": "code",
   "execution_count": 45,
   "id": "0340dd7a",
   "metadata": {},
   "outputs": [],
   "source": [
    "#TRANSFORM SAMPLE ID TOJOIN TO CLINICAL DATA\n",
    "df_lean['sample_id'] = df_lean['sample_id'].apply(lambda x: re.sub('_', '-', x[:5]) if 'WES' in x else\\\n",
    "                                                  (x[:-10] if 'CTCL' in x else \\\n",
    "                                                  (x[:-13] if 'almeida' in x else\\\n",
    "                                                  ((x[-2:]+x[:-2])[:-15] if 'ungewickell' in x else\\\n",
    "                                                  ('-'.join([ele.lstrip('0').lower() for ele in x[:-10].split('-')]) if 'SPZ' in x else x)))))"
   ]
  },
  {
   "cell_type": "markdown",
   "id": "09af39d9",
   "metadata": {},
   "source": [
    "# Merge (Updated)"
   ]
  },
  {
   "cell_type": "code",
   "execution_count": 46,
   "id": "131081ab",
   "metadata": {},
   "outputs": [],
   "source": [
    "#MERGE tbe updated CLINICAL, GENETIC DATA\n",
    "df_all_updated = pd.merge(df_lean, df_clin_updated_lean, on='sample_id', how='left')"
   ]
  },
  {
   "cell_type": "code",
   "execution_count": 47,
   "id": "4b08b2bd",
   "metadata": {},
   "outputs": [],
   "source": [
    "#IMPUTATION; \"UNKNOWN\" FOR CATEGORICAL, MEAN FILL-IN FOR CONTINUOUS\n",
    "for col in df_clin_updated_lean.columns:\n",
    "    if col in ['race', 'gender', 'country_of_residence', 'ethnicity', 'predominant_lesion_type_at_diagnosis', 't', \n",
    "              'n', 'm', 'b']:\n",
    "        df_all_updated[col] = df_all_updated[col].fillna('unknown')\n",
    "    elif col != 'sample_id':\n",
    "        df_all_updated[col] = df_all_updated[col].fillna(np.mean(df_all_updated[col]))"
   ]
  },
  {
   "cell_type": "code",
   "execution_count": 48,
   "id": "85cf6d7a",
   "metadata": {},
   "outputs": [],
   "source": [
    "#GET DUMMIES FOR CATEGORICALS\n",
    "df_all_updated = pd.get_dummies(df_all_updated, columns = ['race', 'gender', 'country_of_residence', 'ethnicity', \n",
    "                                                          'predominant_lesion_type_at_diagnosis', 't', 'n', 'm', 'b'])\n"
   ]
  },
  {
   "cell_type": "code",
   "execution_count": 49,
   "id": "3b74a23b",
   "metadata": {},
   "outputs": [
    {
     "data": {
      "text/plain": [
       "array(['SS11', 'SS15', 'MF16', 'SS1', 'SS4', 'MF52', 'SS54', 'MF5', 'MF7',\n",
       "       'MF8', 'MF9', 'CTCL10', 'CTCL11', 'CTCL12', 'CTCL13', 'CTCL15',\n",
       "       'CTCL16', 'CTCL17', 'CTCL18', 'CTCL19', 'CTCL1', 'CTCL20',\n",
       "       'CTCL21', 'CTCL22', 'CTCL23', 'CTCL29', 'CTCL2', 'CTCL30',\n",
       "       'CTCL31', 'CTCL32', 'CTCL34', 'CTCL35', 'CTCL36', 'CTCL38',\n",
       "       'CTCL39', 'CTCL3', 'CTCL40', 'CTCL4', 'CTCL5', 'CTCL6', 'CTCL7',\n",
       "       'CTCL8', 'CTCL9', 'CTCL_NU11__a', 'CTCL_NU18__a', 'CTCL_NU19__a',\n",
       "       'CTCL_NU20__a', 'CTCL_NU2__a', 'CTCL_NU4__a', 'CTCL_NU7__a',\n",
       "       'CTCL_NU9__a', 'Patient_1__mcgirt__MF', 'Patient_2__mcgirt__MF',\n",
       "       'Patient_3__mcgirt__MF', 'Patient_4__mcgirt__MF',\n",
       "       'Patient_5__mcgirt__MF', 'spz-1', 'spz-2', 'spz-3', 'spz-4',\n",
       "       'spz-5', 'spz-6', 'spz-7', 'spz-8', 'spz-9', 'spz-10', 'spz-11',\n",
       "       'spz-12', 'spz-13', 'spz-14', 'spz-15', 'spz-16', 'spz-17',\n",
       "       'spz-18', 'spz-19', 'spz-20', 'spz-21', 'spz-22', 'spz-23',\n",
       "       'spz-24', 'spz-25', 'spz-26', 'spz-27', 'spz-28', 'spz-29',\n",
       "       'spz-30', 'spz-31', 'spz-32', 'spz-33', 'spz-34', 'spz-36',\n",
       "       'spz-37', 'spz-38', 'SS01__prasad__SS', 'SS02__prasad__SS',\n",
       "       'SS03__prasad__SS', 'SS04__prasad__SS', 'SS05__prasad__SS',\n",
       "       'SS06__prasad__SS', 'SS07__prasad__SS', 'SS08__prasad__SS',\n",
       "       'SS09__prasad__SS', 'SS10__prasad__SS', 'SS11__prasad__SS',\n",
       "       'SS12__prasad__SS', 'SS_L10', 'SS_L11', 'SS_L12', 'SS_L13',\n",
       "       'SS_L14', 'SS_L16', 'SS_L17', 'SS_L18', 'SS_L19', 'SS_L1',\n",
       "       'SS_L20', 'SS_L21', 'SS_L22', 'SS_L23', 'SS_L2', 'SS_L3', 'SS_L4',\n",
       "       'SS_L5', 'SS_L6', 'SS_L7', 'SS_L8', 'SS_L9', 'SS_NU15', 'SS_NU8',\n",
       "       'WES-1', 'WES-2', 'WES-3', 'WES-4', 'WES-5', 'WES-6', 'WES-7',\n",
       "       'WES-8', 'WES-9'], dtype=object)"
      ]
     },
     "execution_count": 49,
     "metadata": {},
     "output_type": "execute_result"
    }
   ],
   "source": [
    "df_all_updated['sample_id'].unique()"
   ]
  },
  {
   "cell_type": "code",
   "execution_count": 87,
   "id": "0569b65d",
   "metadata": {},
   "outputs": [
    {
     "data": {
      "text/plain": [
       "(139, 22753)"
      ]
     },
     "execution_count": 87,
     "metadata": {},
     "output_type": "execute_result"
    }
   ],
   "source": [
    "df_lean.shape"
   ]
  },
  {
   "cell_type": "markdown",
   "id": "5ee39532",
   "metadata": {},
   "source": [
    "# Defining Features and Labels - For updated data"
   ]
  },
  {
   "cell_type": "markdown",
   "id": "1fc781e4",
   "metadata": {},
   "source": [
    "## Yale"
   ]
  },
  {
   "cell_type": "code",
   "execution_count": 50,
   "id": "054d089a",
   "metadata": {},
   "outputs": [],
   "source": [
    "X_train_y = df_all_updated[df_all_updated['sample_id'].str.contains(\"CTCL\")== False]\n",
    "X_test_y = df_all_updated[df_all_updated['sample_id'].str.contains(\"CTCL\")== True]"
   ]
  },
  {
   "cell_type": "code",
   "execution_count": 51,
   "id": "bf906943",
   "metadata": {},
   "outputs": [],
   "source": [
    "#DEFINE STANDARDSCALER FOR LATER USE\n",
    "std_scl = StandardScaler()"
   ]
  },
  {
   "cell_type": "code",
   "execution_count": 52,
   "id": "a756a067",
   "metadata": {},
   "outputs": [],
   "source": [
    "# Define (Scaled/Normalized) Features and Labels\n",
    "X_new_y = X_train_y.drop(columns = [x for x in df_all_updated.columns if x == 'outcome' or x == 'sample_id'])\n",
    "X_new_scaled_y = std_scl.fit_transform(X_new_y)\n",
    "X_new_norm_y = normalize(X_new_y)\n",
    "\n",
    "y_new_y = X_train_y.drop(columns = [x for x in df_all_updated.columns if x != 'outcome'])"
   ]
  },
  {
   "cell_type": "code",
   "execution_count": 53,
   "id": "bc540a08",
   "metadata": {},
   "outputs": [],
   "source": [
    "X_test_yale = X_test_y.drop(columns = [x for x in df_all_updated.columns if x == 'outcome' or x == 'sample_id'])\n",
    "X_test_scaled_y = std_scl.transform(X_test_yale)\n",
    "X_test_norm_y = normalize(X_test_yale)\n",
    "\n",
    "y_test_yale = X_test_y.drop(columns = [x for x in df_all_updated.columns if x != 'outcome'])"
   ]
  },
  {
   "cell_type": "code",
   "execution_count": 54,
   "id": "60ed3311",
   "metadata": {
    "scrolled": true
   },
   "outputs": [
    {
     "data": {
      "text/plain": [
       "1    0.8\n",
       "0    0.2\n",
       "Name: outcome, dtype: float64"
      ]
     },
     "execution_count": 54,
     "metadata": {},
     "output_type": "execute_result"
    }
   ],
   "source": [
    "X_train_y['outcome'].value_counts(normalize = True)"
   ]
  },
  {
   "cell_type": "code",
   "execution_count": 55,
   "id": "ede9441c",
   "metadata": {},
   "outputs": [
    {
     "data": {
      "text/plain": [
       "1    0.8\n",
       "0    0.2\n",
       "Name: outcome, dtype: float64"
      ]
     },
     "execution_count": 55,
     "metadata": {},
     "output_type": "execute_result"
    }
   ],
   "source": [
    "X_test_y['outcome'].value_counts(normalize = True)"
   ]
  },
  {
   "cell_type": "markdown",
   "id": "67067477",
   "metadata": {},
   "source": [
    "## IMM - Barcelona"
   ]
  },
  {
   "cell_type": "code",
   "execution_count": 56,
   "id": "7e1c8a2e",
   "metadata": {},
   "outputs": [],
   "source": [
    "X_train_b = df_all_updated[df_all_updated['sample_id'].str.contains(\"prasad\")== False]\n",
    "X_test_b = df_all_updated[df_all_updated['sample_id'].str.contains(\"prasad\")== True]\n",
    "\n",
    "# Define (Scaled/Normalized) Features and Labels\n",
    "X_new_b = X_train_b.drop(columns = [x for x in df_all_updated.columns if x == 'outcome' or x == 'sample_id'])\n",
    "X_new_scaled_b = std_scl.fit_transform(X_new_b)\n",
    "X_new_norm_b = normalize(X_new_b)\n",
    "y_new_b = X_train_b.drop(columns = [x for x in df_all_updated.columns if x != 'outcome'])\n",
    "\n",
    "\n",
    "X_test_bar = X_test_b.drop(columns = [x for x in df_all_updated.columns if x == 'outcome' or x == 'sample_id'])\n",
    "X_test_scaled_bar = std_scl.transform(X_test_bar)\n",
    "X_test_norm_bar = normalize(X_test_bar)\n",
    "y_test_bar = X_test_b.drop(columns = [x for x in df_all_updated.columns if x != 'outcome'])"
   ]
  },
  {
   "cell_type": "code",
   "execution_count": 57,
   "id": "5f6cd0aa",
   "metadata": {},
   "outputs": [
    {
     "data": {
      "text/plain": [
       "1    0.78125\n",
       "0    0.21875\n",
       "Name: outcome, dtype: float64"
      ]
     },
     "execution_count": 57,
     "metadata": {},
     "output_type": "execute_result"
    }
   ],
   "source": [
    "X_train_b['outcome'].value_counts(normalize = True)"
   ]
  },
  {
   "cell_type": "code",
   "execution_count": 58,
   "id": "be1d6d10",
   "metadata": {},
   "outputs": [
    {
     "data": {
      "text/plain": [
       "1    1.0\n",
       "Name: outcome, dtype: float64"
      ]
     },
     "execution_count": 58,
     "metadata": {},
     "output_type": "execute_result"
    }
   ],
   "source": [
    "X_test_b['outcome'].value_counts(normalize = True)"
   ]
  },
  {
   "cell_type": "markdown",
   "id": "daa65e1e",
   "metadata": {},
   "source": [
    "## Kings College"
   ]
  },
  {
   "cell_type": "code",
   "execution_count": 80,
   "id": "c67c3d44",
   "metadata": {},
   "outputs": [],
   "source": [
    "X_train_k = df_all_updated[df_all_updated['sample_id'].str.contains(\"WES\")== False]\n",
    "X_test_k = df_all_updated[df_all_updated['sample_id'].str.contains(\"WES\")== True]\n",
    "\n",
    "# Define (Scaled/Normalized) Features and Labels\n",
    "X_new_k = X_train_k.drop(columns = [x for x in df_all_updated.columns if x == 'outcome' or x == 'sample_id'])\n",
    "X_new_scaled_k = std_scl.fit_transform(X_new_k)\n",
    "X_new_norm_k = normalize(X_new_k)\n",
    "y_new_k = X_train_k.drop(columns = [x for x in df_all_updated.columns if x != 'outcome'])\n",
    "\n",
    "\n",
    "X_test_kings = X_test_k.drop(columns = [x for x in df_all_updated.columns if x == 'outcome' or x == 'sample_id'])\n",
    "X_test_scaled_kings = std_scl.transform(X_test_kings)\n",
    "X_test_norm_kings = normalize(X_test_kings)\n",
    "y_test_kings = X_test_k.drop(columns = [x for x in df_all_updated.columns if x != 'outcome'])"
   ]
  },
  {
   "cell_type": "code",
   "execution_count": 88,
   "id": "b354d45e",
   "metadata": {},
   "outputs": [
    {
     "data": {
      "text/plain": [
       "1    0.784615\n",
       "0    0.215385\n",
       "Name: outcome, dtype: float64"
      ]
     },
     "execution_count": 88,
     "metadata": {},
     "output_type": "execute_result"
    }
   ],
   "source": [
    "X_train_k['outcome'].value_counts(normalize = True)"
   ]
  },
  {
   "cell_type": "code",
   "execution_count": 89,
   "id": "ef8c22c3",
   "metadata": {},
   "outputs": [
    {
     "data": {
      "text/plain": [
       "1    1.0\n",
       "Name: outcome, dtype: float64"
      ]
     },
     "execution_count": 89,
     "metadata": {},
     "output_type": "execute_result"
    }
   ],
   "source": [
    "X_test_k['outcome'].value_counts(normalize = True)"
   ]
  },
  {
   "cell_type": "code",
   "execution_count": 83,
   "id": "077fe2e8",
   "metadata": {},
   "outputs": [
    {
     "name": "stdout",
     "output_type": "stream",
     "text": [
      "10\n",
      "12\n",
      "40\n"
     ]
    }
   ],
   "source": [
    "print(len(y_test_kings))\n",
    "print(len(y_test_bar))\n",
    "print(len(y_test_yale))"
   ]
  },
  {
   "cell_type": "markdown",
   "id": "17eac5e6",
   "metadata": {},
   "source": [
    "# Evaluate"
   ]
  },
  {
   "cell_type": "code",
   "execution_count": 63,
   "id": "e50e3f44",
   "metadata": {},
   "outputs": [],
   "source": [
    "from sklearn.metrics import accuracy_score\n",
    "from sklearn.metrics import precision_score"
   ]
  },
  {
   "cell_type": "markdown",
   "id": "2a116717",
   "metadata": {},
   "source": [
    "### AdaBoost"
   ]
  },
  {
   "cell_type": "markdown",
   "id": "75bce0d1",
   "metadata": {},
   "source": [
    "#### Yale"
   ]
  },
  {
   "cell_type": "code",
   "execution_count": 64,
   "id": "1efcfac2",
   "metadata": {},
   "outputs": [
    {
     "name": "stdout",
     "output_type": "stream",
     "text": [
      "AdaBoost without PCA\n",
      "Accuracy:  0.4\n",
      "Precision:  1.0\n"
     ]
    }
   ],
   "source": [
    "#AdaBoost n_estimator = 400\n",
    "from sklearn.ensemble import AdaBoostClassifier\n",
    "\n",
    "model_ada = AdaBoostClassifier(n_estimators=400, learning_rate = 1, algorithm = \"SAMME.R\")\n",
    "\n",
    "model_ada.fit(X_new_y, y_new_y)\n",
    "y_pred = model_ada.predict(X_test_yale)\n",
    "\n",
    "ada_acc_scores = accuracy_score(y_test_yale, y_pred)\n",
    "ada_prec_scores = precision_score(y_test_yale, y_pred)\n",
    "\n",
    "print(\"AdaBoost without PCA\")\n",
    "print('Accuracy: ', ada_acc_scores)\n",
    "print('Precision: ', ada_prec_scores)\n"
   ]
  },
  {
   "cell_type": "code",
   "execution_count": 65,
   "id": "9bbc4e22",
   "metadata": {},
   "outputs": [
    {
     "data": {
      "text/plain": [
       "array([0, 0, 0, 0, 1, 1, 1, 0, 1, 0, 0, 1, 0, 0, 0, 1, 0, 0, 1, 0, 0, 0,\n",
       "       0, 0, 1, 0, 0, 0, 0, 0, 0, 0, 0, 0, 0, 0, 0, 0, 0, 0])"
      ]
     },
     "execution_count": 65,
     "metadata": {},
     "output_type": "execute_result"
    }
   ],
   "source": [
    "y_pred"
   ]
  },
  {
   "cell_type": "code",
   "execution_count": 66,
   "id": "397c343d",
   "metadata": {},
   "outputs": [
    {
     "data": {
      "text/plain": [
       "array([1, 1, 1, 1, 1, 1, 1, 1, 1, 1, 1, 1, 1, 1, 1, 1, 1, 1, 1, 1, 1, 1,\n",
       "       1, 1, 1, 1, 1, 1, 1, 1, 1, 1, 0, 0, 0, 0, 0, 0, 0, 0])"
      ]
     },
     "execution_count": 66,
     "metadata": {},
     "output_type": "execute_result"
    }
   ],
   "source": [
    "np.ravel(y_test_yale)"
   ]
  },
  {
   "cell_type": "code",
   "execution_count": 67,
   "id": "9ff7909f",
   "metadata": {},
   "outputs": [
    {
     "name": "stdout",
     "output_type": "stream",
     "text": [
      "40\n"
     ]
    }
   ],
   "source": [
    "print(len(y_test_yale))"
   ]
  },
  {
   "cell_type": "markdown",
   "id": "29b21a23",
   "metadata": {},
   "source": [
    "#### Barcelona"
   ]
  },
  {
   "cell_type": "code",
   "execution_count": 68,
   "id": "5a1fd277",
   "metadata": {},
   "outputs": [
    {
     "name": "stdout",
     "output_type": "stream",
     "text": [
      "AdaBoost without PCA\n",
      "Accuracy:  1.0\n",
      "Precision:  1.0\n"
     ]
    }
   ],
   "source": [
    "#AdaBoost n_estimator = 400\n",
    "from sklearn.ensemble import AdaBoostClassifier\n",
    "\n",
    "model_ada = AdaBoostClassifier(n_estimators=400, learning_rate = 1, algorithm = \"SAMME.R\")\n",
    "\n",
    "model_ada.fit(X_new_b, y_new_b)\n",
    "y_pred = model_ada.predict(X_test_bar)\n",
    "\n",
    "ada_acc_scores = accuracy_score(y_test_bar, y_pred)\n",
    "ada_prec_scores = precision_score(y_test_bar, y_pred)\n",
    "\n",
    "print(\"AdaBoost without PCA\")\n",
    "print('Accuracy: ', ada_acc_scores)\n",
    "print('Precision: ', ada_prec_scores)"
   ]
  },
  {
   "cell_type": "markdown",
   "id": "1dffa9f1",
   "metadata": {},
   "source": [
    "#### Kings College"
   ]
  },
  {
   "cell_type": "code",
   "execution_count": 69,
   "id": "bf03431e",
   "metadata": {},
   "outputs": [
    {
     "name": "stdout",
     "output_type": "stream",
     "text": [
      "AdaBoost without PCA\n",
      "Accuracy:  1.0\n",
      "Precision:  1.0\n"
     ]
    }
   ],
   "source": [
    "#AdaBoost n_estimator = 400\n",
    "from sklearn.ensemble import AdaBoostClassifier\n",
    "\n",
    "model_ada = AdaBoostClassifier(n_estimators=400, learning_rate = 1, algorithm = \"SAMME.R\")\n",
    "\n",
    "model_ada.fit(X_new_k, y_new_k)\n",
    "y_pred = model_ada.predict(X_test_kings)\n",
    "\n",
    "ada_acc_scores = accuracy_score(y_test_kings, y_pred)\n",
    "ada_prec_scores = precision_score(y_test_kings, y_pred)\n",
    "\n",
    "print(\"AdaBoost without PCA\")\n",
    "print('Accuracy: ', ada_acc_scores)\n",
    "print('Precision: ', ada_prec_scores)"
   ]
  },
  {
   "cell_type": "markdown",
   "id": "0b3baf3a",
   "metadata": {},
   "source": [
    "### Ramdom Forest"
   ]
  },
  {
   "cell_type": "markdown",
   "id": "e33900c8",
   "metadata": {},
   "source": [
    "#### Yale"
   ]
  },
  {
   "cell_type": "code",
   "execution_count": 70,
   "id": "3fd60a40",
   "metadata": {},
   "outputs": [
    {
     "name": "stdout",
     "output_type": "stream",
     "text": [
      "Random Forest\n",
      "n_components: 12, accuracy:  0.575\n",
      "n_components: 12, precision:  1.0\n"
     ]
    }
   ],
   "source": [
    "steps = [('pca', PCA(n_components=12)), ('m', ens.RandomForestClassifier(n_estimators = 500, criterion = \"entropy\"))]\n",
    "model_rf = Pipeline(steps = steps)\n",
    "\n",
    "model_rf.fit(X_new_y, y_new_y)\n",
    "y_pred = model_rf.predict(X_test_yale)\n",
    "\n",
    "rf_acc_scores = accuracy_score(y_test_yale, y_pred)\n",
    "rf_prec_scores = precision_score(y_test_yale, y_pred)\n",
    "\n",
    "print(\"Random Forest\")\n",
    "print('n_components: 12, accuracy: ', rf_acc_scores)\n",
    "print('n_components: 12, precision: ', rf_prec_scores)"
   ]
  },
  {
   "cell_type": "code",
   "execution_count": 71,
   "id": "234ed258",
   "metadata": {},
   "outputs": [
    {
     "data": {
      "text/plain": [
       "array([0, 0, 1, 1, 1, 1, 1, 1, 1, 0, 0, 1, 0, 1, 0, 1, 0, 0, 1, 0, 0, 0,\n",
       "       0, 1, 1, 0, 1, 0, 1, 0, 0, 0, 0, 0, 0, 0, 0, 0, 0, 0])"
      ]
     },
     "execution_count": 71,
     "metadata": {},
     "output_type": "execute_result"
    }
   ],
   "source": [
    "y_pred"
   ]
  },
  {
   "cell_type": "code",
   "execution_count": 72,
   "id": "b3f727fe",
   "metadata": {},
   "outputs": [
    {
     "data": {
      "text/plain": [
       "array([1, 1, 1, 1, 1, 1, 1, 1, 1, 1, 1, 1, 1, 1, 1, 1, 1, 1, 1, 1, 1, 1,\n",
       "       1, 1, 1, 1, 1, 1, 1, 1, 1, 1, 0, 0, 0, 0, 0, 0, 0, 0])"
      ]
     },
     "execution_count": 72,
     "metadata": {},
     "output_type": "execute_result"
    }
   ],
   "source": [
    "np.ravel(y_test_yale)"
   ]
  },
  {
   "cell_type": "markdown",
   "id": "53f835f6",
   "metadata": {},
   "source": [
    "#### Barcelona"
   ]
  },
  {
   "cell_type": "code",
   "execution_count": 73,
   "id": "2dbebbd8",
   "metadata": {
    "scrolled": true
   },
   "outputs": [
    {
     "name": "stdout",
     "output_type": "stream",
     "text": [
      "Random Forest\n",
      "n_components: 12, accuracy:  0.8333333333333334\n",
      "n_components: 12, precision:  1.0\n"
     ]
    }
   ],
   "source": [
    "# RF\n",
    "steps = [('pca', PCA(n_components=12)), ('m', ens.RandomForestClassifier(n_estimators = 500, criterion = \"entropy\"))]\n",
    "model_rf = Pipeline(steps = steps)\n",
    "\n",
    "model_rf.fit(X_new_b, y_new_b)\n",
    "y_pred = model_rf.predict(X_test_bar)\n",
    "\n",
    "rf_acc_scores = accuracy_score(y_test_bar, y_pred)\n",
    "rf_prec_scores = precision_score(y_test_bar, y_pred)\n",
    "\n",
    "print(\"Random Forest\")\n",
    "print('n_components: 12, accuracy: ', rf_acc_scores)\n",
    "print('n_components: 12, precision: ', rf_prec_scores)"
   ]
  },
  {
   "cell_type": "markdown",
   "id": "a70c5559",
   "metadata": {},
   "source": [
    "#### Kings College"
   ]
  },
  {
   "cell_type": "code",
   "execution_count": 74,
   "id": "0871b190",
   "metadata": {},
   "outputs": [
    {
     "name": "stdout",
     "output_type": "stream",
     "text": [
      "Random Forest\n",
      "n_components: 12, accuracy:  1.0\n",
      "n_components: 12, precision:  1.0\n"
     ]
    }
   ],
   "source": [
    "# RF\n",
    "steps = [('pca', PCA(n_components=12)), ('m', ens.RandomForestClassifier(n_estimators = 500, criterion = \"entropy\"))]\n",
    "model_rf = Pipeline(steps = steps)\n",
    "\n",
    "model_rf.fit(X_new_k, y_new_k)\n",
    "y_pred = model_rf.predict(X_test_kings)\n",
    "\n",
    "rf_acc_scores = accuracy_score(y_test_kings, y_pred)\n",
    "rf_prec_scores = precision_score(y_test_kings, y_pred)\n",
    "\n",
    "print(\"Random Forest\")\n",
    "print('n_components: 12, accuracy: ', rf_acc_scores)\n",
    "print('n_components: 12, precision: ', rf_prec_scores)"
   ]
  },
  {
   "cell_type": "markdown",
   "id": "73163cc9",
   "metadata": {},
   "source": [
    "### XGBoost"
   ]
  },
  {
   "cell_type": "markdown",
   "id": "c36a8d70",
   "metadata": {},
   "source": [
    "#### Yale"
   ]
  },
  {
   "cell_type": "code",
   "execution_count": 75,
   "id": "632bdc54",
   "metadata": {},
   "outputs": [
    {
     "name": "stdout",
     "output_type": "stream",
     "text": [
      "XGBoost without PCA\n",
      "Accuracy:  0.45\n",
      "Precision:  1.0\n"
     ]
    }
   ],
   "source": [
    "#XGBoost\n",
    "from numpy import loadtxt\n",
    "from xgboost import XGBClassifier\n",
    "warnings.filterwarnings(\"ignore\")\n",
    "\n",
    "model_xg = XGBClassifier(eta = 0.1, max_depth = 4, scale_pos_weight = 0.25, \n",
    "                         eval_metric = \"error\", use_label_encoder = False)\n",
    "\n",
    "model_xg.fit(X_new_y, y_new_y)\n",
    "y_pred = model_xg.predict(X_test_yale)\n",
    "\n",
    "xg_acc_scores = accuracy_score(y_test_yale, y_pred)\n",
    "xg_prec_scores = precision_score(y_test_yale, y_pred)\n",
    "\n",
    "print(\"XGBoost without PCA\")\n",
    "print('Accuracy: ', xg_acc_scores)\n",
    "print('Precision: ', xg_prec_scores)"
   ]
  },
  {
   "cell_type": "code",
   "execution_count": 76,
   "id": "e8f19e8d",
   "metadata": {},
   "outputs": [
    {
     "data": {
      "text/plain": [
       "array([0, 0, 1, 0, 1, 0, 0, 1, 1, 0, 0, 1, 0, 1, 0, 0, 0, 0, 1, 0, 0, 0,\n",
       "       0, 1, 1, 0, 0, 0, 1, 0, 0, 0, 0, 0, 0, 0, 0, 0, 0, 0])"
      ]
     },
     "execution_count": 76,
     "metadata": {},
     "output_type": "execute_result"
    }
   ],
   "source": [
    "y_pred"
   ]
  },
  {
   "cell_type": "code",
   "execution_count": 77,
   "id": "ad3cce88",
   "metadata": {},
   "outputs": [
    {
     "data": {
      "text/plain": [
       "array([1, 1, 1, 1, 1, 1, 1, 1, 1, 1, 1, 1, 1, 1, 1, 1, 1, 1, 1, 1, 1, 1,\n",
       "       1, 1, 1, 1, 1, 1, 1, 1, 1, 1, 0, 0, 0, 0, 0, 0, 0, 0])"
      ]
     },
     "execution_count": 77,
     "metadata": {},
     "output_type": "execute_result"
    }
   ],
   "source": [
    "np.ravel(y_test_yale)"
   ]
  },
  {
   "cell_type": "markdown",
   "id": "6fe84cc1",
   "metadata": {},
   "source": [
    "#### Barcelona"
   ]
  },
  {
   "cell_type": "code",
   "execution_count": 78,
   "id": "7870637e",
   "metadata": {},
   "outputs": [
    {
     "name": "stdout",
     "output_type": "stream",
     "text": [
      "XGBoost without PCA\n",
      "Accuracy:  1.0\n",
      "Precision:  1.0\n"
     ]
    }
   ],
   "source": [
    "warnings.filterwarnings(\"ignore\")\n",
    "\n",
    "model_xg = XGBClassifier(eta = 0.1, max_depth = 4, scale_pos_weight = 0.25, \n",
    "                         eval_metric = \"error\", use_label_encoder = False)\n",
    "\n",
    "model_xg.fit(X_new_b, y_new_b)\n",
    "y_pred = model_xg.predict(X_test_bar)\n",
    "\n",
    "xg_acc_scores = accuracy_score(y_test_bar, y_pred)\n",
    "xg_prec_scores = precision_score(y_test_bar, y_pred)\n",
    "\n",
    "print(\"XGBoost without PCA\")\n",
    "print('Accuracy: ', xg_acc_scores)\n",
    "print('Precision: ', xg_prec_scores)"
   ]
  },
  {
   "cell_type": "markdown",
   "id": "c3ac2729",
   "metadata": {},
   "source": [
    "#### Kings College"
   ]
  },
  {
   "cell_type": "code",
   "execution_count": 79,
   "id": "264aa51d",
   "metadata": {},
   "outputs": [
    {
     "name": "stdout",
     "output_type": "stream",
     "text": [
      "XGBoost without PCA\n",
      "Accuracy:  1.0\n",
      "Precision:  1.0\n"
     ]
    }
   ],
   "source": [
    "warnings.filterwarnings(\"ignore\")\n",
    "\n",
    "model_xg = XGBClassifier(eta = 0.1, max_depth = 4, scale_pos_weight = 0.25, \n",
    "                         eval_metric = \"error\", use_label_encoder = False)\n",
    "\n",
    "model_xg.fit(X_new_k, y_new_k)\n",
    "y_pred = model_xg.predict(X_test_kings)\n",
    "\n",
    "xg_acc_scores = accuracy_score(y_test_kings, y_pred)\n",
    "xg_prec_scores = precision_score(y_test_kings, y_pred)\n",
    "\n",
    "print(\"XGBoost without PCA\")\n",
    "print('Accuracy: ', xg_acc_scores)\n",
    "print('Precision: ', xg_prec_scores)"
   ]
  },
  {
   "cell_type": "code",
   "execution_count": null,
   "id": "03943fe6",
   "metadata": {},
   "outputs": [],
   "source": []
  }
 ],
 "metadata": {
  "kernelspec": {
   "display_name": "Python 3 (ipykernel)",
   "language": "python",
   "name": "python3"
  },
  "language_info": {
   "codemirror_mode": {
    "name": "ipython",
    "version": 3
   },
   "file_extension": ".py",
   "mimetype": "text/x-python",
   "name": "python",
   "nbconvert_exporter": "python",
   "pygments_lexer": "ipython3",
   "version": "3.9.12"
  }
 },
 "nbformat": 4,
 "nbformat_minor": 5
}
