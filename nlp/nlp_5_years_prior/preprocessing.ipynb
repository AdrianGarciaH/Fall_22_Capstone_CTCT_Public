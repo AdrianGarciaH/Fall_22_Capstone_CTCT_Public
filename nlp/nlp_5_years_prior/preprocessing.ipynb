{
 "cells": [
  {
   "cell_type": "code",
   "execution_count": null,
   "id": "ec2d5b30",
   "metadata": {},
   "outputs": [],
   "source": [
    "import pandas as pd\n",
    "import numpy as np\n",
    "import string\n",
    "import re\n",
    "import nltk"
   ]
  },
  {
   "cell_type": "code",
   "execution_count": null,
   "id": "d47d836e",
   "metadata": {},
   "outputs": [],
   "source": [
    "# Loading our data\n",
    "cases = pd.read_csv('22_12_8_cases_filtered.cvs')\n",
    "control = pd.read_csv('22_12_8_control_filtered.csv')"
   ]
  },
  {
   "cell_type": "code",
   "execution_count": null,
   "id": "0794c46f",
   "metadata": {},
   "outputs": [],
   "source": [
    "### looking into the number of samples in controls and cases\n",
    "control['mrn_int'].nunique()"
   ]
  },
  {
   "cell_type": "code",
   "execution_count": null,
   "id": "67eff9d5",
   "metadata": {},
   "outputs": [],
   "source": [
    "### looking into the number of samples in controls and cases\n",
    "cases['mrn_int'].nunique()"
   ]
  },
  {
   "cell_type": "markdown",
   "id": "e9f7a19b",
   "metadata": {},
   "source": [
    "# Cases"
   ]
  },
  {
   "cell_type": "code",
   "execution_count": null,
   "id": "88b49452",
   "metadata": {},
   "outputs": [],
   "source": [
    "cases = cases[['mrn_int', 'note_text']]"
   ]
  },
  {
   "cell_type": "code",
   "execution_count": null,
   "id": "a1dc3e26",
   "metadata": {},
   "outputs": [],
   "source": [
    "cases"
   ]
  },
  {
   "cell_type": "code",
   "execution_count": null,
   "id": "332e2b13",
   "metadata": {},
   "outputs": [],
   "source": [
    "### We want to split the note_texts so that history of present illness is separe from the physical exam info\n",
    "\n",
    "# new columns\n",
    "cases[['history','exam']] = cases.note_text.str.split('Physical Exam', expand=True)"
   ]
  },
  {
   "cell_type": "markdown",
   "id": "618936b4",
   "metadata": {},
   "source": [
    "## cases - original text notes combined"
   ]
  },
  {
   "cell_type": "code",
   "execution_count": null,
   "id": "8907941c",
   "metadata": {},
   "outputs": [],
   "source": [
    "# first we group all patients by mrn and combined the original text_notes in full\n",
    "cases_original_combined = cases.groupby(['mrn_int'], as_index = False).agg({'note_text' : '\\n'.join})"
   ]
  },
  {
   "cell_type": "code",
   "execution_count": null,
   "id": "b10c85d9",
   "metadata": {},
   "outputs": [],
   "source": [
    "# Add a target column to the dataframes to note them as ctcl pateints\n",
    "cases_original_combined['target'] = \"ctcl\""
   ]
  },
  {
   "cell_type": "code",
   "execution_count": null,
   "id": "31b590cc",
   "metadata": {},
   "outputs": [],
   "source": [
    "cases_original_combined"
   ]
  },
  {
   "cell_type": "markdown",
   "id": "e160582f",
   "metadata": {},
   "source": [
    "## Cases - only history"
   ]
  },
  {
   "cell_type": "code",
   "execution_count": null,
   "id": "f19dfd78",
   "metadata": {},
   "outputs": [],
   "source": [
    "# first we group all patients by mrn and combined the history notee\n",
    "cases_history_combined = cases.groupby(['mrn_int'], as_index = False).agg({'history' : '\\n'.join})"
   ]
  },
  {
   "cell_type": "code",
   "execution_count": null,
   "id": "79fe1076",
   "metadata": {},
   "outputs": [],
   "source": [
    "# Add a target column to the dataframes to note them as ctcl pateints\n",
    "cases_history_combined['target'] = \"ctcl\""
   ]
  },
  {
   "cell_type": "code",
   "execution_count": null,
   "id": "210fb17b",
   "metadata": {},
   "outputs": [],
   "source": [
    "cases_history_combined"
   ]
  },
  {
   "cell_type": "markdown",
   "id": "21ad54a8",
   "metadata": {},
   "source": [
    "## Cases - only exam notes"
   ]
  },
  {
   "cell_type": "code",
   "execution_count": null,
   "id": "ca1f729c",
   "metadata": {},
   "outputs": [],
   "source": [
    "exam_data = cases[['mrn_int', 'exam']]\n",
    "# filter exam data to only inlcude non-na notes\n",
    "exam_data = exam_data[~exam_data['exam'].isna()]\n",
    "# group all patients by mrn and combined the exam notes\n",
    "cases_exam_combined = exam_data.groupby(['mrn_int'], as_index = False).agg({'exam' : '\\n'.join})"
   ]
  },
  {
   "cell_type": "code",
   "execution_count": null,
   "id": "9a5c178b",
   "metadata": {},
   "outputs": [],
   "source": [
    "cases_exam_combined['target'] = \"ctcl\""
   ]
  },
  {
   "cell_type": "code",
   "execution_count": null,
   "id": "d213a2ae",
   "metadata": {},
   "outputs": [],
   "source": [
    "cases_exam_combined"
   ]
  },
  {
   "cell_type": "markdown",
   "id": "75c7fb17",
   "metadata": {},
   "source": [
    "# Controls"
   ]
  },
  {
   "cell_type": "code",
   "execution_count": null,
   "id": "fe4df853",
   "metadata": {},
   "outputs": [],
   "source": [
    "control = control[['mrn_int', 'note_text']]"
   ]
  },
  {
   "cell_type": "code",
   "execution_count": null,
   "id": "7af7b2f3",
   "metadata": {},
   "outputs": [],
   "source": [
    "control"
   ]
  },
  {
   "cell_type": "code",
   "execution_count": null,
   "id": "748680c8",
   "metadata": {},
   "outputs": [],
   "source": [
    "### We want to split the note_texts so that history of present illness is separe from the physical exam info\n",
    "\n",
    "# new columns\n",
    "control[['history','exam', 'extra']] = control.note_text.str.split('Physical Exam', expand=True)"
   ]
  },
  {
   "cell_type": "code",
   "execution_count": null,
   "id": "d40c487b",
   "metadata": {},
   "outputs": [],
   "source": [
    "control"
   ]
  },
  {
   "cell_type": "markdown",
   "id": "e66c5988",
   "metadata": {},
   "source": [
    "## Control original notes"
   ]
  },
  {
   "cell_type": "code",
   "execution_count": null,
   "id": "c361adad",
   "metadata": {},
   "outputs": [],
   "source": [
    "# first we group all patients by mrn and combined the original notes\n",
    "control_original_combined = control.groupby(['mrn_int'], as_index = False).agg({'note_text' : '\\n'.join})\n",
    "# add target column\n",
    "control_original_combined['target'] = \"other\""
   ]
  },
  {
   "cell_type": "code",
   "execution_count": null,
   "id": "7a44b619",
   "metadata": {},
   "outputs": [],
   "source": [
    "control_original_combined"
   ]
  },
  {
   "cell_type": "markdown",
   "id": "d6e60e5e",
   "metadata": {},
   "source": [
    "## Control only history notes"
   ]
  },
  {
   "cell_type": "code",
   "execution_count": null,
   "id": "2bb9db2e",
   "metadata": {},
   "outputs": [],
   "source": [
    "# first we group all patients by mrn and combined the history notes\n",
    "control_history_combined = control.groupby(['mrn_int'], as_index = False).agg({'history' : '\\n'.join})\n",
    "# add target column\n",
    "control_history_combined['target'] = \"other\""
   ]
  },
  {
   "cell_type": "code",
   "execution_count": null,
   "id": "5b65f347",
   "metadata": {},
   "outputs": [],
   "source": [
    "control_history_combined"
   ]
  },
  {
   "cell_type": "markdown",
   "id": "7102a0de",
   "metadata": {},
   "source": [
    "## Control only exam notes"
   ]
  },
  {
   "cell_type": "code",
   "execution_count": null,
   "id": "ec2995e2",
   "metadata": {},
   "outputs": [],
   "source": [
    "exam_data = control[['mrn_int', 'exam']]\n",
    "# filter exam data to only inlcude non-na notes\n",
    "exam_data = exam_data[~exam_data['exam'].isna()]\n",
    "# group all patients by mrn and combined the exam notes\n",
    "control_exam_combined = exam_data.groupby(['mrn_int'], as_index = False).agg({'exam' : '\\n'.join})\n",
    "# add target column\n",
    "control_exam_combined['target'] = \"other\""
   ]
  },
  {
   "cell_type": "code",
   "execution_count": null,
   "id": "87bc3d76",
   "metadata": {},
   "outputs": [],
   "source": [
    "control_exam_combined"
   ]
  },
  {
   "cell_type": "markdown",
   "id": "cc469559",
   "metadata": {},
   "source": [
    "# Merging cases and controls and performing all preprocessing needed"
   ]
  },
  {
   "cell_type": "code",
   "execution_count": null,
   "id": "44e938e7",
   "metadata": {},
   "outputs": [],
   "source": [
    "# functions to be used:\n",
    "### Remove punctuations\n",
    "punct_to_remove = string.punctuation\n",
    "\n",
    "def remove_punct(text):\n",
    "    return text.translate(str.maketrans('', '', punct_to_remove))"
   ]
  },
  {
   "cell_type": "code",
   "execution_count": null,
   "id": "857e0776",
   "metadata": {},
   "outputs": [],
   "source": [
    "### Removing stop words\n",
    "from nltk.corpus import stopwords\n",
    "\n",
    "# This is the list of words thhat will be removed\n",
    "\", \".join(stopwords.words('english'))\n"
   ]
  },
  {
   "cell_type": "code",
   "execution_count": null,
   "id": "f59fb2a0",
   "metadata": {},
   "outputs": [],
   "source": [
    "### function to remove stop words\n",
    "STOPWORDS = set(stopwords.words('english'))\n",
    "def remove_stopwords(text):\n",
    "    return \" \".join([word for word in str(text).split() if word not in STOPWORDS])"
   ]
  },
  {
   "cell_type": "markdown",
   "id": "112884d5",
   "metadata": {},
   "source": [
    "## Original notes"
   ]
  },
  {
   "cell_type": "code",
   "execution_count": null,
   "id": "6a125a23",
   "metadata": {},
   "outputs": [],
   "source": [
    "# Combining cases and control into one dataframe\n",
    "original_combined = pd.concat([control_original_combined, cases_original_combined], axis = 0)"
   ]
  },
  {
   "cell_type": "code",
   "execution_count": null,
   "id": "d5387302",
   "metadata": {},
   "outputs": [],
   "source": [
    "### Make sure the items in the notes column are string values\n",
    "original_combined['note_text'] = original_combined['note_text'].astype(str)\n",
    "\n",
    "### set everything to lower case\n",
    "original_combined['note_text'] = original_combined['note_text'].str.lower()\n",
    "\n",
    "### Remove punctuation\n",
    "original_combined['note_text'] = original_combined['note_text'].apply(lambda text: remove_punct(text))\n",
    "\n",
    "### removing stop words\n",
    "original_combined['note_text'] = original_combined['note_text'].apply(lambda text: remove_stopwords(text))\n",
    "original_combined"
   ]
  },
  {
   "cell_type": "code",
   "execution_count": null,
   "id": "20dcba20",
   "metadata": {},
   "outputs": [],
   "source": [
    "### saving pre_processed data for future use\n",
    "original_combined.to_csv('22_12_08_original_data_preprocessed.csv', index = False)"
   ]
  },
  {
   "cell_type": "markdown",
   "id": "0a228d25",
   "metadata": {},
   "source": [
    "## History notes"
   ]
  },
  {
   "cell_type": "code",
   "execution_count": null,
   "id": "157832d5",
   "metadata": {},
   "outputs": [],
   "source": [
    "# Combining cases and control into one dataframe\n",
    "history_combined = pd.concat([control_history_combined, cases_history_combined], axis = 0)"
   ]
  },
  {
   "cell_type": "code",
   "execution_count": null,
   "id": "d12a23a6",
   "metadata": {},
   "outputs": [],
   "source": [
    "history_combined"
   ]
  },
  {
   "cell_type": "code",
   "execution_count": null,
   "id": "b1c921aa",
   "metadata": {},
   "outputs": [],
   "source": [
    "### Make sure the items in the notes column are string values\n",
    "history_combined['history'] = history_combined['history'].astype(str)\n",
    "\n",
    "### set everything to lower case\n",
    "history_combined['history'] = history_combined['history'].str.lower()\n",
    "\n",
    "### Remove punctuation\n",
    "history_combined['history'] = history_combined['history'].apply(lambda text: remove_punct(text))\n",
    "\n",
    "### removing stop words\n",
    "history_combined['history'] = history_combined['history'].apply(lambda text: remove_stopwords(text))\n",
    "history_combined"
   ]
  },
  {
   "cell_type": "code",
   "execution_count": null,
   "id": "f71548f3",
   "metadata": {},
   "outputs": [],
   "source": [
    "### saving pre_processed data for future use\n",
    "history_combined.to_csv('22_12_08_history_data_preprocessed.csv', index = False)"
   ]
  },
  {
   "cell_type": "markdown",
   "id": "a1ed6731",
   "metadata": {},
   "source": [
    "## Exam notes"
   ]
  },
  {
   "cell_type": "code",
   "execution_count": null,
   "id": "7060647c",
   "metadata": {},
   "outputs": [],
   "source": [
    "# Combining cases and control into one dataframe\n",
    "exam_combined = pd.concat([control_exam_combined, cases_exam_combined], axis = 0)\n",
    "exam_combined"
   ]
  },
  {
   "cell_type": "code",
   "execution_count": null,
   "id": "9251c7cb",
   "metadata": {},
   "outputs": [],
   "source": [
    "### Make sure the items in the notes column are string values\n",
    "exam_combined['exam'] = exam_combined['exam'].astype(str)\n",
    "\n",
    "### set everything to lower case\n",
    "exam_combined['exam'] = exam_combined['exam'].str.lower()\n",
    "\n",
    "### Remove punctuation\n",
    "exam_combined['exam'] = exam_combined['exam'].apply(lambda text: remove_punct(text))\n",
    "\n",
    "### removing stop words\n",
    "exam_combined['exam'] = exam_combined['exam'].apply(lambda text: remove_stopwords(text))\n",
    "exam_combined"
   ]
  },
  {
   "cell_type": "code",
   "execution_count": null,
   "id": "a0bc7953",
   "metadata": {},
   "outputs": [],
   "source": [
    "### saving pre_processed data for future use\n",
    "exam_combined.to_csv('22_12_08_exam_data_preprocessed.csv', index = False)"
   ]
  }
 ],
 "metadata": {
  "kernelspec": {
   "display_name": "Python 3 (ipykernel)",
   "language": "python",
   "name": "python3"
  },
  "language_info": {
   "codemirror_mode": {
    "name": "ipython",
    "version": 3
   },
   "file_extension": ".py",
   "mimetype": "text/x-python",
   "name": "python",
   "nbconvert_exporter": "python",
   "pygments_lexer": "ipython3",
   "version": "3.9.6"
  }
 },
 "nbformat": 4,
 "nbformat_minor": 5
}
