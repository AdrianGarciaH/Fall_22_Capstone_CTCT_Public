{
 "cells": [
  {
   "cell_type": "code",
   "execution_count": null,
   "id": "330fe7cb",
   "metadata": {},
   "outputs": [],
   "source": [
    "import pandas as pd\n",
    "import numpy as np\n",
    "import string\n",
    "import re\n",
    "import nltk"
   ]
  },
  {
   "cell_type": "markdown",
   "id": "542b7de3",
   "metadata": {},
   "source": [
    "# Cases Datasets"
   ]
  },
  {
   "cell_type": "code",
   "execution_count": null,
   "id": "3f11e355",
   "metadata": {},
   "outputs": [],
   "source": [
    "### Read in the data for cases from crown and epic \n",
    "crown_cases = pd.read_csv('RITM0414461_cases_crownnotes_11222022.csv', sep = '|')\n",
    "\n",
    "### it seems that the format of the epic notes has errors so we need a different way to load it. \n",
    "### Loop the data lines\n",
    "with open('RITM0414461_cases_epicnotes_11222022.csv', 'r') as temp_f:\n",
    "    # get No of columns in each line\n",
    "    col_count = [ len(l.split(\"|\")) for l in temp_f.readlines() ]\n",
    "\n",
    "### Generate column names  (names will be 0, 1, 2, ..., maximum columns - 1)\n",
    "column_names = [i for i in range(0, max(col_count))]\n",
    "\n",
    "### Read csv\n",
    "epic_cases = pd.read_csv('RITM0414461_cases_epicnotes_11222022.csv', header=None, delimiter=\"|\", names=column_names)\n",
    "\n",
    "### Reformatting to match our desired output\n",
    "epic = epic_cases[[0,1,2,3,4]]\n",
    "new_header = epic.iloc[0] # grab first row as column titles\n",
    "new_header[1] = 'primary_time' # change this to match format of crown notes\n",
    "epic_cases = epic[1:] # take all data except for our headere row\n",
    "epic_cases.columns = new_header"
   ]
  },
  {
   "cell_type": "code",
   "execution_count": null,
   "id": "5b333be8",
   "metadata": {},
   "outputs": [],
   "source": [
    "### Joining the data from crown and epic together\n",
    "combined_cases = pd.concat([crown_cases, epic_cases], axis = 0)"
   ]
  },
  {
   "cell_type": "code",
   "execution_count": null,
   "id": "fe7b6e76",
   "metadata": {},
   "outputs": [],
   "source": [
    "### some of the patient mrn are not intergers but others are saved as strings, to facilitate filtering we turn them all\n",
    "### into integers\n",
    "combined_cases['mrn_int'] = combined_cases['mrn'].astype(int)"
   ]
  },
  {
   "cell_type": "code",
   "execution_count": null,
   "id": "db79fc08",
   "metadata": {},
   "outputs": [],
   "source": [
    "### This is the number of total cases we have\n",
    "combined_cases['mrn_int'].nunique()"
   ]
  },
  {
   "cell_type": "code",
   "execution_count": null,
   "id": "1f435874",
   "metadata": {},
   "outputs": [],
   "source": [
    "combined_cases"
   ]
  },
  {
   "cell_type": "code",
   "execution_count": null,
   "id": "a5b5fc86",
   "metadata": {},
   "outputs": [],
   "source": [
    "### Filtering out any note that contains .TIF files as they don't contain relevant information. \n",
    "combined_cases = combined_cases[~combined_cases['note_text'].str.contains('.TIF')]"
   ]
  },
  {
   "cell_type": "code",
   "execution_count": null,
   "id": "3129f0f8",
   "metadata": {},
   "outputs": [],
   "source": [
    "### In collaboration with Celine, we identified the types of notes most likely to contain relevant information\n",
    "### This is the list of all such note types\n",
    "included_notes = ['CROWN DOCUMENT: FOLLOW-UP VISIT', 'CROWN DOCUMENT: CONSULT VISIT', 'CROWN DOCUMENT: LETTER(37)', \n",
    "        'CROWN DOCUMENT: INITIAL VISIT(237)', 'CROWN DOCUMENT: DERM ONCOLOGY FOLLOW-UP VISIT', \n",
    "         'CROWN DOCUMENT: SKIN CHECK', 'CROWN DOCUMENT: OFFICE VISIT (4992)', 'CROWN DOCUMENT: DERM ONCOLOGY INITIAL VISIT',\n",
    "        'Progress Note']"
   ]
  },
  {
   "cell_type": "code",
   "execution_count": null,
   "id": "beffdc1b",
   "metadata": {},
   "outputs": [],
   "source": [
    "### Filter our combined dataset to only include notes in our notes variable\n",
    "combined_cases = combined_cases[combined_cases['note_type'].isin(included_notes)]"
   ]
  },
  {
   "cell_type": "code",
   "execution_count": null,
   "id": "08e11deb",
   "metadata": {},
   "outputs": [],
   "source": [
    "combined_cases "
   ]
  },
  {
   "cell_type": "code",
   "execution_count": null,
   "id": "d9b5a6a0",
   "metadata": {},
   "outputs": [],
   "source": [
    "### Check how many total cases we have after this initial filtering\n",
    "combined_cases['mrn_int'].nunique()"
   ]
  },
  {
   "cell_type": "code",
   "execution_count": null,
   "id": "be8d4172",
   "metadata": {},
   "outputs": [],
   "source": [
    "### In collaboration with Celine, we combed through the data to identify cases that had been diagnosed with CTCL\n",
    "### prior to presenting at Columbia's clinic. We developed this list of cases to exclude based on the following \n",
    "### exclusion/inclusion rules:\n",
    "### Inclusion Criteria:\n",
    "###    Keeping referrals for second opinion\n",
    "###       Example: Case #1007649003\n",
    "###   \"Biopsy suspicious for CTCL\" include since not proven or confirmed and need a second look\n",
    "###       Case #1001592704\n",
    "###   “Biopsy suggestive of MF” include for now\n",
    "###       Case #1005663173\n",
    "###   “Biopsy possible for…”\n",
    "###       Case #1108648049\n",
    "\n",
    "###Exclusion Criteria:\n",
    "###   “Presumed CTCL” and already receiving treatment..,\n",
    "###   “CTCL - Stable” (not progressing)\n",
    "###   If the patient is referred and biopsy suggests they are referred with “biopsy-proven CTCL” (like if MF or SS)\n",
    "###   Follow up with stage …. CTCL\n",
    "###   Long-standing history of [CTCL]\n",
    "###   Patients who had CTCL but now stated in remission\n",
    "###   “Biopsy consistent with [CTCL]”\n",
    "###       Case #1006282786\n",
    "###       Case #1101500428\n",
    "###       Case #1101802402\n",
    "###   “Active problems: [CTCL]”\n",
    "###   Patient with CBCL\n",
    "###       Case #1007930353\n",
    "###   Biopsy showed [CTCL]\n",
    "###       Case #1009600340 \n",
    "###   Rarer types in CTCL:\n",
    "###       https://cco.amegroups.com/article/view/22497/22726\n",
    "###   “I saw and evaluated the patient in the presence of the resident” = short note\n",
    "###       Case# 1006737106\n",
    "###       Case# 1006302796\n",
    "###       Case# 1006302796\n",
    "\n",
    "\n",
    "excluded_list = [1000259251, 1000329432, 1000874121, 1001061868, 1001140346, 1003751850, 1004682204,\n",
    "                1005062609, 1006145192, 1006282786, 1007160076, 1007314993, 1007363393, 1007702230, 1007811994,\n",
    "                1007914161, 1007930353, 1008248780, 1009600340, 1009942637, 1010612454, 1010626685, 1100625065,\n",
    "                1101003667, 1101036042, 1101500428, 1101747607, 1102659389, 1103066551, 1103425341, 1200342512,\n",
    "                1200543276, 1200605444, 1200751396, 1203278083, 1003589509, 1005818261, 1006737106, 1005153485,\n",
    "                1006302796, 1007609954, 1008370743, 1009962331, 1010110283, 1100505424, 1101562657, 1101802402, \n",
    "                1101887093, 1102260112, 1103128747, 1200050989, 1200427883, 1200633868, 1203522425, 1400019781, \n",
    "                1400144470, 1400480255]"
   ]
  },
  {
   "cell_type": "code",
   "execution_count": null,
   "id": "60da801b",
   "metadata": {},
   "outputs": [],
   "source": [
    "### Filter our combined dataset to not include these cases\n",
    "combined_cases = combined_cases[~combined_cases['mrn_int'].isin(excluded_list)]"
   ]
  },
  {
   "cell_type": "code",
   "execution_count": null,
   "id": "83bae544",
   "metadata": {},
   "outputs": [],
   "source": [
    "combined_cases['mrn_int'].nunique()"
   ]
  },
  {
   "cell_type": "code",
   "execution_count": null,
   "id": "6322a79a",
   "metadata": {},
   "outputs": [],
   "source": [
    "combined_cases"
   ]
  },
  {
   "cell_type": "code",
   "execution_count": null,
   "id": "3575625c",
   "metadata": {},
   "outputs": [],
   "source": [
    "combined_cases.to_csv('cases_filtered.cvs',index = False)"
   ]
  },
  {
   "cell_type": "markdown",
   "id": "6221cd15",
   "metadata": {},
   "source": [
    "# Controls"
   ]
  },
  {
   "cell_type": "code",
   "execution_count": null,
   "id": "5e10ffd7",
   "metadata": {},
   "outputs": [],
   "source": [
    "### Reading in the cases from crown notes\n",
    "crown_control = pd.read_csv('RITM0414461_controls_crownnotes_11222022.csv', sep = '|')\n",
    "### it seems that the format of the epic notes has errors so we need a different way to load it. \n",
    "### Loop the data lines\n",
    "with open('RITM0414461_controls_epicnotes_11222022.csv', 'r') as temp_f:\n",
    "    # get No of columns in each line\n",
    "    col_count = [ len(l.split(\"|\")) for l in temp_f.readlines() ]\n",
    "\n",
    "### Generate column names  (names will be 0, 1, 2, ..., maximum columns - 1)\n",
    "column_names = [i for i in range(0, max(col_count))]\n",
    "\n",
    "### Read csv\n",
    "epic_control = pd.read_csv('RITM0414461_controls_epicnotes_11222022.csv', header=None, delimiter=\"|\", names=column_names)\n",
    "\n",
    "### Reformatting to match our desired output\n",
    "epic = epic_control[[0,1,2,3,4]]\n",
    "new_header = epic.iloc[0] # grab first row as column titles\n",
    "new_header[1] = 'primary_time' # change this to match format of crown notes\n",
    "epic_control = epic[1:] # take all data except for our headere row\n",
    "epic_control.columns = new_header\n"
   ]
  },
  {
   "cell_type": "code",
   "execution_count": null,
   "id": "e91fc5f6",
   "metadata": {},
   "outputs": [],
   "source": [
    "### Joining the data from crown and epic together\n",
    "combined_control = pd.concat([crown_control, epic_control], axis = 0)"
   ]
  },
  {
   "cell_type": "code",
   "execution_count": null,
   "id": "b314daa3",
   "metadata": {},
   "outputs": [],
   "source": [
    "combined_control"
   ]
  },
  {
   "cell_type": "code",
   "execution_count": null,
   "id": "ca005b6d",
   "metadata": {},
   "outputs": [],
   "source": [
    "### some of the patient mrn are not intergers but others are saved as strings, to facilitate filtering we turn them all\n",
    "### into integers\n",
    "combined_control['mrn_int'] = combined_control['mrn'].astype(int)"
   ]
  },
  {
   "cell_type": "code",
   "execution_count": null,
   "id": "5fe98414",
   "metadata": {},
   "outputs": [],
   "source": [
    "combined_control['mrn_int'].nunique()"
   ]
  },
  {
   "cell_type": "code",
   "execution_count": null,
   "id": "8ff09583",
   "metadata": {},
   "outputs": [],
   "source": [
    "### Filtering out any note that contains .TIF files\n",
    "combined_control = combined_control[~combined_control['note_text'].str.contains('.TIF')]"
   ]
  },
  {
   "cell_type": "code",
   "execution_count": null,
   "id": "760e2268",
   "metadata": {},
   "outputs": [],
   "source": [
    "### Filter our combined dataset to only include notes in our included_notes variable\n",
    "combined_control = combined_control[combined_control['note_type'].isin(included_notes)]"
   ]
  },
  {
   "cell_type": "code",
   "execution_count": null,
   "id": "62a028c2",
   "metadata": {},
   "outputs": [],
   "source": [
    "combined_control"
   ]
  },
  {
   "cell_type": "code",
   "execution_count": null,
   "id": "640efa4a",
   "metadata": {},
   "outputs": [],
   "source": [
    "combined_control['mrn_int'].nunique()"
   ]
  },
  {
   "cell_type": "code",
   "execution_count": null,
   "id": "14dfb5b6",
   "metadata": {},
   "outputs": [],
   "source": [
    "combined_control.to_csv('control_filtered.csv', index = False)"
   ]
  },
  {
   "cell_type": "code",
   "execution_count": null,
   "id": "0351e76a",
   "metadata": {},
   "outputs": [],
   "source": []
  }
 ],
 "metadata": {
  "kernelspec": {
   "display_name": "Python 3 (ipykernel)",
   "language": "python",
   "name": "python3"
  },
  "language_info": {
   "codemirror_mode": {
    "name": "ipython",
    "version": 3
   },
   "file_extension": ".py",
   "mimetype": "text/x-python",
   "name": "python",
   "nbconvert_exporter": "python",
   "pygments_lexer": "ipython3",
   "version": "3.9.6"
  }
 },
 "nbformat": 4,
 "nbformat_minor": 5
}
