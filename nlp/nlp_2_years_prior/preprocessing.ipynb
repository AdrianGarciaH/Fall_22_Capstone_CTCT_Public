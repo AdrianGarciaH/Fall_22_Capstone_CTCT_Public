{
 "cells": [
  {
   "cell_type": "code",
   "execution_count": null,
   "id": "71028e29",
   "metadata": {},
   "outputs": [],
   "source": [
    "import pandas as pd\n",
    "import numpy as np\n",
    "import string\n",
    "import re\n",
    "import nltk\n"
   ]
  },
  {
   "cell_type": "code",
   "execution_count": null,
   "id": "97bdebd5",
   "metadata": {},
   "outputs": [],
   "source": [
    "# Loading our data\n",
    "control = pd.read_csv('control_filtered.csv')\n",
    "cases = pd.read_csv('cases_filtered.csv')"
   ]
  },
  {
   "cell_type": "code",
   "execution_count": null,
   "id": "86e598e7",
   "metadata": {},
   "outputs": [],
   "source": [
    "### Strange - number of control patients does not equal what was expected\n",
    "control['mrn_int'].nunique()"
   ]
  },
  {
   "cell_type": "code",
   "execution_count": null,
   "id": "7d366ca6",
   "metadata": {},
   "outputs": [],
   "source": [
    "control"
   ]
  },
  {
   "cell_type": "code",
   "execution_count": null,
   "id": "6e37d05c",
   "metadata": {},
   "outputs": [],
   "source": [
    "### Strange - number of cases patients does not equal what was expected\n",
    "cases['mrn_int'].nunique()"
   ]
  },
  {
   "cell_type": "code",
   "execution_count": null,
   "id": "adee2e8a",
   "metadata": {},
   "outputs": [],
   "source": [
    "cases"
   ]
  },
  {
   "cell_type": "markdown",
   "id": "65e66ca4",
   "metadata": {},
   "source": [
    "### joining all notes by patient "
   ]
  },
  {
   "cell_type": "code",
   "execution_count": null,
   "id": "d44c96d4",
   "metadata": {},
   "outputs": [],
   "source": [
    "# Fist we will combined all teh control and case notes notes by patient into one note by patient\n",
    "control = control.groupby(['mrn_int'], as_index = False).agg({'note_text' : '\\n'.join})\n",
    "cases = cases.groupby(['mrn_int'], as_index = False).agg({'note_text' : '\\n'.join})"
   ]
  },
  {
   "cell_type": "code",
   "execution_count": null,
   "id": "4df40a29",
   "metadata": {},
   "outputs": [],
   "source": [
    "# Add a target column to the dataframes to note them as ctcl pateints or controls\n",
    "cases['target'] = \"ctcl\"\n",
    "control['target'] = \"other\""
   ]
  },
  {
   "cell_type": "code",
   "execution_count": null,
   "id": "e62b0d0b",
   "metadata": {},
   "outputs": [],
   "source": [
    "# Combining cases and control into one dataframe\n",
    "all_data = pd.concat([control, cases], axis = 0)"
   ]
  },
  {
   "cell_type": "code",
   "execution_count": null,
   "id": "d03e8ae2",
   "metadata": {},
   "outputs": [],
   "source": [
    "all_data[all_data['mrn_int'] == 1000005204]['note_text'][0]"
   ]
  },
  {
   "cell_type": "code",
   "execution_count": null,
   "id": "c0d07822",
   "metadata": {},
   "outputs": [],
   "source": [
    "# Lets save this as a csv file in case we need it for future reference \n",
    "all_data.to_csv('nlp_all_data.csv')"
   ]
  },
  {
   "cell_type": "markdown",
   "id": "ebeabc6e",
   "metadata": {},
   "source": [
    "### preprocessing"
   ]
  },
  {
   "cell_type": "code",
   "execution_count": null,
   "id": "1a2d7d63",
   "metadata": {},
   "outputs": [],
   "source": [
    "### Make sure the items in the notes column are string values\n",
    "all_data['note_text'] = all_data['note_text'].astype(str)"
   ]
  },
  {
   "cell_type": "code",
   "execution_count": null,
   "id": "89944f81",
   "metadata": {},
   "outputs": [],
   "source": [
    "### set everything to lower case\n",
    "all_data['note_text'] = all_data['note_text'].str.lower()"
   ]
  },
  {
   "cell_type": "code",
   "execution_count": null,
   "id": "b70deae8",
   "metadata": {},
   "outputs": [],
   "source": [
    "### Remove punctuations\n",
    "punct_to_remove = string.punctuation\n",
    "\n",
    "def remove_punct(text):\n",
    "    return text.translate(str.maketrans('', '', punct_to_remove))\n",
    "\n",
    "all_data['note_text'] = all_data['note_text'].apply(lambda text: remove_punct(text))"
   ]
  },
  {
   "cell_type": "code",
   "execution_count": null,
   "id": "ca6962e8",
   "metadata": {},
   "outputs": [],
   "source": [
    "all_data"
   ]
  },
  {
   "cell_type": "code",
   "execution_count": null,
   "id": "a0dd05ff",
   "metadata": {},
   "outputs": [],
   "source": [
    "### Removing stop words\n",
    "from nltk.corpus import stopwords\n",
    "\n",
    "# This is the list of words thhat will be removed\n",
    "\", \".join(stopwords.words('english'))"
   ]
  },
  {
   "cell_type": "code",
   "execution_count": null,
   "id": "1d7377ae",
   "metadata": {},
   "outputs": [],
   "source": [
    "STOPWORDS = set(stopwords.words('english'))\n",
    "def remove_stopwords(text):\n",
    "    return \" \".join([word for word in str(text).split() if word not in STOPWORDS])\n",
    "\n",
    "all_data['note_text'] = all_data['note_text'].apply(lambda text: remove_stopwords(text))\n",
    "all_data"
   ]
  },
  {
   "cell_type": "code",
   "execution_count": null,
   "id": "566e09ac",
   "metadata": {},
   "outputs": [],
   "source": [
    "### saving pre_processed data for future use\n",
    "all_data.to_csv('nlp_all_data_preprocessed.csv', index = False)"
   ]
  }
 ],
 "metadata": {
  "kernelspec": {
   "display_name": "Python 3 (ipykernel)",
   "language": "python",
   "name": "python3"
  },
  "language_info": {
   "codemirror_mode": {
    "name": "ipython",
    "version": 3
   },
   "file_extension": ".py",
   "mimetype": "text/x-python",
   "name": "python",
   "nbconvert_exporter": "python",
   "pygments_lexer": "ipython3",
   "version": "3.9.6"
  }
 },
 "nbformat": 4,
 "nbformat_minor": 5
}
