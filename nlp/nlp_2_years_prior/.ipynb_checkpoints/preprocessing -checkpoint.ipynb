{
 "cells": [
  {
   "cell_type": "code",
   "execution_count": 1,
   "id": "67e65335",
   "metadata": {},
   "outputs": [],
   "source": [
    "import pandas as pd\n",
    "import numpy as np\n",
    "import string\n",
    "import re\n",
    "import nltk\n"
   ]
  },
  {
   "cell_type": "code",
   "execution_count": 24,
   "id": "46f4866f",
   "metadata": {},
   "outputs": [],
   "source": [
    "# Loading our data\n",
    "control = pd.read_csv('control_filtered.csv')\n",
    "cases = pd.read_csv('cases_filtered.csv')"
   ]
  },
  {
   "cell_type": "code",
   "execution_count": 25,
   "id": "d0b524fb",
   "metadata": {},
   "outputs": [
    {
     "data": {
      "text/plain": [
       "2300"
      ]
     },
     "execution_count": 25,
     "metadata": {},
     "output_type": "execute_result"
    }
   ],
   "source": [
    "### Strange - number of control patients does not equal what was expected\n",
    "control['mrn'].nunique()"
   ]
  },
  {
   "cell_type": "code",
   "execution_count": 26,
   "id": "297515d4",
   "metadata": {},
   "outputs": [
    {
     "data": {
      "text/plain": [
       "201"
      ]
     },
     "execution_count": 26,
     "metadata": {},
     "output_type": "execute_result"
    }
   ],
   "source": [
    "### Strange - number of cases patients does not equal what was expected\n",
    "cases['mrn'].nunique()"
   ]
  },
  {
   "cell_type": "markdown",
   "id": "352a3c22",
   "metadata": {},
   "source": [
    "### joining all notes by patient "
   ]
  },
  {
   "cell_type": "code",
   "execution_count": 29,
   "id": "55a1f1a0",
   "metadata": {},
   "outputs": [],
   "source": [
    "# Fist we will combined all teh control and case notes notes by patient into one note by patient\n",
    "control = control.groupby(['mrn'], as_index = False).agg({'note_text' : '\\n'.join})\n",
    "cases = cases.groupby(['mrn'], as_index = False).agg({'note_text' : '\\n'.join})"
   ]
  },
  {
   "cell_type": "code",
   "execution_count": 31,
   "id": "43d2842b",
   "metadata": {},
   "outputs": [],
   "source": [
    "# Add a target column to the dataframes to note them as ctcl pateints or controls\n",
    "cases['target'] = \"ctcl\"\n",
    "control['target'] = \"other\""
   ]
  },
  {
   "cell_type": "code",
   "execution_count": 33,
   "id": "abb3bd5f",
   "metadata": {},
   "outputs": [],
   "source": [
    "# Combining cases and control into one dataframe\n",
    "all_data = pd.concat([control, cases], axis = 0)"
   ]
  },
  {
   "cell_type": "code",
   "execution_count": 35,
   "id": "5d462554",
   "metadata": {},
   "outputs": [],
   "source": [
    "# Lets save this as a csv file in case we need it for future reference \n",
    "all_data.to_csv('nlp_all_data.csv')"
   ]
  },
  {
   "cell_type": "markdown",
   "id": "b3d1b1d5",
   "metadata": {},
   "source": [
    "### preprocessing"
   ]
  },
  {
   "cell_type": "code",
   "execution_count": 36,
   "id": "a1e49fa9",
   "metadata": {},
   "outputs": [],
   "source": [
    "### Make sure the items in the notes column are string values\n",
    "all_data['note_text'] = all_data['note_text'].astype(str)"
   ]
  },
  {
   "cell_type": "code",
   "execution_count": 38,
   "id": "d089dfa0",
   "metadata": {},
   "outputs": [],
   "source": [
    "### set everything to lower case\n",
    "all_data['note_text'] = all_data['note_text'].str.lower()"
   ]
  },
  {
   "cell_type": "code",
   "execution_count": 40,
   "id": "27e3f34d",
   "metadata": {},
   "outputs": [],
   "source": [
    "### Remove punctuations\n",
    "punct_to_remove = string.punctuation\n",
    "\n",
    "def remove_punct(text):\n",
    "    return text.translate(str.maketrans('', '', punct_to_remove))\n",
    "\n",
    "all_data['note_text'] = all_data['note_text'].apply(lambda text: remove_punct(text))"
   ]
  },
  {
   "cell_type": "code",
   "execution_count": 41,
   "id": "8ef2ed12",
   "metadata": {},
   "outputs": [
    {
     "data": {
      "text/html": [
       "<div>\n",
       "<style scoped>\n",
       "    .dataframe tbody tr th:only-of-type {\n",
       "        vertical-align: middle;\n",
       "    }\n",
       "\n",
       "    .dataframe tbody tr th {\n",
       "        vertical-align: top;\n",
       "    }\n",
       "\n",
       "    .dataframe thead th {\n",
       "        text-align: right;\n",
       "    }\n",
       "</style>\n",
       "<table border=\"1\" class=\"dataframe\">\n",
       "  <thead>\n",
       "    <tr style=\"text-align: right;\">\n",
       "      <th></th>\n",
       "      <th>mrn</th>\n",
       "      <th>note_text</th>\n",
       "      <th>target</th>\n",
       "    </tr>\n",
       "  </thead>\n",
       "  <tbody>\n",
       "    <tr>\n",
       "      <th>0</th>\n",
       "      <td>1000005204</td>\n",
       "      <td>final     history of present illness       syl...</td>\n",
       "      <td>other</td>\n",
       "    </tr>\n",
       "    <tr>\n",
       "      <th>1</th>\n",
       "      <td>1000009671</td>\n",
       "      <td>final     referring provider     dr orli eting...</td>\n",
       "      <td>other</td>\n",
       "    </tr>\n",
       "    <tr>\n",
       "      <th>2</th>\n",
       "      <td>1000016467</td>\n",
       "      <td>amended final     history of present illness  ...</td>\n",
       "      <td>other</td>\n",
       "    </tr>\n",
       "    <tr>\n",
       "      <th>3</th>\n",
       "      <td>1000020839</td>\n",
       "      <td>final     history of present illness       co ...</td>\n",
       "      <td>other</td>\n",
       "    </tr>\n",
       "    <tr>\n",
       "      <th>4</th>\n",
       "      <td>1000026299</td>\n",
       "      <td>final     history of present illness       rog...</td>\n",
       "      <td>other</td>\n",
       "    </tr>\n",
       "    <tr>\n",
       "      <th>...</th>\n",
       "      <td>...</td>\n",
       "      <td>...</td>\n",
       "      <td>...</td>\n",
       "    </tr>\n",
       "    <tr>\n",
       "      <th>196</th>\n",
       "      <td>1400439110</td>\n",
       "      <td>follow up visit note  1132022        chief c...</td>\n",
       "      <td>ctcl</td>\n",
       "    </tr>\n",
       "    <tr>\n",
       "      <th>197</th>\n",
       "      <td>1400442752</td>\n",
       "      <td>history of present illness  chris ward is a 62...</td>\n",
       "      <td>ctcl</td>\n",
       "    </tr>\n",
       "    <tr>\n",
       "      <th>198</th>\n",
       "      <td>1400480255</td>\n",
       "      <td>i saw and evaluated the patient in the presenc...</td>\n",
       "      <td>ctcl</td>\n",
       "    </tr>\n",
       "    <tr>\n",
       "      <th>199</th>\n",
       "      <td>1400604108</td>\n",
       "      <td>history of present illness  vishnu pushpakaran...</td>\n",
       "      <td>ctcl</td>\n",
       "    </tr>\n",
       "    <tr>\n",
       "      <th>200</th>\n",
       "      <td>1400641710</td>\n",
       "      <td>initial visit note  382022        chief comp...</td>\n",
       "      <td>ctcl</td>\n",
       "    </tr>\n",
       "  </tbody>\n",
       "</table>\n",
       "<p>2501 rows × 3 columns</p>\n",
       "</div>"
      ],
      "text/plain": [
       "            mrn                                          note_text target\n",
       "0    1000005204  final     history of present illness       syl...  other\n",
       "1    1000009671  final     referring provider     dr orli eting...  other\n",
       "2    1000016467  amended final     history of present illness  ...  other\n",
       "3    1000020839  final     history of present illness       co ...  other\n",
       "4    1000026299  final     history of present illness       rog...  other\n",
       "..          ...                                                ...    ...\n",
       "196  1400439110    follow up visit note  1132022        chief c...   ctcl\n",
       "197  1400442752  history of present illness  chris ward is a 62...   ctcl\n",
       "198  1400480255  i saw and evaluated the patient in the presenc...   ctcl\n",
       "199  1400604108  history of present illness  vishnu pushpakaran...   ctcl\n",
       "200  1400641710    initial visit note  382022        chief comp...   ctcl\n",
       "\n",
       "[2501 rows x 3 columns]"
      ]
     },
     "execution_count": 41,
     "metadata": {},
     "output_type": "execute_result"
    }
   ],
   "source": [
    "all_data"
   ]
  },
  {
   "cell_type": "code",
   "execution_count": 44,
   "id": "ffcecc6e",
   "metadata": {},
   "outputs": [
    {
     "data": {
      "text/plain": [
       "\"i, me, my, myself, we, our, ours, ourselves, you, you're, you've, you'll, you'd, your, yours, yourself, yourselves, he, him, his, himself, she, she's, her, hers, herself, it, it's, its, itself, they, them, their, theirs, themselves, what, which, who, whom, this, that, that'll, these, those, am, is, are, was, were, be, been, being, have, has, had, having, do, does, did, doing, a, an, the, and, but, if, or, because, as, until, while, of, at, by, for, with, about, against, between, into, through, during, before, after, above, below, to, from, up, down, in, out, on, off, over, under, again, further, then, once, here, there, when, where, why, how, all, any, both, each, few, more, most, other, some, such, no, nor, not, only, own, same, so, than, too, very, s, t, can, will, just, don, don't, should, should've, now, d, ll, m, o, re, ve, y, ain, aren, aren't, couldn, couldn't, didn, didn't, doesn, doesn't, hadn, hadn't, hasn, hasn't, haven, haven't, isn, isn't, ma, mightn, mightn't, mustn, mustn't, needn, needn't, shan, shan't, shouldn, shouldn't, wasn, wasn't, weren, weren't, won, won't, wouldn, wouldn't\""
      ]
     },
     "execution_count": 44,
     "metadata": {},
     "output_type": "execute_result"
    }
   ],
   "source": [
    "### Removing stop words\n",
    "from nltk.corpus import stopwords\n",
    "\n",
    "# This is the list of words thhat will be removed\n",
    "\", \".join(stopwords.words('english'))\n"
   ]
  },
  {
   "cell_type": "code",
   "execution_count": 47,
   "id": "93d32c7c",
   "metadata": {},
   "outputs": [
    {
     "data": {
      "text/html": [
       "<div>\n",
       "<style scoped>\n",
       "    .dataframe tbody tr th:only-of-type {\n",
       "        vertical-align: middle;\n",
       "    }\n",
       "\n",
       "    .dataframe tbody tr th {\n",
       "        vertical-align: top;\n",
       "    }\n",
       "\n",
       "    .dataframe thead th {\n",
       "        text-align: right;\n",
       "    }\n",
       "</style>\n",
       "<table border=\"1\" class=\"dataframe\">\n",
       "  <thead>\n",
       "    <tr style=\"text-align: right;\">\n",
       "      <th></th>\n",
       "      <th>mrn</th>\n",
       "      <th>note_text</th>\n",
       "      <th>target</th>\n",
       "    </tr>\n",
       "  </thead>\n",
       "  <tbody>\n",
       "    <tr>\n",
       "      <th>0</th>\n",
       "      <td>1000005204</td>\n",
       "      <td>final history present illness sylvia fuhrman 9...</td>\n",
       "      <td>other</td>\n",
       "    </tr>\n",
       "    <tr>\n",
       "      <th>1</th>\n",
       "      <td>1000009671</td>\n",
       "      <td>final referring provider dr orli etingin 21274...</td>\n",
       "      <td>other</td>\n",
       "    </tr>\n",
       "    <tr>\n",
       "      <th>2</th>\n",
       "      <td>1000016467</td>\n",
       "      <td>amended final history present illness melissa ...</td>\n",
       "      <td>other</td>\n",
       "    </tr>\n",
       "    <tr>\n",
       "      <th>3</th>\n",
       "      <td>1000020839</td>\n",
       "      <td>final history present illness co flare rosacea...</td>\n",
       "      <td>other</td>\n",
       "    </tr>\n",
       "    <tr>\n",
       "      <th>4</th>\n",
       "      <td>1000026299</td>\n",
       "      <td>final history present illness roger altman 66 ...</td>\n",
       "      <td>other</td>\n",
       "    </tr>\n",
       "    <tr>\n",
       "      <th>...</th>\n",
       "      <td>...</td>\n",
       "      <td>...</td>\n",
       "      <td>...</td>\n",
       "    </tr>\n",
       "    <tr>\n",
       "      <th>196</th>\n",
       "      <td>1400439110</td>\n",
       "      <td>follow visit note 1132022 chief complaint 1 sk...</td>\n",
       "      <td>ctcl</td>\n",
       "    </tr>\n",
       "    <tr>\n",
       "      <th>197</th>\n",
       "      <td>1400442752</td>\n",
       "      <td>history present illness chris ward 62 year old...</td>\n",
       "      <td>ctcl</td>\n",
       "    </tr>\n",
       "    <tr>\n",
       "      <th>198</th>\n",
       "      <td>1400480255</td>\n",
       "      <td>saw evaluated patient presence resident provid...</td>\n",
       "      <td>ctcl</td>\n",
       "    </tr>\n",
       "    <tr>\n",
       "      <th>199</th>\n",
       "      <td>1400604108</td>\n",
       "      <td>history present illness vishnu pushpakaran pil...</td>\n",
       "      <td>ctcl</td>\n",
       "    </tr>\n",
       "    <tr>\n",
       "      <th>200</th>\n",
       "      <td>1400641710</td>\n",
       "      <td>initial visit note 382022 chief complaint 1 ct...</td>\n",
       "      <td>ctcl</td>\n",
       "    </tr>\n",
       "  </tbody>\n",
       "</table>\n",
       "<p>2501 rows × 3 columns</p>\n",
       "</div>"
      ],
      "text/plain": [
       "            mrn                                          note_text target\n",
       "0    1000005204  final history present illness sylvia fuhrman 9...  other\n",
       "1    1000009671  final referring provider dr orli etingin 21274...  other\n",
       "2    1000016467  amended final history present illness melissa ...  other\n",
       "3    1000020839  final history present illness co flare rosacea...  other\n",
       "4    1000026299  final history present illness roger altman 66 ...  other\n",
       "..          ...                                                ...    ...\n",
       "196  1400439110  follow visit note 1132022 chief complaint 1 sk...   ctcl\n",
       "197  1400442752  history present illness chris ward 62 year old...   ctcl\n",
       "198  1400480255  saw evaluated patient presence resident provid...   ctcl\n",
       "199  1400604108  history present illness vishnu pushpakaran pil...   ctcl\n",
       "200  1400641710  initial visit note 382022 chief complaint 1 ct...   ctcl\n",
       "\n",
       "[2501 rows x 3 columns]"
      ]
     },
     "execution_count": 47,
     "metadata": {},
     "output_type": "execute_result"
    }
   ],
   "source": [
    "STOPWORDS = set(stopwords.words('english'))\n",
    "def remove_stopwords(text):\n",
    "    return \" \".join([word for word in str(text).split() if word not in STOPWORDS])\n",
    "\n",
    "all_data['note_text'] = all_data['note_text'].apply(lambda text: remove_stopwords(text))\n",
    "all_data"
   ]
  },
  {
   "cell_type": "code",
   "execution_count": 48,
   "id": "8ef2953b",
   "metadata": {},
   "outputs": [],
   "source": [
    "### saving pre_processed data for future use\n",
    "all_data.to_csv('nlp_all_data_preprocessed.csv')"
   ]
  },
  {
   "cell_type": "code",
   "execution_count": null,
   "id": "2e5a173a",
   "metadata": {},
   "outputs": [],
   "source": []
  }
 ],
 "metadata": {
  "kernelspec": {
   "display_name": "Python 3 (ipykernel)",
   "language": "python",
   "name": "python3"
  },
  "language_info": {
   "codemirror_mode": {
    "name": "ipython",
    "version": 3
   },
   "file_extension": ".py",
   "mimetype": "text/x-python",
   "name": "python",
   "nbconvert_exporter": "python",
   "pygments_lexer": "ipython3",
   "version": "3.9.6"
  }
 },
 "nbformat": 4,
 "nbformat_minor": 5
}
