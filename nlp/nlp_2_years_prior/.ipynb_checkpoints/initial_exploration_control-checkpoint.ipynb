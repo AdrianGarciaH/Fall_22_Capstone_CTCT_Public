{
 "cells": [
  {
   "cell_type": "code",
   "execution_count": null,
   "id": "28fe071b",
   "metadata": {},
   "outputs": [],
   "source": [
    "import pandas as pd\n",
    "import numpy as np\n",
    "import string\n",
    "import re\n",
    "import nltk\n"
   ]
  },
  {
   "cell_type": "code",
   "execution_count": null,
   "id": "5d0f1e66",
   "metadata": {},
   "outputs": [],
   "source": [
    "### Reading in the cases from crown notes\n",
    "crown_control = pd.read_csv('RITM0414461_controls_crownnotes_11172022.csv', sep = '|')\n"
   ]
  },
  {
   "cell_type": "code",
   "execution_count": null,
   "id": "5d1f8698",
   "metadata": {},
   "outputs": [],
   "source": [
    "crown_control"
   ]
  },
  {
   "cell_type": "code",
   "execution_count": null,
   "id": "5c241dea",
   "metadata": {},
   "outputs": [],
   "source": [
    "sample = crown_control[crown_control['mrn'] == 1000405138]"
   ]
  },
  {
   "cell_type": "code",
   "execution_count": null,
   "id": "55ff48f0",
   "metadata": {},
   "outputs": [],
   "source": [
    "sample['primary_time'].max()"
   ]
  },
  {
   "cell_type": "code",
   "execution_count": null,
   "id": "b5c581d4",
   "metadata": {},
   "outputs": [],
   "source": [
    "sample['primary_time'].min()"
   ]
  },
  {
   "cell_type": "code",
   "execution_count": null,
   "id": "4d8d96cb",
   "metadata": {},
   "outputs": [],
   "source": [
    "### it seems that the format of the epic notes has errors so we need a different way to load it. \n",
    "### Loop the data lines\n",
    "with open('RITM0414461_controls_epicnotes_11172022.csv', 'r') as temp_f:\n",
    "    # get No of columns in each line\n",
    "    col_count = [ len(l.split(\"|\")) for l in temp_f.readlines() ]\n",
    "\n",
    "### Generate column names  (names will be 0, 1, 2, ..., maximum columns - 1)\n",
    "column_names = [i for i in range(0, max(col_count))]\n",
    "\n",
    "### Read csv\n",
    "epic_control = pd.read_csv('RITM0414461_controls_epicnotes_11172022.csv', header=None, delimiter=\"|\", names=column_names)\n"
   ]
  },
  {
   "cell_type": "code",
   "execution_count": null,
   "id": "b9567a67",
   "metadata": {},
   "outputs": [],
   "source": [
    "epic_control"
   ]
  },
  {
   "cell_type": "code",
   "execution_count": null,
   "id": "07edbedd",
   "metadata": {},
   "outputs": [],
   "source": [
    "epic_control[epic_control[6].notna()]"
   ]
  },
  {
   "cell_type": "code",
   "execution_count": null,
   "id": "c0061631",
   "metadata": {},
   "outputs": [],
   "source": [
    "### Reformatting to match our desired output\n",
    "epic = epic_control[[0,1,2,3,4]]\n",
    "new_header = epic.iloc[0] # grab first row as column titles\n",
    "new_header[1] = 'primary_time' # change this to match format of crown notes\n",
    "epic_control = epic[1:] # take all data except for our headere row\n",
    "epic_control.columns = new_header\n",
    "epic_control"
   ]
  },
  {
   "cell_type": "code",
   "execution_count": null,
   "id": "e2b4c76d",
   "metadata": {},
   "outputs": [],
   "source": [
    "### Joining the data from crown and epic together\n",
    "combined_control = pd.concat([crown_control, epic_control], axis = 0)"
   ]
  },
  {
   "cell_type": "code",
   "execution_count": null,
   "id": "3b7c505c",
   "metadata": {},
   "outputs": [],
   "source": [
    "combined_control['mrn_int'] = combined_control['mrn'].astype(int) "
   ]
  },
  {
   "cell_type": "code",
   "execution_count": null,
   "id": "638dd7f8",
   "metadata": {},
   "outputs": [],
   "source": [
    "### This is the number of total cases wee have\n",
    "combined_control['mrn_int'].nunique()"
   ]
  },
  {
   "cell_type": "code",
   "execution_count": null,
   "id": "db915ae5",
   "metadata": {},
   "outputs": [],
   "source": [
    "combined_control"
   ]
  },
  {
   "cell_type": "code",
   "execution_count": null,
   "id": "6be49a44",
   "metadata": {},
   "outputs": [],
   "source": [
    "### Filtering out any note that contains .TIF files\n",
    "combined_control = combined_control[~combined_control['note_text'].str.contains('.TIF')]"
   ]
  },
  {
   "cell_type": "code",
   "execution_count": null,
   "id": "95a31d80",
   "metadata": {},
   "outputs": [],
   "source": [
    "### Taking a look at all other note types\n",
    "combined_control['note_type'].unique()"
   ]
  },
  {
   "cell_type": "code",
   "execution_count": null,
   "id": "3d91a14c",
   "metadata": {},
   "outputs": [],
   "source": [
    "### The following are examples of the not types we will be including in our analysis"
   ]
  },
  {
   "cell_type": "code",
   "execution_count": null,
   "id": "a93c4133",
   "metadata": {},
   "outputs": [],
   "source": [
    "notes = ['CROWN DOCUMENT: FOLLOW-UP VISIT', 'CROWN DOCUMENT: CONSULT VISIT', 'CROWN DOCUMENT: LETTER(37)', \n",
    "        'CROWN DOCUMENT: INITIAL VISIT(237)', 'CROWN DOCUMENT: DERM ONCOLOGY FOLLOW-UP VISIT', \n",
    "         'CROWN DOCUMENT: SKIN CHECK', 'CROWN DOCUMENT: OFFICE VISIT (4992)', 'CROWN DOCUMENT: DERM ONCOLOGY INITIAL VISIT',\n",
    "        'Progress Note']"
   ]
  },
  {
   "cell_type": "code",
   "execution_count": null,
   "id": "4ea76830",
   "metadata": {},
   "outputs": [],
   "source": [
    "### Filter our combined dataset to only include notes in our notes variable\n",
    "combined_control = combined_control[combined_control['note_type'].isin(notes)]"
   ]
  },
  {
   "cell_type": "code",
   "execution_count": null,
   "id": "10ade11f",
   "metadata": {},
   "outputs": [],
   "source": [
    "combined_control"
   ]
  },
  {
   "cell_type": "code",
   "execution_count": null,
   "id": "ad8e7b2b",
   "metadata": {},
   "outputs": [],
   "source": [
    "combined_control['mrn_int'].nunique()"
   ]
  },
  {
   "cell_type": "code",
   "execution_count": null,
   "id": "29b48fd4",
   "metadata": {},
   "outputs": [],
   "source": [
    "combined_control['target'] = 'other'"
   ]
  },
  {
   "cell_type": "code",
   "execution_count": null,
   "id": "f4cc360a",
   "metadata": {},
   "outputs": [],
   "source": [
    "combined_control.to_csv('control_filtered.csv', index = False)"
   ]
  }
 ],
 "metadata": {
  "kernelspec": {
   "display_name": "Python 3 (ipykernel)",
   "language": "python",
   "name": "python3"
  },
  "language_info": {
   "codemirror_mode": {
    "name": "ipython",
    "version": 3
   },
   "file_extension": ".py",
   "mimetype": "text/x-python",
   "name": "python",
   "nbconvert_exporter": "python",
   "pygments_lexer": "ipython3",
   "version": "3.9.6"
  }
 },
 "nbformat": 4,
 "nbformat_minor": 5
}
