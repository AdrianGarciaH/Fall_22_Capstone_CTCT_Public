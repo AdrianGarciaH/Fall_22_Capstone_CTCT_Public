{
 "cells": [
  {
   "cell_type": "code",
   "execution_count": 1,
   "id": "330fe7cb",
   "metadata": {},
   "outputs": [],
   "source": [
    "import pandas as pd\n",
    "import numpy as np\n",
    "import string\n",
    "import re\n",
    "import nltk"
   ]
  },
  {
   "cell_type": "code",
   "execution_count": null,
   "id": "3f11e355",
   "metadata": {},
   "outputs": [],
   "source": [
    "### Read in the data for cases from crown and epic \n",
    "crown_cases = pd.read_csv('RITM0414461_cases_crownnotes_11172022.csv', sep = '|')\n",
    "\n",
    "### it seems that the format of the epic notes has errors so we need a different way to load it. \n",
    "### Loop the data lines\n",
    "with open('RITM0414461_cases_epicnotes_11172022.csv', 'r') as temp_f:\n",
    "    # get No of columns in each line\n",
    "    col_count = [ len(l.split(\"|\")) for l in temp_f.readlines() ]\n",
    "\n",
    "### Generate column names  (names will be 0, 1, 2, ..., maximum columns - 1)\n",
    "column_names = [i for i in range(0, max(col_count))]\n",
    "\n",
    "### Read csv\n",
    "epic_cases = pd.read_csv('RITM0414461_cases_epicnotes_11172022.csv', header=None, delimiter=\"|\", names=column_names)\n",
    "\n",
    "### Reformatting to match our desired output\n",
    "epic = epic_cases[[0,1,2,3,4]]\n",
    "new_header = epic.iloc[0] # grab first row as column titles\n",
    "new_header[1] = 'primary_time' # change this to match format of crown notes\n",
    "epic_cases = epic[1:] # take all data except for our headere row\n",
    "epic_cases.columns = new_header\n",
    "epic_cases"
   ]
  },
  {
   "cell_type": "code",
   "execution_count": null,
   "id": "71ec7d13",
   "metadata": {},
   "outputs": [],
   "source": [
    "crown_cases['mrn'].nunique()"
   ]
  },
  {
   "cell_type": "code",
   "execution_count": null,
   "id": "dcd0d50e",
   "metadata": {},
   "outputs": [],
   "source": [
    "epic_cases['mrn'].nunique()"
   ]
  },
  {
   "cell_type": "code",
   "execution_count": null,
   "id": "5b333be8",
   "metadata": {},
   "outputs": [],
   "source": [
    "### Joining the data from crown and epic together\n",
    "combined_cases = pd.concat([crown_cases, epic_cases], axis = 0)"
   ]
  },
  {
   "cell_type": "code",
   "execution_count": null,
   "id": "db79fc08",
   "metadata": {},
   "outputs": [],
   "source": [
    "### This is the number of total cases wee have\n",
    "combined_cases['mrn'].nunique()"
   ]
  },
  {
   "cell_type": "code",
   "execution_count": null,
   "id": "a5b5fc86",
   "metadata": {},
   "outputs": [],
   "source": [
    "### Filtering out any note that contains .TIF files\n",
    "combined_cases = combined_cases[~combined_cases['note_text'].str.contains('.TIF')]"
   ]
  },
  {
   "cell_type": "code",
   "execution_count": null,
   "id": "3129f0f8",
   "metadata": {},
   "outputs": [],
   "source": [
    "### This is the list of note types we will use in our analysis\n",
    "notes = ['CROWN DOCUMENT: FOLLOW-UP VISIT', 'CROWN DOCUMENT: CONSULT VISIT', 'CROWN DOCUMENT: LETTER(37)', \n",
    "        'CROWN DOCUMENT: INITIAL VISIT(237)', 'CROWN DOCUMENT: DERM ONCOLOGY FOLLOW-UP VISIT', \n",
    "         'CROWN DOCUMENT: SKIN CHECK', 'CROWN DOCUMENT: OFFICE VISIT (4992)', 'CROWN DOCUMENT: DERM ONCOLOGY INITIAL VISIT',\n",
    "        'Progress Note']"
   ]
  },
  {
   "cell_type": "code",
   "execution_count": null,
   "id": "beffdc1b",
   "metadata": {},
   "outputs": [],
   "source": [
    "### Filter our combined dataset to only include notes in our notes variable\n",
    "combined_cases = combined_cases[combined_cases['note_type'].isin(notes)]"
   ]
  },
  {
   "cell_type": "code",
   "execution_count": null,
   "id": "d9b5a6a0",
   "metadata": {},
   "outputs": [],
   "source": [
    "### Check how many total cases we have after this initial filtering\n",
    "combined_cases['mrn'].nunique()"
   ]
  },
  {
   "cell_type": "code",
   "execution_count": null,
   "id": "943ce4b0",
   "metadata": {},
   "outputs": [],
   "source": [
    "### sort "
   ]
  },
  {
   "cell_type": "code",
   "execution_count": null,
   "id": "016116cf",
   "metadata": {},
   "outputs": [],
   "source": []
  }
 ],
 "metadata": {
  "kernelspec": {
   "display_name": "Python 3 (ipykernel)",
   "language": "python",
   "name": "python3"
  },
  "language_info": {
   "codemirror_mode": {
    "name": "ipython",
    "version": 3
   },
   "file_extension": ".py",
   "mimetype": "text/x-python",
   "name": "python",
   "nbconvert_exporter": "python",
   "pygments_lexer": "ipython3",
   "version": "3.9.6"
  }
 },
 "nbformat": 4,
 "nbformat_minor": 5
}
