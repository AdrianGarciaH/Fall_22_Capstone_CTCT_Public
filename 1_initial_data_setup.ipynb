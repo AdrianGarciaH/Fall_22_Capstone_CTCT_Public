{
 "cells": [
  {
   "cell_type": "code",
   "execution_count": null,
   "metadata": {},
   "outputs": [],
   "source": [
    "#IMPORT \"PACKAGES\" (COLLECTIONS OF PRE-DEFINED PYTHON FUNCTIONS)\n",
    "import pandas as pd\n",
    "import numpy as np\n",
    "import math as m\n",
    "import random as rand\n",
    "import matplotlib.pyplot as plt\n",
    "import re\n",
    "from datetime import datetime"
   ]
  },
  {
   "cell_type": "code",
   "execution_count": null,
   "metadata": {},
   "outputs": [],
   "source": [
    "#READ IN ORIGINAL SHEET (CONVERTED TO .csv IN GOOGLE SHEETS)\n",
    "df = pd.read_csv(\"Homebase.csv\", header = 1)"
   ]
  },
  {
   "cell_type": "code",
   "execution_count": null,
   "metadata": {},
   "outputs": [],
   "source": [
    "#DEFINING A FUNCTION TO UPDATE COLUMN NAMES LATER\n",
    "def lower_no_space(word): #I LABELED MY INPUT VARIABLE \"WORD\" BECAUSE THIS FUNCTION IS FOR WORDS\n",
    "    \n",
    "    #REGUGLAR EXPRESSIONS ARE REALLY COMMON FUNCTIONS FOR \"STRING\" (LETTERS) PARSING\n",
    "    #THIS ONE REPLACES ONE CHARACTER WITH ANOTHER (SPACES AREN'T GREAT IN CODING)\n",
    "    word = re.sub(' ', '_', word) #SETTING WORD EQUAL TO THE REGEX OUTPUT TO UPDATE IT\n",
    "    \n",
    "    word = re.sub(r'\\'', '', word) #\\ IS WEIRD IN PYTHON - HAVE TO USE r OTHERWISE THE QUOTES WON'T CLOSE\n",
    "    \n",
    "    word = re.sub(r'\\(', '', word)\n",
    "    \n",
    "    word = re.sub(r'\\)', '', word)\n",
    "    \n",
    "    word = re.sub('\\?', '', word)\n",
    "    \n",
    "    word = re.sub('/', '_', word)\n",
    "    \n",
    "    #THIS MAKES THE STRING ALL LOWER CASE (I PREFER ALL ONE CASE)\n",
    "    word = word.lower()\n",
    "    \n",
    "    #\"RETURN\" DEFINES WHAT THE FUNCTION SHOULD OUTPUT\n",
    "    return word"
   ]
  },
  {
   "cell_type": "code",
   "execution_count": null,
   "metadata": {},
   "outputs": [],
   "source": [
    "#RENAMING COLUMNS\n",
    "df = df.rename(mapper = lower_no_space, axis = 1) #MAPPER SETS THE FUNCTION TO USE ON EACH COLUMN NAME, \n",
    "                                                  #AXIS DEFINES WHICH AXIS (0 OR 1) OF THE DATAFRAME"
   ]
  },
  {
   "cell_type": "code",
   "execution_count": null,
   "metadata": {},
   "outputs": [],
   "source": [
    "#ONE PATIENT ID HAS NO INFO; THIS SYNTAX FILTERS OUT OBSERVATIONS BASED ON A COLUMN VALUE\n",
    "#HERE, THE COLUMN IS PATIENT_ID; != MEANS \"DOES NOT EQUAL\"\n",
    "df = df[df['patient_id'] != '842-2']"
   ]
  },
  {
   "cell_type": "code",
   "execution_count": null,
   "metadata": {},
   "outputs": [],
   "source": [
    "df.head()"
   ]
  },
  {
   "cell_type": "code",
   "execution_count": null,
   "metadata": {},
   "outputs": [],
   "source": [
    "#SEEING IF THERE ARE DUPLICATES; len() GIVES THE LENGTH OF SOMETHING; set() GIVES UNIQUE VALUES IN A LIST\n",
    "#ANY NON-ZERO VALUE MEANS WE HAVE DUPES IN COLUMN NAMES - NOT GREAT\n",
    "len(df.columns) - len(set(df.columns))"
   ]
  },
  {
   "cell_type": "code",
   "execution_count": null,
   "metadata": {},
   "outputs": [],
   "source": [
    "#THIS IS CODE I FOUND ONLINE FOR GETTING THE DUPES\n",
    "s = pd.concat([df.columns.to_series()])\n",
    "\n",
    "# keep all duplicates only, then extract unique names\n",
    "res = s[s.duplicated(keep=False)].unique()\n",
    "\n",
    "res #NOTE THAT ALL HAVE 'treatment' IN IT"
   ]
  },
  {
   "cell_type": "code",
   "execution_count": null,
   "metadata": {},
   "outputs": [],
   "source": [
    "#DATE VARIABLES WERE READ IN AS \"OBJECT\" TYPES; CONVERTING TO DATETIMEs\n",
    "\n",
    "#FOR LOOPS APPLY CODE TO EVERY OBJECT IN THE \"FOR\" STATEMENT\n",
    "#HERE, THAT MEANS EACH COLUMN (COL) IN THE LIST OF DATAFRAME COLUMNS\n",
    "for col in df.columns:\n",
    "    if 'date' in col and 'treatment' not in col:\n",
    "        df[col] = pd.to_datetime(df[col])\n",
    "        #DID NOT INCLUDE TREATMENT VARS BECAUSE IT BREAKS THE to_datetime() FUNCTION "
   ]
  },
  {
   "cell_type": "code",
   "execution_count": null,
   "metadata": {},
   "outputs": [],
   "source": [
    "#NEED TO HAVE SOME VALUE FOR TIME FOR SURVIVAL ANALYSIS, REGARDLESS OF WHETHER OR NOT SOMEONE DIES\n",
    "#CREATING NEW VAR EQUAL TO LATEST POSSIBLE DATE (PRESUMABLY DEATH DATE, IF DECEASED)\n",
    "df['max_date'] = df[[x for x in df.columns if 'date' in x and 'treatment' not in x]].max(axis=1)"
   ]
  },
  {
   "cell_type": "code",
   "execution_count": null,
   "metadata": {},
   "outputs": [],
   "source": [
    "#CREATING NEW VARIABLE IN DATAFRAME FOR WEEKS SURVIVED (MAX DATE - DIAGNOSIS DATE)\n",
    "df['weeks_survived'] = df['max_date'] - df['date_of_initial_diagnosis'] #GET DIFF; RETURNS 'TIMEDELTA OBJECT'\n",
    "df['weeks_survived'] = df['weeks_survived'].apply(lambda x: abs(x.days)/7) \n",
    "                                                 #.apply() W/A LAMBDA APPLIES FUNCTION TO INDIVIDUAL COLUMN VALUES\n",
    "                                                 #RATHER THAN THE WHOLE COLUMN, WHICH SOMETIMES MESSES UP FUNCTIONS\n",
    "                                                 #I USUALLY TRY THE SYNTAX IN THE FIRST LINE BEFORE USING LAMBDA\n",
    "                                                 #BECAUSE THEY ARE INEFFICIENT;\n",
    "                                                 #THIS LAMBDA FUNCTION GETS DAYS FROM OBJECT, DIVIDES BY 7"
   ]
  },
  {
   "cell_type": "code",
   "execution_count": null,
   "metadata": {},
   "outputs": [],
   "source": [
    "#DEFINING 'CENSORED' FOR SURVIVAL ANALYSIS; \n",
    "#CENSORED MEANS WE DON'T KNOW HOW MANY WEEKS THEY'LL SURVIVE OR THAT THEY DIED UNRELATED TO THE DISEASE\n",
    "#THE POINT IS THAT WE DON'T KNOW HOW LONG THEY WOULD HAVE SURVIVED THE DISEASE\n",
    "df['censored'] = df['death_related_to_disease'].apply(lambda x: 0 if x == 'Yes' else 1)\n"
   ]
  },
  {
   "cell_type": "code",
   "execution_count": null,
   "metadata": {},
   "outputs": [],
   "source": [
    "#CREATING EMPTY DATA DICTIONARY\n",
    "#BASIC DICTIONARY STRUCTURE IS dict[key] = value\n",
    "corr_dict = {}\n",
    "\n",
    "#DEFINING NEW DATAFRAME; .corr() RETURNS CORRELATION COEFFICIENTS BETWEEN COLUMNS IN ORIGINAL DF\n",
    "c = df.corr()\n",
    "\n",
    "#FILLING DATA DICTIONARY WITH COLUMN NAME AND A LIST WITH IT'S CORRELATION COEFF WITH WEEKS SURVIVED\n",
    "#AS WELL AS OBSERVATIONS IN THE DF (NON-NULLS); I USE THESE BOTH TO DETERMINE VARS OF INTEREST LATER\n",
    "for other in c.columns:\n",
    "    corr_dict[other] = [c['weeks_survived'][other], len(df) - df[other].isna().sum()]\n"
   ]
  },
  {
   "cell_type": "code",
   "execution_count": null,
   "metadata": {},
   "outputs": [],
   "source": [
    "#FILTERING OUT:\n",
    "#1) SMALL (ARBITRARILY DEFINED) COEFFICIENTS \n",
    "#2) COLUMNS THAT WERE THE SURVEY QUESTIONS\n",
    "#3) COLUMNS WITH MORE THAN HALF NULLS (ARBITRARY CUTOFF)\n",
    "corr_dict = dict(filter(lambda elem: abs(elem[1][0]) >= .1 and \\\n",
    "                        '?' not in elem[0] and \\\n",
    "                        elem[1][1]/len(df) >= 0.5, corr_dict.items()))"
   ]
  },
  {
   "cell_type": "code",
   "execution_count": null,
   "metadata": {},
   "outputs": [],
   "source": [
    "#CONVERTING DICTIONARY TO DF TO MAKE SAVING A CSV EASIER\n",
    "df_corr = pd.DataFrame(corr_dict.items(), columns = ['column', 'correlation_obs'])"
   ]
  },
  {
   "cell_type": "code",
   "execution_count": null,
   "metadata": {},
   "outputs": [],
   "source": [
    "#SAVING NEW CSVs TO USE IN R DATA VIZ\n",
    "df.to_csv('Homebase_updated.csv')\n",
    "df_corr.to_csv('notable_correlations.csv')"
   ]
  },
  {
   "cell_type": "code",
   "execution_count": null,
   "metadata": {},
   "outputs": [],
   "source": []
  }
 ],
 "metadata": {
  "kernelspec": {
   "display_name": "Python 3 (ipykernel)",
   "language": "python",
   "name": "python3"
  },
  "language_info": {
   "codemirror_mode": {
    "name": "ipython",
    "version": 3
   },
   "file_extension": ".py",
   "mimetype": "text/x-python",
   "name": "python",
   "nbconvert_exporter": "python",
   "pygments_lexer": "ipython3",
   "version": "3.9.6"
  }
 },
 "nbformat": 4,
 "nbformat_minor": 4
}
