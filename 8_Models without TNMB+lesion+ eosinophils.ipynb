{
 "cells": [
  {
   "cell_type": "code",
   "execution_count": null,
   "id": "ddffad27",
   "metadata": {},
   "outputs": [],
   "source": [
    "import pandas as pd\n",
    "import numpy as np\n",
    "import math as m\n",
    "import random as rand\n",
    "import matplotlib.pyplot as plt\n",
    "import seaborn as sns\n",
    "import re\n",
    "from datetime import datetime\n",
    "from sklearn import linear_model as lm, metrics, ensemble as ens\n",
    "from sklearn.model_selection import train_test_split, cross_val_score, RepeatedKFold\n",
    "from sklearn.preprocessing import StandardScaler, normalize\n",
    "from sklearn.svm import SVC\n",
    "from sklearn.feature_selection import RFE, RFECV, SequentialFeatureSelector\n",
    "import random\n",
    "from sklearn.model_selection import GridSearchCV\n",
    "from sklearn.decomposition import PCA, KernelPCA\n",
    "from sklearn.pipeline import Pipeline\n",
    "\n",
    "import warnings\n",
    "warnings.filterwarnings(\"ignore\")\n"
   ]
  },
  {
   "cell_type": "markdown",
   "id": "e4a43f45",
   "metadata": {},
   "source": [
    "# Clinical Data updated_ Alex"
   ]
  },
  {
   "cell_type": "code",
   "execution_count": null,
   "id": "cdfd26ca",
   "metadata": {},
   "outputs": [],
   "source": [
    "#DEFINING A FUNCTION TO UPDATE COLUMN NAMES LATER\n",
    "def lower_no_space(word): \n",
    "    \n",
    "    word = re.sub(' ', '_', word) \n",
    "    \n",
    "    word = re.sub(r'\\'', '', word) \n",
    "    \n",
    "    word = re.sub(r'\\(', '', word)\n",
    "    \n",
    "    word = re.sub(r'\\)', '', word)\n",
    "    \n",
    "    word = re.sub('\\?', '', word)\n",
    "    \n",
    "    word = re.sub('/', '_', word)\n",
    "    \n",
    "    word = word.lower()\n",
    "    \n",
    "    return word"
   ]
  },
  {
   "cell_type": "code",
   "execution_count": null,
   "id": "3a4d005c",
   "metadata": {},
   "outputs": [],
   "source": [
    "#READ IN Updated CLINICAL DATA FOR LATER USE (CONVERTED TO .csv IN GOOGLE SHEETS)\n",
    "df_clin_updated = pd.read_csv(\"Homebase_new_updated.csv\", header = 1)"
   ]
  },
  {
   "cell_type": "code",
   "execution_count": null,
   "id": "fce5ecf7",
   "metadata": {},
   "outputs": [],
   "source": [
    "#RENAMING COLUMNS\n",
    "df_clin_updated = df_clin_updated.rename(mapper = lower_no_space, axis = 1) \n",
    "df_clin_updated.rename(columns={'subject_sample_id':'sample_id'}, inplace=True)"
   ]
  },
  {
   "cell_type": "code",
   "execution_count": null,
   "id": "b1c9a31d",
   "metadata": {},
   "outputs": [],
   "source": [
    "#CHECK CLINICAL DATA BASICS\n",
    "df_clin_updated.head()"
   ]
  },
  {
   "cell_type": "code",
   "execution_count": null,
   "id": "44a05600",
   "metadata": {},
   "outputs": [],
   "source": [
    "#Compute the age at initial diagnosis from date of birth and date_of_initial_diagnosis\n",
    "df_clin_updated['date_of_birth'] = pd.to_datetime(df_clin_updated['date_of_birth'])\n",
    "df_clin_updated['date_of_initial_diagnosis'] = pd.to_datetime(df_clin_updated['date_of_initial_diagnosis'])\n",
    "df_clin_updated[\"age_at_initial_diagnosis\"] = (pd.DatetimeIndex(df_clin_updated['date_of_initial_diagnosis']).year \n",
    "                        - pd.DatetimeIndex(df_clin_updated['date_of_birth']).year)"
   ]
  },
  {
   "cell_type": "code",
   "execution_count": null,
   "id": "af3c0cdd",
   "metadata": {},
   "outputs": [],
   "source": [
    "#Due to the abnormal in date of birth from the Stanford data, \n",
    "#Remove the age at initial diagonosis for data from Stanford & the one that has negative age \n",
    "df_clin_updated[\"age_at_initial_diagnosis\"] = np.where(df_clin_updated['data_access_group'] == 'Stanford', np.nan, df_clin_updated[\"age_at_initial_diagnosis\"])\n",
    "df_clin_updated[\"age_at_initial_diagnosis\"] = np.where(df_clin_updated[\"age_at_initial_diagnosis\"] < 0, np.nan, df_clin_updated[\"age_at_initial_diagnosis\"])\n"
   ]
  },
  {
   "cell_type": "code",
   "execution_count": null,
   "id": "24da101a",
   "metadata": {},
   "outputs": [],
   "source": [
    "#Change the data type: date_of_birth, n, m \n",
    "df_clin_updated = df_clin_updated.astype({'t':'object', 'b':'object'})\n"
   ]
  },
  {
   "cell_type": "code",
   "execution_count": null,
   "id": "bb1c3610",
   "metadata": {},
   "outputs": [],
   "source": [
    "#TONS OF DATA, PULL WHAT WE WANT\n",
    "df_clin_updated_lean = df_clin_updated.drop(columns = [x for x in df_clin_updated.columns if x not in ['gender', 'race', \\\n",
    "                                       'country_of_residence', 'sample_id', 'ethnicity',\\\n",
    "                                        'age_at_initial_diagnosis',\\\n",
    "                                        'lymph_node_biopsy_performed',\\\n",
    "                                        'family_history_of_leukemia_lymphoma', \\\n",
    "                                        'has_the_patient_ever_been_exposed_at_work_or_in_the_service_to_a_toxic_chemical',\\\n",
    "                                        'cd4+:cd8+_ratio', 'total_lymphocyte_count', 'absolute_cd4+_count_per_ul',\\\n",
    "                                        '%cd4+cd26-', '%cd4+cd7-', 'tcr_clonality', 'tumor_cell_cd30+',\\\n",
    "                                        'large_cell_transformation', 'ldh_u_l', 'wbc_103_μl', 'rbc_106_μl',\\\n",
    "                                        'hematocrit_%', 'mcv_fl', 'mchc_g_dl', 'rdw_%', 'platelet_count_103_μl',\\\n",
    "                                        'segmented_neutrophil,_absolute_103_μl', 'lymphocyte,_absolute_103_μl',\\\n",
    "                                        'monocytes,_absolute_103_μl',\\\n",
    "                                        'basophils,_absolute_103_μl', 'segmented_neutrophils_%', 'lymphocytes_%',\\\n",
    "                                        'monocytes_%', 'eosinophils_%', 'basophils_%']])\n",
    "\n",
    "#'predominant_lesion_type_at_diagnosis', 't', 'n', 'm', 'b', 'eosinophils,_absolute_103_μl'"
   ]
  },
  {
   "cell_type": "code",
   "execution_count": null,
   "id": "9bc4e03a",
   "metadata": {},
   "outputs": [],
   "source": [
    "# TURN YES/NO & POSITIVE/NEGATIVE TO DUMMIES\n",
    "df_clin_updated_lean['lymph_node_biopsy_performed'] = \\\n",
    "df_clin_updated_lean['lymph_node_biopsy_performed'].apply(lambda x: 1 if x == 'Yes' else 0)\n",
    "\n",
    "df_clin_updated_lean['family_history_of_leukemia_lymphoma'] = \\\n",
    "df_clin_updated_lean['family_history_of_leukemia_lymphoma'].apply(lambda x: 1 if x == 'Yes' else 0)\n",
    "\n",
    "df_clin_updated_lean['tumor_cell_cd30+'] = \\\n",
    "df_clin_updated_lean['tumor_cell_cd30+'].apply(lambda x: 1 if x == 'Yes' else 0)\n",
    "\n",
    "df_clin_updated_lean['large_cell_transformation'] = \\\n",
    "df_clin_updated_lean['large_cell_transformation'].apply(lambda x: 1 if x == 'Yes' else 0)\n",
    "\n",
    "df_clin_updated_lean['tcr_clonality'] = \\\n",
    "df_clin_updated_lean['tcr_clonality'].apply(lambda x: 1 if x == 'Positive' else 0)\n",
    "\n",
    "df_clin_updated_lean['has_the_patient_ever_been_exposed_at_work_or_in_the_service_to_a_toxic_chemical'] = \\\n",
    "df_clin_updated_lean['has_the_patient_ever_been_exposed_at_work_or_in_the_service_to_a_toxic_chemical'].apply(lambda x: 1 if x == 'Yes' else 0)"
   ]
  },
  {
   "cell_type": "markdown",
   "id": "4109d752",
   "metadata": {},
   "source": [
    "### df_lean: Preprocessed Genetic Data"
   ]
  },
  {
   "cell_type": "code",
   "execution_count": null,
   "id": "bb146ddf",
   "metadata": {},
   "outputs": [],
   "source": [
    "# Read in the Preprocessed Genetic Data\n",
    "df_lean = pd.read_csv ('stats_by_sample.csv')"
   ]
  },
  {
   "cell_type": "code",
   "execution_count": null,
   "id": "416cc4e1",
   "metadata": {},
   "outputs": [],
   "source": [
    "#CHECK CLINICAL DATA BASICS\n",
    "df_clin_updated.head()"
   ]
  },
  {
   "cell_type": "code",
   "execution_count": null,
   "id": "0340dd7a",
   "metadata": {},
   "outputs": [],
   "source": [
    "#TRANSFORM SAMPLE ID TO JOIN TO CLINICAL DATA\n",
    "df_lean['sample_id'] = df_lean['sample_id'].apply(lambda x: re.sub('_', '-', x[:5]) if 'WES' in x else\\\n",
    "                                                  (x[:-10] if 'CTCL' in x else \\\n",
    "                                                  (x[:-13] if 'almeida' in x else\\\n",
    "                                                  ((x[-2:]+x[:-2])[:-15] if 'ungewickell' in x else\\\n",
    "                                                  ('-'.join([ele.lstrip('0').lower() for ele in x[:-10].split('-')]) if 'SPZ' in x else x)))))"
   ]
  },
  {
   "cell_type": "markdown",
   "id": "09af39d9",
   "metadata": {},
   "source": [
    "# Merge (Updated)"
   ]
  },
  {
   "cell_type": "code",
   "execution_count": null,
   "id": "131081ab",
   "metadata": {},
   "outputs": [],
   "source": [
    "#MERGE tbe updated CLINICAL, GENETIC DATA\n",
    "df_all_updated = pd.merge(df_lean, df_clin_updated_lean, on='sample_id', how='left')"
   ]
  },
  {
   "cell_type": "code",
   "execution_count": null,
   "id": "4b08b2bd",
   "metadata": {},
   "outputs": [],
   "source": [
    "#IMPUTATION; \"UNKNOWN\" FOR CATEGORICAL, MEAN FILL-IN FOR CONTINUOUS\n",
    "for col in df_clin_updated_lean.columns:\n",
    "    if col in ['race', 'gender', 'country_of_residence', 'ethnicity', 'predominant_lesion_type_at_diagnosis', 't', \n",
    "              'n', 'm', 'b']:\n",
    "        df_all_updated[col] = df_all_updated[col].fillna('unknown')\n",
    "    elif col != 'sample_id':\n",
    "        df_all_updated[col] = df_all_updated[col].fillna(np.mean(df_all_updated[col]))"
   ]
  },
  {
   "cell_type": "code",
   "execution_count": null,
   "id": "85cf6d7a",
   "metadata": {},
   "outputs": [],
   "source": [
    "#GET DUMMIES FOR CATEGORICALS\n",
    "df_all_updated = pd.get_dummies(df_all_updated, columns = ['race', 'gender', 'country_of_residence', 'ethnicity'])\n"
   ]
  },
  {
   "cell_type": "markdown",
   "id": "5ee39532",
   "metadata": {},
   "source": [
    "# Defining Features and Labels - For updated data"
   ]
  },
  {
   "cell_type": "code",
   "execution_count": null,
   "id": "bf906943",
   "metadata": {},
   "outputs": [],
   "source": [
    "#DEFINE STANDARDSCALER FOR LATER USE\n",
    "std_scl = StandardScaler()"
   ]
  },
  {
   "cell_type": "code",
   "execution_count": null,
   "id": "a756a067",
   "metadata": {},
   "outputs": [],
   "source": [
    "# Define (Scaled/Normalized) Features and Labels\n",
    "X_new = df_all_updated.drop(columns = [x for x in df_all_updated.columns if x == 'outcome' or x == 'sample_id'])\n",
    "X_new_scaled = std_scl.fit_transform(X_new)\n",
    "X_new_norm = normalize(X_new)\n",
    "\n",
    "y_new = df_all_updated.drop(columns = [x for x in df_all_updated.columns if x != 'outcome'])"
   ]
  },
  {
   "cell_type": "code",
   "execution_count": null,
   "id": "60ed3311",
   "metadata": {
    "scrolled": true
   },
   "outputs": [],
   "source": [
    "df_all_updated['outcome'].value_counts(normalize = True)"
   ]
  },
  {
   "cell_type": "markdown",
   "id": "43a1c865",
   "metadata": {},
   "source": [
    "# Model Training without Lesion Type"
   ]
  },
  {
   "cell_type": "markdown",
   "id": "210cfd72",
   "metadata": {},
   "source": [
    "### Repeated Stratified K-fold"
   ]
  },
  {
   "cell_type": "code",
   "execution_count": null,
   "id": "51d97d87",
   "metadata": {},
   "outputs": [],
   "source": [
    "# Stratified Version\n",
    "from sklearn.model_selection import RepeatedStratifiedKFold\n",
    "rskf = RepeatedStratifiedKFold(n_splits=3, n_repeats=10)"
   ]
  },
  {
   "cell_type": "markdown",
   "id": "2a116717",
   "metadata": {},
   "source": [
    "### Logistic Regression"
   ]
  },
  {
   "cell_type": "code",
   "execution_count": null,
   "id": "1efcfac2",
   "metadata": {},
   "outputs": [],
   "source": [
    "# Log\n",
    "rskf = RepeatedStratifiedKFold(n_splits=3, n_repeats=10)\n",
    "steps = [('pca', PCA(n_components=2)), ('m', lm.LogisticRegression(solver = 'liblinear', penalty = 'l1'))]\n",
    "model_log = Pipeline(steps = steps)\n",
    "\n",
    "acc_scores = cross_val_score(model_log, X_new_scaled, y_new.values.ravel(), scoring='accuracy', cv=rskf, n_jobs=-1)\n",
    "prec_scores = cross_val_score(model_log, X_new_scaled, y_new.values.ravel(), scoring='precision', cv=rskf, n_jobs=-1)\n",
    "print(\"Logistic Regression\")\n",
    "print('n_components: 2, accuracy: ', np.mean(acc_scores))\n",
    "print('std for accuracy: ', np.std(acc_scores))\n",
    "print('n_components: 2, precision: ', np.mean(prec_scores))\n",
    "print('std for precision: ', np.std(prec_scores))"
   ]
  },
  {
   "cell_type": "markdown",
   "id": "0b3baf3a",
   "metadata": {},
   "source": [
    "### Ramdom Forest"
   ]
  },
  {
   "cell_type": "code",
   "execution_count": null,
   "id": "2dbebbd8",
   "metadata": {
    "scrolled": true
   },
   "outputs": [],
   "source": [
    "rskf = RepeatedStratifiedKFold(n_splits=3, n_repeats=10)\n",
    "steps = [('pca', PCA(n_components=12)), ('m', ens.RandomForestClassifier(n_estimators = 500, criterion = \"entropy\"))]\n",
    "model_rf = Pipeline(steps = steps)\n",
    "\n",
    "acc_scores = cross_val_score(model_rf, X_new, y_new.values.ravel(), scoring='accuracy', cv=rskf, n_jobs=-1)\n",
    "prec_scores = cross_val_score(model_rf, X_new, y_new.values.ravel(), scoring='precision', cv=rskf, n_jobs=-1)\n",
    "print(\"Random Forest\")\n",
    "print('n_components: 12, accuracy: ', np.mean(acc_scores))\n",
    "print('std for accuracy: ', np.std(acc_scores))\n",
    "print('n_components: 12, precision: ', np.mean(prec_scores))\n",
    "print('std for precision: ', np.std(prec_scores))"
   ]
  },
  {
   "cell_type": "markdown",
   "id": "e212f90b",
   "metadata": {},
   "source": [
    "### Support Vector Machine"
   ]
  },
  {
   "cell_type": "code",
   "execution_count": null,
   "id": "450d22a0",
   "metadata": {},
   "outputs": [],
   "source": [
    "rskf = RepeatedStratifiedKFold(n_splits=3, n_repeats=10)\n",
    "steps = [('pca', PCA(n_components=5)), ('svc', SVC(C = 50, gamma = 'auto', kernel = 'linear', probability = True))]\n",
    "model_svc = Pipeline(steps = steps)\n",
    "\n",
    "acc_scores = cross_val_score(model_svc, X_new_norm, y_new.values.ravel(), scoring='accuracy', cv=rskf, n_jobs=-1)\n",
    "prec_scores = cross_val_score(model_svc, X_new_norm, y_new.values.ravel(), scoring='precision', cv=rskf, n_jobs=-1)\n",
    "print(\"SVC\")\n",
    "print('n_components: 2, accuracy: ', np.mean(acc_scores))\n",
    "print('std for accuracy: ', np.std(acc_scores))\n",
    "print('n_components: 2, precision: ', np.mean(prec_scores))\n",
    "print('std for precision: ', np.std(prec_scores))"
   ]
  },
  {
   "cell_type": "markdown",
   "id": "633dd5b3",
   "metadata": {},
   "source": [
    "### Ridge Classifier"
   ]
  },
  {
   "cell_type": "code",
   "execution_count": null,
   "id": "12e8bda1",
   "metadata": {},
   "outputs": [],
   "source": [
    "rskf = RepeatedStratifiedKFold(n_splits=3, n_repeats=10)\n",
    "steps = [('pca', PCA(n_components=5)), ('m', lm.RidgeClassifier(alpha = 0.1))]\n",
    "model_rdg = Pipeline(steps = steps)\n",
    "\n",
    "acc_scores = cross_val_score(model_rdg, X_new_norm, y_new.values.ravel(), scoring='accuracy', cv=rskf, n_jobs=-1)\n",
    "prec_scores = cross_val_score(model_rdg, X_new_norm, y_new.values.ravel(), scoring='precision', cv=rskf, n_jobs=-1)\n",
    "print(\"Ridge Classifier\")\n",
    "print('n_components: 2, accuracy: ', np.mean(acc_scores))\n",
    "print('std for accuracy: ', np.std(acc_scores))\n",
    "print('n_components: 2, precision: ', np.mean(prec_scores))\n",
    "print('std for precision: ', np.std(prec_scores))"
   ]
  },
  {
   "cell_type": "markdown",
   "id": "ebc57e8f",
   "metadata": {},
   "source": [
    "### AdaBoost"
   ]
  },
  {
   "cell_type": "code",
   "execution_count": null,
   "id": "92927660",
   "metadata": {},
   "outputs": [],
   "source": [
    "from sklearn.ensemble import AdaBoostClassifier\n",
    "\n",
    "rskf = RepeatedStratifiedKFold(n_splits=3, n_repeats=10)\n",
    "model_ada = AdaBoostClassifier(n_estimators=400, learning_rate = 1, algorithm = \"SAMME.R\")\n",
    "\n",
    "acc_scores = cross_val_score(model_ada, X_new, y_new.values.ravel(), scoring='accuracy', cv=rskf, n_jobs=-1)\n",
    "prec_scores = cross_val_score(model_ada, X_new, y_new.values.ravel(), scoring='precision', cv=rskf, n_jobs=-1)\n",
    "print(\"AdaBoost\")\n",
    "print('n_components: 12, accuracy: ', np.mean(acc_scores))\n",
    "print('std for accuracy: ', np.std(acc_scores))\n",
    "print('n_components: 12, precision: ', np.mean(prec_scores))\n",
    "print('std for precision: ', np.std(prec_scores))"
   ]
  },
  {
   "cell_type": "markdown",
   "id": "73163cc9",
   "metadata": {},
   "source": [
    "### XGBoost"
   ]
  },
  {
   "cell_type": "code",
   "execution_count": null,
   "id": "19381903",
   "metadata": {},
   "outputs": [],
   "source": [
    "from numpy import loadtxt\n",
    "from xgboost import XGBClassifier\n",
    "warnings.filterwarnings(\"ignore\")\n",
    "\n",
    "rskf = RepeatedStratifiedKFold(n_splits=3, n_repeats=10)\n",
    "model_xg = XGBClassifier(eta = 0.1, max_depth = 6, scale_pos_weight = 1, eval_metric = \"error\", use_label_encoder = False)\n",
    "\n",
    "acc_scores = cross_val_score(model_xg, X_new, y_new.values.ravel(), scoring='accuracy', cv=rskf, n_jobs=-1)\n",
    "prec_scores = cross_val_score(model_xg, X_new, y_new.values.ravel(), scoring='precision', cv=rskf, n_jobs=-1)\n",
    "print(\"XGBoost\")\n",
    "print('n_components: 13, accuracy: ', np.mean(acc_scores))\n",
    "print('std for accuracy: ', np.std(acc_scores))\n",
    "print('n_components: 13, precision: ', np.mean(prec_scores))\n",
    "print('std for precision: ', np.std(prec_scores))"
   ]
  },
  {
   "cell_type": "code",
   "execution_count": null,
   "id": "97ee83d9",
   "metadata": {},
   "outputs": [],
   "source": [
    "print(\"XGBoost\")\n",
    "print('n_components: 13, accuracy: ', np.mean(acc_scores))\n",
    "print('std for accuracy: ', np.std(acc_scores))\n",
    "print('n_components: 13, precision: ', np.mean(prec_scores))\n",
    "print('std for precision: ', np.std(prec_scores))"
   ]
  },
  {
   "cell_type": "markdown",
   "id": "575bf8c4",
   "metadata": {},
   "source": [
    "### CATBoost"
   ]
  },
  {
   "cell_type": "code",
   "execution_count": null,
   "id": "9adf0e3c",
   "metadata": {},
   "outputs": [],
   "source": [
    "from catboost import CatBoostClassifier\n",
    "warnings.filterwarnings(\"ignore\")\n",
    "\n",
    "rskf = RepeatedStratifiedKFold(n_splits=3, n_repeats=10)\n",
    "steps = [('pca', PCA(n_components=12)), ('cat', CatBoostClassifier(iterations = 250))]\n",
    "model_cat = Pipeline(steps = steps)\n",
    "\n",
    "acc_scores = cross_val_score(model_cat, X_new, y_new.values.ravel(), scoring='accuracy', cv=rskf, n_jobs=-1)\n",
    "prec_scores = cross_val_score(model_cat, X_new, y_new.values.ravel(), scoring='precision', cv=rskf, n_jobs=-1)\n",
    "print('accuracy: ', np.mean(acc_scores))\n",
    "print('std for accuracy: ', np.std(acc_scores))\n",
    "print('precision: ', np.mean(prec_scores))\n",
    "print('std for precision: ', np.std(prec_scores))"
   ]
  },
  {
   "cell_type": "code",
   "execution_count": null,
   "id": "ab795d3c",
   "metadata": {},
   "outputs": [],
   "source": [
    "print('CATBoost:')\n",
    "print('accuracy: ', np.mean(acc_scores))\n",
    "print('std for accuracy: ', np.std(acc_scores))\n",
    "print('precision: ', np.mean(prec_scores))\n",
    "print('std for precision: ', np.std(prec_scores))"
   ]
  },
  {
   "cell_type": "code",
   "execution_count": null,
   "id": "624f2470",
   "metadata": {},
   "outputs": [],
   "source": []
  }
 ],
 "metadata": {
  "kernelspec": {
   "display_name": "Python 3 (ipykernel)",
   "language": "python",
   "name": "python3"
  },
  "language_info": {
   "codemirror_mode": {
    "name": "ipython",
    "version": 3
   },
   "file_extension": ".py",
   "mimetype": "text/x-python",
   "name": "python",
   "nbconvert_exporter": "python",
   "pygments_lexer": "ipython3",
   "version": "3.9.6"
  }
 },
 "nbformat": 4,
 "nbformat_minor": 5
}
