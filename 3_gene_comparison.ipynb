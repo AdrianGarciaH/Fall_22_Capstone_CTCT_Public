{
 "cells": [
  {
   "cell_type": "code",
   "execution_count": null,
   "metadata": {},
   "outputs": [],
   "source": [
    "import pandas as pd\n",
    "import numpy as np\n",
    "import math as m\n",
    "import random as rand\n",
    "import matplotlib.pyplot as plt\n",
    "import seaborn as sns\n",
    "import re\n",
    "from datetime import datetime\n",
    "from sklearn import linear_model as lm, metrics, ensemble as ens\n",
    "from sklearn.model_selection import train_test_split, cross_val_score, RepeatedKFold\n",
    "from sklearn.preprocessing import StandardScaler, normalize\n",
    "from sklearn.svm import SVC\n",
    "from sklearn.feature_selection import RFE, RFECV, SequentialFeatureSelector\n",
    "import random\n",
    "from collections import defaultdict\n",
    "from itertools import islice"
   ]
  },
  {
   "cell_type": "code",
   "execution_count": null,
   "metadata": {},
   "outputs": [],
   "source": [
    "#DEFINING A FUNCTION TO UPDATE COLUMN NAMES LATER\n",
    "def lower_no_space(word): \n",
    "    \n",
    "    word = re.sub(' ', '_', word) \n",
    "    \n",
    "    word = re.sub(r'\\'', '', word) \n",
    "    \n",
    "    word = re.sub(r'\\(', '', word)\n",
    "    \n",
    "    word = re.sub(r'\\)', '', word)\n",
    "    \n",
    "    word = re.sub('\\?', '', word)\n",
    "    \n",
    "    word = re.sub('/', '_', word)\n",
    "    \n",
    "    word = word.lower()\n",
    "    \n",
    "    return word"
   ]
  },
  {
   "cell_type": "code",
   "execution_count": null,
   "metadata": {},
   "outputs": [],
   "source": [
    "#READ IN ORIGINAL CLINICAL DATA FOR LATER USE (CONVERTED TO .csv IN GOOGLE SHEETS)\n",
    "df_clin = pd.read_csv(\"Homebase.csv\", header = 1)"
   ]
  },
  {
   "cell_type": "code",
   "execution_count": null,
   "metadata": {},
   "outputs": [],
   "source": [
    "#RENAMING COLUMNS\n",
    "df_clin = df_clin.rename(mapper = lower_no_space, axis = 1) \n",
    "df_clin.rename(columns={'subject_sample_id':'sample_id'}, inplace=True)"
   ]
  },
  {
   "cell_type": "code",
   "execution_count": null,
   "metadata": {},
   "outputs": [],
   "source": [
    "df_gen = pd.read_csv(\"full_gen.csv\") #SEE GEN_DF_SETUP"
   ]
  },
  {
   "cell_type": "code",
   "execution_count": null,
   "metadata": {},
   "outputs": [],
   "source": [
    "df_gen = df_gen[df_gen['chrom'] != 'Chromosome']\n",
    "df_gen = df_gen[df_gen['gene_symbol'] != '#version 2.4'] #WEIRD OBS IN DATA\n",
    "df_gen['chrom'] = df_gen['chrom'].apply(lambda x: '19' if 'gl000209' in str(x) else str(x)) #WEIRD OBS AGAIN\n",
    "df_gen = df_gen.drop(columns = ['phred']) #USING ONLY RAWSCORE FOR NOW"
   ]
  },
  {
   "cell_type": "code",
   "execution_count": null,
   "metadata": {},
   "outputs": [],
   "source": [
    "df_gen['pos'] = df_gen['pos'].astype('float')\n",
    "df_gen = df_gen[~df_gen['pos'].isna()]\n"
   ]
  },
  {
   "cell_type": "code",
   "execution_count": null,
   "metadata": {},
   "outputs": [],
   "source": [
    "# num_sections = m.ceil(np.max((df_gen['pos'].values.tolist()))/10000000)\n",
    "#^^CAN USE TO DOUBLE CHECK THAT WE HAVE THE RIGHT NUMBER OF SECTIONS\n",
    "\n",
    "df_gen['section'] = df_gen['pos'].apply(lambda x: m.ceil(x/1000000))\n",
    "df_gen['section'] = df_gen['section'].astype('string')\n",
    "df_gen['section'] = df_gen['section'].astype('string') + '_' + 'chrom' + '_' + df_gen['chrom']\n"
   ]
  },
  {
   "cell_type": "code",
   "execution_count": null,
   "metadata": {},
   "outputs": [],
   "source": [
    "#CHECK GENERAL SHAPE\n",
    "df_gen.head()"
   ]
  },
  {
   "cell_type": "code",
   "execution_count": null,
   "metadata": {},
   "outputs": [],
   "source": [
    "# CREATING DICTIONARY TO COMPARE # OF PEOPLE W/ MUTATIONS FOR A GIVEN GENE IN EACH COHORT\n",
    "genes_comp = {}\n",
    "\n",
    "for chrom in ['11', '6', '17', '16', '5', '1', '2', '10', '7', '3', '19', '12', '4']: #chroms come from FI in classifier notebook\n",
    "    for gene in set(df_gen[df_gen['chrom'] == chrom]['gene_symbol']):\n",
    "        single_dict = {}\n",
    "        single_dict['ss'] = len(set(df_gen[(df_gen['outcome'] == 1) & (df_gen['gene_symbol'] == gene)]['sample_id']))\n",
    "        single_dict['mf'] = len(set(df_gen[(df_gen['outcome'] == 0) & (df_gen['gene_symbol'] == gene)]['sample_id']))\n",
    "        single_dict['diff'] = single_dict['ss'] - single_dict['mf']\n",
    "        genes_comp[gene] = single_dict"
   ]
  },
  {
   "cell_type": "code",
   "execution_count": null,
   "metadata": {},
   "outputs": [],
   "source": [
    "# ORDER BY DIFF\n",
    "genes_comp_ordered = {k: v for k, v in sorted(genes_comp.items(), key=lambda item: item[1]['diff'], reverse = True)}\n"
   ]
  },
  {
   "cell_type": "code",
   "execution_count": null,
   "metadata": {},
   "outputs": [],
   "source": [
    "# TAKE A LOOK\n",
    "genes_comp_ordered"
   ]
  },
  {
   "cell_type": "code",
   "execution_count": null,
   "metadata": {},
   "outputs": [],
   "source": [
    "# PROPORTIONS WOULD BE BETTER\n",
    "genes_comp_pct_ordered = genes_comp_ordered.copy()\n",
    "\n",
    "for gene in genes_comp_pct_ordered.keys():\n",
    "    genes_comp_pct_ordered[gene]['ss'] /= len(set(df_gen[df_gen['outcome'] == 1]['sample_id']))\n",
    "    genes_comp_pct_ordered[gene]['mf'] /= len(set(df_gen[df_gen['outcome'] == 0]['sample_id']))\n",
    "    genes_comp_pct_ordered[gene]['diff'] = genes_comp_pct_ordered[gene]['ss'] - genes_comp_pct_ordered[gene]['mf']"
   ]
  },
  {
   "cell_type": "code",
   "execution_count": null,
   "metadata": {},
   "outputs": [],
   "source": [
    "# SHOULDN'T NEED TO RE-SORT, BUT JUST IN CASE\n",
    "\n",
    "genes_comp_pct_ordered = {k: v for k, v in sorted(genes_comp_pct_ordered.items(), key=lambda item: item[1]['diff'], reverse = True)}\n",
    "genes_comp_pct_ordered\n",
    "\n"
   ]
  },
  {
   "cell_type": "code",
   "execution_count": null,
   "metadata": {},
   "outputs": [],
   "source": [
    "# MAKE A DF\n",
    "impt_genes = pd.DataFrame(columns = ['gene', 'ss', 'mf', 'diff'])\n",
    "for i in range(len(genes_comp_pct_ordered)):\n",
    "    gene = list(genes_comp_pct_ordered.keys())[i]\n",
    "    ss = genes_comp_pct_ordered[list(genes_comp_pct_ordered.keys())[i]]['ss']\n",
    "    mf = genes_comp_pct_ordered[list(genes_comp_pct_ordered.keys())[i]]['mf']\n",
    "    diff = genes_comp_pct_ordered[list(genes_comp_pct_ordered.keys())[i]]['diff']\n",
    "    impt_genes.loc[i] = [gene, ss, mf, diff]"
   ]
  },
  {
   "cell_type": "code",
   "execution_count": null,
   "metadata": {},
   "outputs": [],
   "source": [
    "# SAVE CSV\n",
    "impt_genes.to_csv('gene_cohort_comparison.csv')"
   ]
  },
  {
   "cell_type": "markdown",
   "metadata": {},
   "source": [
    "note:\n",
    "\n",
    "chi-square of OBSCN mutation rates was significant at 10%:\n",
    "https://www.socscistatistics.com/tests/chisquare/default2.aspx\n",
    "\n",
    "but not sig. for Fisher Exact Test (probs more meaningful for now):\n",
    "https://www.socscistatistics.com/tests/fisher/default2.aspx\n",
    "\n",
    "so, potentially something there with a larger sample, but for now that's conjecture"
   ]
  },
  {
   "cell_type": "code",
   "execution_count": null,
   "metadata": {},
   "outputs": [],
   "source": []
  }
 ],
 "metadata": {
  "kernelspec": {
   "display_name": "Python 3 (ipykernel)",
   "language": "python",
   "name": "python3"
  },
  "language_info": {
   "codemirror_mode": {
    "name": "ipython",
    "version": 3
   },
   "file_extension": ".py",
   "mimetype": "text/x-python",
   "name": "python",
   "nbconvert_exporter": "python",
   "pygments_lexer": "ipython3",
   "version": "3.9.6"
  }
 },
 "nbformat": 4,
 "nbformat_minor": 4
}
