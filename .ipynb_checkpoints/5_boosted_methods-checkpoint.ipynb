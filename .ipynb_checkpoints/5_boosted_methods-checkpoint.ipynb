{
 "cells": [
  {
   "cell_type": "code",
   "execution_count": null,
   "id": "655ece2a",
   "metadata": {},
   "outputs": [],
   "source": [
    "import pandas as pd\n",
    "import numpy as np\n",
    "import math as m\n",
    "import random as rand\n",
    "import matplotlib.pyplot as plt\n",
    "import seaborn as sns\n",
    "import re\n",
    "from datetime import datetime\n",
    "from sklearn import linear_model as lm, metrics, ensemble as ens\n",
    "from sklearn.model_selection import train_test_split, cross_val_score, RepeatedKFold\n",
    "from sklearn.preprocessing import StandardScaler, normalize\n",
    "from sklearn.svm import SVC\n",
    "from sklearn.feature_selection import RFE, RFECV, SequentialFeatureSelector\n",
    "import random"
   ]
  },
  {
   "cell_type": "markdown",
   "id": "79990e08",
   "metadata": {},
   "source": [
    "# Preprocessing - from George's code"
   ]
  },
  {
   "cell_type": "code",
   "execution_count": null,
   "id": "6bb6490c",
   "metadata": {},
   "outputs": [],
   "source": [
    "#DEFINING A FUNCTION TO UPDATE COLUMN NAMES LATER\n",
    "def lower_no_space(word): \n",
    "    \n",
    "    word = re.sub(' ', '_', word) \n",
    "    \n",
    "    word = re.sub(r'\\'', '', word) \n",
    "    \n",
    "    word = re.sub(r'\\(', '', word)\n",
    "    \n",
    "    word = re.sub(r'\\)', '', word)\n",
    "    \n",
    "    word = re.sub('\\?', '', word)\n",
    "    \n",
    "    word = re.sub('/', '_', word)\n",
    "    \n",
    "    word = word.lower()\n",
    "    \n",
    "    return word"
   ]
  },
  {
   "cell_type": "code",
   "execution_count": null,
   "id": "a09f118f",
   "metadata": {},
   "outputs": [],
   "source": [
    "df_lean = pd.read_csv ('stats_by_sample.csv')"
   ]
  },
  {
   "cell_type": "code",
   "execution_count": null,
   "id": "3efd377b",
   "metadata": {},
   "outputs": [],
   "source": [
    "df_lean"
   ]
  },
  {
   "cell_type": "code",
   "execution_count": null,
   "id": "6224102b",
   "metadata": {},
   "outputs": [],
   "source": [
    "df_clin = pd.read_csv(\"Homebase.csv\", header = 1)"
   ]
  },
  {
   "cell_type": "code",
   "execution_count": null,
   "id": "d96bc2ae",
   "metadata": {},
   "outputs": [],
   "source": [
    "#RENAMING COLUMNS\n",
    "df_clin = df_clin.rename(mapper = lower_no_space, axis = 1) \n",
    "df_clin.rename(columns={'subject_sample_id':'sample_id'}, inplace=True)"
   ]
  },
  {
   "cell_type": "code",
   "execution_count": null,
   "id": "f6f4649d",
   "metadata": {},
   "outputs": [],
   "source": [
    "df_clin"
   ]
  },
  {
   "cell_type": "code",
   "execution_count": null,
   "id": "43f427f3",
   "metadata": {},
   "outputs": [],
   "source": [
    "#TRANSFORM SAMPLE ID TO JOIN TO CLINICAL DATA\n",
    "df_lean['sample_id'] = df_lean['sample_id'].apply(lambda x: re.sub('_', '-', x[:5]) if 'WES' in x else\\\n",
    "                                                  (x[:-10] if 'CTCL' in x else \\\n",
    "                                                   ('-'.join([ele.lstrip('0').lower() for ele in x[:-10].split('-')]) if 'SPZ' in x else x)))\n",
    "\n"
   ]
  },
  {
   "cell_type": "code",
   "execution_count": null,
   "id": "10d0b33f",
   "metadata": {},
   "outputs": [],
   "source": [
    "#TONS OF DATA, PULL WHAT WE WANT\n",
    "df_clin_lean = df_clin.drop(columns = [x for x in df_clin.columns if x not in ['gender', 'race', \\\n",
    "                                       'country_of_residence', 'sample_id', 'ethnicity',\\\n",
    "                                        'age_at_initial_diagnosis', 't', 'n', 'm', 'b',\\\n",
    "                                        'predominant_lesion_type_at_diagnosis','lymph_node_biopsy_performed',\\\n",
    "                                        'family_history_of_leukemia_lymphoma', \\\n",
    "                                        'has_the_patient_ever_been_exposed_at_work_or_in_the_service_to_a_toxic_chemical',\\\n",
    "                                        'cd4+:cd8+_ratio', 'total_lymphocyte_count', 'absolute_cd4+_count_per_ul',\\\n",
    "                                        '%cd4+cd26-', '%cd4+cd7-', 'tcr_clonality', 'tumor_cell_cd30+',\\\n",
    "                                        'large_cell_transformation', 'ldh_u_l', 'wbc_103_μl', 'rbc_106_μl',\\\n",
    "                                        'hematocrit_%', 'mcv_fl', 'mchc_g_dl', 'rdw_%', 'platelet_count_103_μl',\\\n",
    "                                        'segmented_neutrophil,_absolute_103_μl', 'lymphocyte,_absolute_103_μl',\\\n",
    "                                        'monocytes,_absolute_103_μl', 'eosinophils,_absolute_103_μl',\\\n",
    "                                        'basophils,_absolute_103_μl', 'segmented_neutrophils_%', 'lymphocytes_%',\\\n",
    "                                        'monocytes_%', 'eosinophils_%', 'basophils_%']])\n",
    "                                       \n",
    "                                       "
   ]
  },
  {
   "cell_type": "code",
   "execution_count": null,
   "id": "67c6d726",
   "metadata": {},
   "outputs": [],
   "source": [
    "# TURN YES/NO & POSITIVE/NEGATIVE TO DUMMIES\n",
    "df_clin_lean['lymph_node_biopsy_performed'] = \\\n",
    "df_clin_lean['lymph_node_biopsy_performed'].apply(lambda x: 1 if x == 'Yes' else 0)\n",
    "\n",
    "df_clin_lean['family_history_of_leukemia_lymphoma'] = \\\n",
    "df_clin_lean['family_history_of_leukemia_lymphoma'].apply(lambda x: 1 if x == 'Yes' else 0)\n",
    "\n",
    "df_clin_lean['tumor_cell_cd30+'] = \\\n",
    "df_clin_lean['tumor_cell_cd30+'].apply(lambda x: 1 if x == 'Yes' else 0)\n",
    "\n",
    "df_clin_lean['large_cell_transformation'] = \\\n",
    "df_clin_lean['large_cell_transformation'].apply(lambda x: 1 if x == 'Yes' else 0)\n",
    "\n",
    "df_clin_lean['tcr_clonality'] = \\\n",
    "df_clin_lean['tcr_clonality'].apply(lambda x: 1 if x == 'Positive' else 0)\n",
    "\n",
    "df_clin_lean['has_the_patient_ever_been_exposed_at_work_or_in_the_service_to_a_toxic_chemical'] = \\\n",
    "df_clin_lean['has_the_patient_ever_been_exposed_at_work_or_in_the_service_to_a_toxic_chemical'].apply(lambda x: 1 if x == 'Yes' else 0)"
   ]
  },
  {
   "cell_type": "code",
   "execution_count": null,
   "id": "fed7ff55",
   "metadata": {},
   "outputs": [],
   "source": [
    "#MERGE CLINICAL, GENETIC DATA\n",
    "df_all = pd.merge(df_lean, df_clin_lean, on='sample_id', how='left')"
   ]
  },
  {
   "cell_type": "code",
   "execution_count": null,
   "id": "14ff06aa",
   "metadata": {},
   "outputs": [],
   "source": [
    "df_all"
   ]
  },
  {
   "cell_type": "code",
   "execution_count": null,
   "id": "db7bdea6",
   "metadata": {},
   "outputs": [],
   "source": [
    "#IMPUTATION; \"UNKNOWN\" FOR CATEGORICAL, MEAN FILL-IN FOR CONTINUOUS\n",
    "for col in df_clin_lean.columns:\n",
    "    if col in ['race', 'gender', 'country_of_residence', 'ethnicity', 'predominant_lesion_type_at_diagnosis']:\n",
    "        df_all[col] = df_all[col].fillna('unknown')\n",
    "    elif col != 'sample_id':\n",
    "        df_all[col] = df_all[col].fillna(np.mean(df_all[col]))"
   ]
  },
  {
   "cell_type": "code",
   "execution_count": null,
   "id": "1b1c54a1",
   "metadata": {},
   "outputs": [],
   "source": [
    "#GET DUMMIES FOR CATEGORICALS\n",
    "df_all = pd.get_dummies(df_all, columns = ['race', 'gender', 'country_of_residence', 'ethnicity', 'predominant_lesion_type_at_diagnosis'])\n",
    "\n",
    "#DEFINE STANDARDSCALER FOR LATER USE\n",
    "std_scl = StandardScaler()"
   ]
  },
  {
   "cell_type": "markdown",
   "id": "01d884cd",
   "metadata": {},
   "source": [
    "## Logistic Regression - From George"
   ]
  },
  {
   "cell_type": "code",
   "execution_count": null,
   "id": "1217c594",
   "metadata": {},
   "outputs": [],
   "source": [
    "X = df_all.drop(columns = [x for x in df_all.columns if x == 'outcome' or x == 'sample_id'])\n",
    "X_scaled = std_scl.fit_transform(X)\n",
    "X_norm = normalize(X)\n",
    "\n",
    "y = df_all.drop(columns = [x for x in df_all.columns if x != 'outcome'])"
   ]
  },
  {
   "cell_type": "code",
   "execution_count": null,
   "id": "1f418a22",
   "metadata": {},
   "outputs": [],
   "source": [
    "y.value_counts(normalize=True)"
   ]
  },
  {
   "cell_type": "code",
   "execution_count": null,
   "id": "f73ee9bb",
   "metadata": {},
   "outputs": [],
   "source": [
    "# 10X ITERATED 3-FOLD CROSS-VALIDATED ACCURACY AND PRECISION FOR MOST ROBUST EVAL W/SMALL SAMPLE\n",
    "rkf = RepeatedKFold(n_splits=3, n_repeats=10)\n",
    "\n",
    "log = lm.LogisticRegression()\n",
    "acc_scores = cross_val_score(log, X_scaled, y.values.ravel(), scoring='accuracy', cv=rkf, n_jobs=-1)\n",
    "prec_scores = cross_val_score(log, X_scaled, y.values.ravel(), scoring='precision', cv=rkf, n_jobs=-1)\n",
    "print('accuracy: ', np.mean(acc_scores))\n",
    "print('precision: ', np.mean(prec_scores))"
   ]
  },
  {
   "cell_type": "markdown",
   "id": "0c927689",
   "metadata": {},
   "source": [
    "## Random Forest"
   ]
  },
  {
   "cell_type": "code",
   "execution_count": null,
   "id": "a17a51ec",
   "metadata": {},
   "outputs": [],
   "source": [
    "# NOW RANDOM FOREST\n",
    "rf = ens.RandomForestClassifier()\n",
    "acc_scores = cross_val_score(rf, X, y.values.ravel(), scoring='accuracy', cv=rkf, n_jobs=-1)\n",
    "prec_scores = cross_val_score(rf, X, y.values.ravel(), scoring='precision', cv=rkf, n_jobs=-1)\n",
    "print('accuracy: ', np.mean(acc_scores))\n",
    "print('precision: ', np.mean(prec_scores))"
   ]
  },
  {
   "cell_type": "markdown",
   "id": "69abdc07",
   "metadata": {},
   "source": [
    "## Ridge Regression"
   ]
  },
  {
   "cell_type": "code",
   "execution_count": null,
   "id": "903d7df2",
   "metadata": {},
   "outputs": [],
   "source": [
    "#RIDGE\n",
    "for a in np.arange(1, 102, 10):\n",
    "    rdg = lm.RidgeClassifier(alpha = a)\n",
    "    acc_scores = cross_val_score(rdg, X_norm, y.values.ravel(), scoring='accuracy', cv=rkf, n_jobs=-1)\n",
    "    prec_scores = cross_val_score(rdg, X_norm, y.values.ravel(), scoring='precision', cv=rkf, n_jobs=-1)\n",
    "    print(a, ' ridge accuracy: ', np.mean(acc_scores))\n",
    "    print(a, ' ridge precision: ', np.mean(prec_scores))\n",
    "    \n"
   ]
  },
  {
   "cell_type": "markdown",
   "id": "79ad57b9",
   "metadata": {},
   "source": [
    "## SVM"
   ]
  },
  {
   "cell_type": "code",
   "execution_count": null,
   "id": "55cb5799",
   "metadata": {},
   "outputs": [],
   "source": [
    "#Support Vector Machine\n",
    "for kern in ['linear', 'poly', 'rbf', 'sigmoid']:\n",
    "    \n",
    "    svc = SVC(kernel = kern, probability = True)\n",
    "    \n",
    "    acc_scores = cross_val_score(svc, X_norm, y.values.ravel(), scoring='accuracy', cv=rkf, n_jobs=-1)\n",
    "    prec_scores = cross_val_score(svc, X_norm, y.values.ravel(), scoring='precision', cv=rkf, n_jobs=-1)\n",
    "    print(kern, ' accuracy: ', np.mean(acc_scores))\n",
    "    print(kern, ' precision: ', np.mean(prec_scores))"
   ]
  },
  {
   "cell_type": "markdown",
   "id": "131e10a3",
   "metadata": {},
   "source": [
    "## XGBoost"
   ]
  },
  {
   "cell_type": "code",
   "execution_count": null,
   "id": "d421191b",
   "metadata": {},
   "outputs": [],
   "source": [
    "#XG Boost\n",
    "from numpy import loadtxt\n",
    "from xgboost import XGBClassifier\n",
    "\n",
    "model = XGBClassifier()\n",
    "acc_scores = cross_val_score(model, X, y.values.ravel(), scoring='accuracy', cv=rkf, n_jobs=-1)\n",
    "prec_scores = cross_val_score(model, X, y.values.ravel(), scoring='precision', cv=rkf, n_jobs=-1)\n",
    "print('accuracy: ', np.mean(acc_scores))\n",
    "print('precision: ', np.mean(prec_scores))"
   ]
  },
  {
   "cell_type": "markdown",
   "id": "130057f8",
   "metadata": {},
   "source": [
    "## ADABoost"
   ]
  },
  {
   "cell_type": "code",
   "execution_count": null,
   "id": "19bb21ab",
   "metadata": {},
   "outputs": [],
   "source": [
    "from sklearn.ensemble import AdaBoostClassifier\n",
    "model = AdaBoostClassifier(n_estimators=100, random_state=0)\n",
    "acc_scores = cross_val_score(model, X, y.values.ravel(), scoring='accuracy', cv=rkf, n_jobs=-1)\n",
    "prec_scores = cross_val_score(model, X, y.values.ravel(), scoring='precision', cv=rkf, n_jobs=-1)\n",
    "print('accuracy: ', np.mean(acc_scores))\n",
    "print('precision: ', np.mean(prec_scores))"
   ]
  },
  {
   "cell_type": "markdown",
   "id": "1a99d1fc",
   "metadata": {},
   "source": [
    "## CATBoost"
   ]
  },
  {
   "cell_type": "code",
   "execution_count": null,
   "id": "8f1e02d2",
   "metadata": {},
   "outputs": [],
   "source": [
    "from catboost import CatBoostClassifier\n",
    "\n",
    "model = CatBoostClassifier(iterations = 100, verbose=10,random_state=123)\n",
    "acc_scores = cross_val_score(model, X, y.values.ravel(), scoring='accuracy', cv=rkf, n_jobs=-1)\n",
    "prec_scores = cross_val_score(model, X, y.values.ravel(), scoring='precision', cv=rkf, n_jobs=-1)\n",
    "print('accuracy: ', np.mean(acc_scores))\n",
    "print('precision: ', np.mean(prec_scores))"
   ]
  },
  {
   "cell_type": "code",
   "execution_count": null,
   "id": "bdad7e71",
   "metadata": {},
   "outputs": [],
   "source": []
  }
 ],
 "metadata": {
  "kernelspec": {
   "display_name": "Python 3 (ipykernel)",
   "language": "python",
   "name": "python3"
  },
  "language_info": {
   "codemirror_mode": {
    "name": "ipython",
    "version": 3
   },
   "file_extension": ".py",
   "mimetype": "text/x-python",
   "name": "python",
   "nbconvert_exporter": "python",
   "pygments_lexer": "ipython3",
   "version": "3.9.6"
  }
 },
 "nbformat": 4,
 "nbformat_minor": 5
}
