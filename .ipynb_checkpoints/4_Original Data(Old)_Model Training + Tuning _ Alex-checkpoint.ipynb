{
 "cells": [
  {
   "cell_type": "code",
   "execution_count": null,
   "id": "7c9fb244",
   "metadata": {},
   "outputs": [],
   "source": [
    "import pandas as pd\n",
    "import numpy as np\n",
    "import math as m\n",
    "import random as rand\n",
    "import matplotlib.pyplot as plt\n",
    "import seaborn as sns\n",
    "import re\n",
    "from datetime import datetime\n",
    "from sklearn import linear_model as lm, metrics, ensemble as ens\n",
    "from sklearn.model_selection import train_test_split, cross_val_score, RepeatedKFold\n",
    "from sklearn.preprocessing import StandardScaler, normalize\n",
    "from sklearn.svm import SVC\n",
    "from sklearn.feature_selection import RFE, RFECV, SequentialFeatureSelector\n",
    "import random"
   ]
  },
  {
   "cell_type": "code",
   "execution_count": null,
   "id": "27b3bf19",
   "metadata": {},
   "outputs": [],
   "source": [
    "#PLOT RF FI FUNCTION I FOUND ONLINE\n",
    "def plot_feature_importance(importance, names, model_type, name, threshold):\n",
    "    \n",
    "    #Create arrays from freature importance and feature names\n",
    "    feature_importance = np.array(importance)\n",
    "    feature_names = np.array(names)\n",
    "    \n",
    "    #CREATE A DATAFRAME USING A DICTIONARY\n",
    "    data = {'feature_names': feature_names, 'feature_importance': feature_importance}\n",
    "    fi_df = pd.DataFrame(data)\n",
    "    \n",
    "    #SORT THE DF IN ORDER DECREASING FI\n",
    "    fi_df.sort_values(by = ['feature_importance'], ascending = False, inplace = True)\n",
    "    \n",
    "    #filter\n",
    "    fi_df = fi_df[fi_df['feature_importance'] >= threshold]\n",
    "    \n",
    "    #DEFINE SIZE OF BAR PLOT\n",
    "    plt.figure(figsize = (5, 6))\n",
    "    \n",
    "    #PLOT SEABORN BAR CHART\n",
    "    sns.barplot(x = fi_df['feature_importance'], y = fi_df['feature_names'])\n",
    "    \n",
    "    #ADD CHART LABELS\n",
    "    plt.title(model_type + ' Feature Importance')\n",
    "    plt.xlabel('Feature Importance')\n",
    "    plt.ylabel('Feature Names')\n",
    "    plt.savefig(name, bbox_inches='tight')"
   ]
  },
  {
   "cell_type": "markdown",
   "id": "130b743c",
   "metadata": {},
   "source": [
    "# Updated Data Set Up (From Geroge)"
   ]
  },
  {
   "cell_type": "markdown",
   "id": "ef8e1009",
   "metadata": {},
   "source": [
    "### Clinical Data"
   ]
  },
  {
   "cell_type": "code",
   "execution_count": null,
   "id": "2ea0b721",
   "metadata": {},
   "outputs": [],
   "source": [
    "#DEFINING A FUNCTION TO UPDATE COLUMN NAMES LATER\n",
    "def lower_no_space(word): \n",
    "    \n",
    "    word = re.sub(' ', '_', word) \n",
    "    \n",
    "    word = re.sub(r'\\'', '', word) \n",
    "    \n",
    "    word = re.sub(r'\\(', '', word)\n",
    "    \n",
    "    word = re.sub(r'\\)', '', word)\n",
    "    \n",
    "    word = re.sub('\\?', '', word)\n",
    "    \n",
    "    word = re.sub('/', '_', word)\n",
    "    \n",
    "    word = word.lower()\n",
    "    \n",
    "    return word"
   ]
  },
  {
   "cell_type": "code",
   "execution_count": null,
   "id": "637f7809",
   "metadata": {},
   "outputs": [],
   "source": [
    "#READ IN ORIGINAL CLINICAL DATA FOR LATER USE (CONVERTED TO .csv IN GOOGLE SHEETS)\n",
    "df_clin = pd.read_csv(\"Homebase.csv\", header = 1)"
   ]
  },
  {
   "cell_type": "code",
   "execution_count": null,
   "id": "568fffaa",
   "metadata": {},
   "outputs": [],
   "source": [
    "#RENAMING COLUMNS\n",
    "df_clin = df_clin.rename(mapper = lower_no_space, axis = 1) \n",
    "df_clin.rename(columns={'subject_sample_id':'sample_id'}, inplace=True)"
   ]
  },
  {
   "cell_type": "code",
   "execution_count": null,
   "id": "774c6f2b",
   "metadata": {},
   "outputs": [],
   "source": [
    "#CHECK CLINICAL DATA BASICS\n",
    "df_clin.head()"
   ]
  },
  {
   "cell_type": "code",
   "execution_count": null,
   "id": "43e88283",
   "metadata": {},
   "outputs": [],
   "source": [
    "#TONS OF DATA, PULL WHAT WE WANT\n",
    "df_clin_lean = df_clin.drop(columns = [x for x in df_clin.columns if x not in ['gender', 'race', \\\n",
    "                                       'country_of_residence', 'sample_id', 'ethnicity',\\\n",
    "                                        'age_at_initial_diagnosis', 't', 'n', 'm', 'b',\\\n",
    "                                        'predominant_lesion_type_at_diagnosis','lymph_node_biopsy_performed',\\\n",
    "                                        'family_history_of_leukemia_lymphoma', \\\n",
    "                                        'has_the_patient_ever_been_exposed_at_work_or_in_the_service_to_a_toxic_chemical',\\\n",
    "                                        'cd4+:cd8+_ratio', 'total_lymphocyte_count', 'absolute_cd4+_count_per_ul',\\\n",
    "                                        '%cd4+cd26-', '%cd4+cd7-', 'tcr_clonality', 'tumor_cell_cd30+',\\\n",
    "                                        'large_cell_transformation', 'ldh_u_l', 'wbc_103_μl', 'rbc_106_μl',\\\n",
    "                                        'hematocrit_%', 'mcv_fl', 'mchc_g_dl', 'rdw_%', 'platelet_count_103_μl',\\\n",
    "                                        'segmented_neutrophil,_absolute_103_μl', 'lymphocyte,_absolute_103_μl',\\\n",
    "                                        'monocytes,_absolute_103_μl', 'eosinophils,_absolute_103_μl',\\\n",
    "                                        'basophils,_absolute_103_μl', 'segmented_neutrophils_%', 'lymphocytes_%',\\\n",
    "                                        'monocytes_%', 'eosinophils_%', 'basophils_%']])"
   ]
  },
  {
   "cell_type": "code",
   "execution_count": null,
   "id": "7ad69775",
   "metadata": {},
   "outputs": [],
   "source": [
    "# TURN YES/NO & POSITIVE/NEGATIVE TO DUMMIES\n",
    "df_clin_lean['lymph_node_biopsy_performed'] = \\\n",
    "df_clin_lean['lymph_node_biopsy_performed'].apply(lambda x: 1 if x == 'Yes' else 0)\n",
    "\n",
    "df_clin_lean['family_history_of_leukemia_lymphoma'] = \\\n",
    "df_clin_lean['family_history_of_leukemia_lymphoma'].apply(lambda x: 1 if x == 'Yes' else 0)\n",
    "\n",
    "df_clin_lean['tumor_cell_cd30+'] = \\\n",
    "df_clin_lean['tumor_cell_cd30+'].apply(lambda x: 1 if x == 'Yes' else 0)\n",
    "\n",
    "df_clin_lean['large_cell_transformation'] = \\\n",
    "df_clin_lean['large_cell_transformation'].apply(lambda x: 1 if x == 'Yes' else 0)\n",
    "\n",
    "df_clin_lean['tcr_clonality'] = \\\n",
    "df_clin_lean['tcr_clonality'].apply(lambda x: 1 if x == 'Positive' else 0)\n",
    "\n",
    "df_clin_lean['has_the_patient_ever_been_exposed_at_work_or_in_the_service_to_a_toxic_chemical'] = \\\n",
    "df_clin_lean['has_the_patient_ever_been_exposed_at_work_or_in_the_service_to_a_toxic_chemical'].apply(lambda x: 1 if x == 'Yes' else 0)"
   ]
  },
  {
   "cell_type": "markdown",
   "id": "9a868c82",
   "metadata": {},
   "source": [
    "# Clinical Data updated_ Alex"
   ]
  },
  {
   "cell_type": "code",
   "execution_count": null,
   "id": "dae7c7dd",
   "metadata": {},
   "outputs": [],
   "source": [
    "#READ IN Updated CLINICAL DATA FOR LATER USE (CONVERTED TO .csv IN GOOGLE SHEETS)\n",
    "df_clin_updated = pd.read_csv(\"Homebase_updated.csv\", header = 1)"
   ]
  },
  {
   "cell_type": "code",
   "execution_count": null,
   "id": "ceade1f5",
   "metadata": {},
   "outputs": [],
   "source": [
    "#RENAMING COLUMNS\n",
    "df_clin_updated = df_clin_updated.rename(mapper = lower_no_space, axis = 1) \n",
    "df_clin_updated.rename(columns={'subject_sample_id':'sample_id'}, inplace=True)"
   ]
  },
  {
   "cell_type": "code",
   "execution_count": null,
   "id": "dd0395c8",
   "metadata": {},
   "outputs": [],
   "source": [
    "#CHECK CLINICAL DATA BASICS\n",
    "df_clin_updated.head()"
   ]
  },
  {
   "cell_type": "code",
   "execution_count": null,
   "id": "b674f62a",
   "metadata": {},
   "outputs": [],
   "source": [
    "#Compute the age at initial diagnosis from date of birth and date_of_initial_diagnosis\n",
    "df_clin_updated['date_of_birth'] = pd.to_datetime(df_clin_updated['date_of_birth'])\n",
    "df_clin_updated['date_of_initial_diagnosis'] = pd.to_datetime(df_clin_updated['date_of_initial_diagnosis'])\n",
    "df_clin_updated[\"age_at_initial_diagnosis\"] = (pd.DatetimeIndex(df_clin_updated['date_of_initial_diagnosis']).year \n",
    "                        - pd.DatetimeIndex(df_clin_updated['date_of_birth']).year)"
   ]
  },
  {
   "cell_type": "code",
   "execution_count": null,
   "id": "6631b604",
   "metadata": {},
   "outputs": [],
   "source": [
    "#Change the data type: date_of_birth, n, m \n",
    "df_clin_updated = df_clin_updated.astype({'t':'object', 'b':'object'})\n"
   ]
  },
  {
   "cell_type": "code",
   "execution_count": null,
   "id": "b342402f",
   "metadata": {},
   "outputs": [],
   "source": [
    "#TONS OF DATA, PULL WHAT WE WANT\n",
    "df_clin_updated_lean = df_clin_updated.drop(columns = [x for x in df_clin_updated.columns if x not in ['gender', 'race', \\\n",
    "                                       'country_of_residence', 'sample_id', 'ethnicity',\\\n",
    "                                        'age_at_initial_diagnosis', 't', 'n', 'm', 'b',\\\n",
    "                                        'predominant_lesion_type_at_diagnosis','lymph_node_biopsy_performed',\\\n",
    "                                        'family_history_of_leukemia_lymphoma', \\\n",
    "                                        'has_the_patient_ever_been_exposed_at_work_or_in_the_service_to_a_toxic_chemical',\\\n",
    "                                        'cd4+:cd8+_ratio', 'total_lymphocyte_count', 'absolute_cd4+_count_per_ul',\\\n",
    "                                        '%cd4+cd26-', '%cd4+cd7-', 'tcr_clonality', 'tumor_cell_cd30+',\\\n",
    "                                        'large_cell_transformation', 'ldh_u_l', 'wbc_103_μl', 'rbc_106_μl',\\\n",
    "                                        'hematocrit_%', 'mcv_fl', 'mchc_g_dl', 'rdw_%', 'platelet_count_103_μl',\\\n",
    "                                        'segmented_neutrophil,_absolute_103_μl', 'lymphocyte,_absolute_103_μl',\\\n",
    "                                        'monocytes,_absolute_103_μl', 'eosinophils,_absolute_103_μl',\\\n",
    "                                        'basophils,_absolute_103_μl', 'segmented_neutrophils_%', 'lymphocytes_%',\\\n",
    "                                        'monocytes_%', 'eosinophils_%', 'basophils_%']])"
   ]
  },
  {
   "cell_type": "code",
   "execution_count": null,
   "id": "3e8b88f2",
   "metadata": {},
   "outputs": [],
   "source": [
    "# TURN YES/NO & POSITIVE/NEGATIVE TO DUMMIES\n",
    "df_clin_updated_lean['lymph_node_biopsy_performed'] = \\\n",
    "df_clin_updated_lean['lymph_node_biopsy_performed'].apply(lambda x: 1 if x == 'Yes' else 0)\n",
    "\n",
    "df_clin_updated_lean['family_history_of_leukemia_lymphoma'] = \\\n",
    "df_clin_updated_lean['family_history_of_leukemia_lymphoma'].apply(lambda x: 1 if x == 'Yes' else 0)\n",
    "\n",
    "df_clin_updated_lean['tumor_cell_cd30+'] = \\\n",
    "df_clin_updated_lean['tumor_cell_cd30+'].apply(lambda x: 1 if x == 'Yes' else 0)\n",
    "\n",
    "df_clin_updated_lean['large_cell_transformation'] = \\\n",
    "df_clin_updated_lean['large_cell_transformation'].apply(lambda x: 1 if x == 'Yes' else 0)\n",
    "\n",
    "df_clin_updated_lean['tcr_clonality'] = \\\n",
    "df_clin_updated_lean['tcr_clonality'].apply(lambda x: 1 if x == 'Positive' else 0)\n",
    "\n",
    "df_clin_updated_lean['has_the_patient_ever_been_exposed_at_work_or_in_the_service_to_a_toxic_chemical'] = \\\n",
    "df_clin_updated_lean['has_the_patient_ever_been_exposed_at_work_or_in_the_service_to_a_toxic_chemical'].apply(lambda x: 1 if x == 'Yes' else 0)"
   ]
  },
  {
   "cell_type": "markdown",
   "id": "4109d752",
   "metadata": {},
   "source": [
    "### df_lean: Preprocessed Genetic Data"
   ]
  },
  {
   "cell_type": "code",
   "execution_count": null,
   "id": "bb146ddf",
   "metadata": {},
   "outputs": [],
   "source": [
    "# Read in the Preprocessed Genetic Data\n",
    "df_lean = pd.read_csv ('stats_by_sample.csv')"
   ]
  },
  {
   "cell_type": "code",
   "execution_count": null,
   "id": "416cc4e1",
   "metadata": {},
   "outputs": [],
   "source": [
    "#CHECK CLINICAL DATA BASICS\n",
    "df_clin_updated.head()"
   ]
  },
  {
   "cell_type": "code",
   "execution_count": null,
   "id": "0340dd7a",
   "metadata": {},
   "outputs": [],
   "source": [
    "#TRANSFORM SAMPLE ID TO JOIN TO CLINICAL DATA\n",
    "df_lean['sample_id'] = df_lean['sample_id'].apply(lambda x: re.sub('_', '-', x[:5]) if 'WES' in x else\\\n",
    "                                                  (x[:-10] if 'CTCL' in x else \\\n",
    "                                                   ('-'.join([ele.lstrip('0').lower() for ele in x[:-10].split('-')]) if 'SPZ' in x else x)))"
   ]
  },
  {
   "cell_type": "markdown",
   "id": "c0bf3b68",
   "metadata": {},
   "source": [
    "# Merge (Original)"
   ]
  },
  {
   "cell_type": "code",
   "execution_count": null,
   "id": "f2565ac7",
   "metadata": {},
   "outputs": [],
   "source": [
    "#MERGE CLINICAL, GENETIC DATA\n",
    "df_all = pd.merge(df_lean, df_clin_lean, on='sample_id', how='left')"
   ]
  },
  {
   "cell_type": "code",
   "execution_count": null,
   "id": "5fec7d97",
   "metadata": {},
   "outputs": [],
   "source": [
    "#IMPUTATION; \"UNKNOWN\" FOR CATEGORICAL, MEAN FILL-IN FOR CONTINUOUS\n",
    "for col in df_clin_lean.columns:\n",
    "    if col in ['race', 'gender', 'country_of_residence', 'ethnicity', 'predominant_lesion_type_at_diagnosis']:\n",
    "        df_all[col] = df_all[col].fillna('unknown')\n",
    "    elif col != 'sample_id':\n",
    "        df_all[col] = df_all[col].fillna(np.mean(df_all[col]))"
   ]
  },
  {
   "cell_type": "code",
   "execution_count": null,
   "id": "05df0d48",
   "metadata": {},
   "outputs": [],
   "source": [
    "#GET DUMMIES FOR CATEGORICALS\n",
    "df_all = pd.get_dummies(df_all, columns = ['race', 'gender', 'country_of_residence', 'ethnicity', 'predominant_lesion_type_at_diagnosis'])\n"
   ]
  },
  {
   "cell_type": "markdown",
   "id": "8b45bf91",
   "metadata": {},
   "source": [
    "# Merge (Updated)"
   ]
  },
  {
   "cell_type": "code",
   "execution_count": null,
   "id": "e72abdd6",
   "metadata": {},
   "outputs": [],
   "source": [
    "#MERGE tbe updated CLINICAL, GENETIC DATA\n",
    "df_all_updated = pd.merge(df_lean, df_clin_updated_lean, on='sample_id', how='left')"
   ]
  },
  {
   "cell_type": "code",
   "execution_count": null,
   "id": "3f6f3368",
   "metadata": {},
   "outputs": [],
   "source": [
    "#IMPUTATION; \"UNKNOWN\" FOR CATEGORICAL, MEAN FILL-IN FOR CONTINUOUS\n",
    "for col in df_clin_updated_lean.columns:\n",
    "    if col in ['race', 'gender', 'country_of_residence', 'ethnicity', 'predominant_lesion_type_at_diagnosis', 't', \n",
    "              'n', 'm', 'b']:\n",
    "        df_all_updated[col] = df_all_updated[col].fillna('unknown')\n",
    "    elif col != 'sample_id':\n",
    "        df_all_updated[col] = df_all_updated[col].fillna(np.mean(df_all_updated[col]))"
   ]
  },
  {
   "cell_type": "code",
   "execution_count": null,
   "id": "40723dae",
   "metadata": {},
   "outputs": [],
   "source": [
    "#GET DUMMIES FOR CATEGORICALS\n",
    "df_all_updated = pd.get_dummies(df_all_updated, columns = ['race', 'gender', 'country_of_residence', 'ethnicity', 'predominant_lesion_type_at_diagnosis', \n",
    "                                                          't', 'n', 'm', 'b'])\n"
   ]
  },
  {
   "cell_type": "markdown",
   "id": "5ee39532",
   "metadata": {},
   "source": [
    "# Defining Features and Labels"
   ]
  },
  {
   "cell_type": "code",
   "execution_count": null,
   "id": "9e846370",
   "metadata": {},
   "outputs": [],
   "source": [
    "#DEFINE STANDARDSCALER FOR LATER USE\n",
    "std_scl = StandardScaler()"
   ]
  },
  {
   "cell_type": "code",
   "execution_count": null,
   "id": "cc1a2d9c",
   "metadata": {},
   "outputs": [],
   "source": [
    "# Define (Scaled/Normalized) Features and Labels\n",
    "X = df_all.drop(columns = [x for x in df_all.columns if x == 'outcome' or x == 'sample_id'])\n",
    "X_scaled = std_scl.fit_transform(X)\n",
    "X_norm = normalize(X)\n",
    "\n",
    "y = df_all.drop(columns = [x for x in df_all.columns if x != 'outcome'])"
   ]
  },
  {
   "cell_type": "code",
   "execution_count": null,
   "id": "b8d2f8bb",
   "metadata": {},
   "outputs": [],
   "source": [
    "df_all['outcome'].value_counts(normalize = True)"
   ]
  },
  {
   "cell_type": "markdown",
   "id": "2dd44cde",
   "metadata": {},
   "source": [
    "## For updated data"
   ]
  },
  {
   "cell_type": "code",
   "execution_count": null,
   "id": "b33c4f52",
   "metadata": {},
   "outputs": [],
   "source": [
    "#DEFINE STANDARDSCALER FOR LATER USE\n",
    "std_scl = StandardScaler()"
   ]
  },
  {
   "cell_type": "code",
   "execution_count": null,
   "id": "b2b52ab8",
   "metadata": {},
   "outputs": [],
   "source": [
    "# Define (Scaled/Normalized) Features and Labels\n",
    "X_new = df_all_updated.drop(columns = [x for x in df_all_updated.columns if x == 'outcome' or x == 'sample_id'])\n",
    "X_new_scaled = std_scl.fit_transform(X_new)\n",
    "X_new_norm = normalize(X_new)\n",
    "\n",
    "y_new = df_all_updated.drop(columns = [x for x in df_all_updated.columns if x != 'outcome'])"
   ]
  },
  {
   "cell_type": "code",
   "execution_count": null,
   "id": "ce75d673",
   "metadata": {},
   "outputs": [],
   "source": [
    "df_all_updated['outcome'].value_counts(normalize = True)"
   ]
  },
  {
   "cell_type": "markdown",
   "id": "e4aaecbd",
   "metadata": {},
   "source": [
    "# Model Training - (Original Data)"
   ]
  },
  {
   "cell_type": "markdown",
   "id": "803bd705",
   "metadata": {},
   "source": [
    "###  Repeated Stratified K-fold / Repeated K-fold"
   ]
  },
  {
   "cell_type": "code",
   "execution_count": null,
   "id": "56175bd2",
   "metadata": {},
   "outputs": [],
   "source": [
    "# 10X ITERATED 3-FOLD CROSS-VALIDATED ACCURACY AND PRECISION FOR MOST ROBUST EVAL W/SMALL SAMPLE\n",
    "rkf = RepeatedKFold(n_splits=3, n_repeats=10)"
   ]
  },
  {
   "cell_type": "code",
   "execution_count": null,
   "id": "28fa1097",
   "metadata": {},
   "outputs": [],
   "source": [
    "# Stratified Version\n",
    "from sklearn.model_selection import RepeatedStratifiedKFold\n",
    "rskf = RepeatedStratifiedKFold(n_splits=3, n_repeats=10)"
   ]
  },
  {
   "cell_type": "markdown",
   "id": "920a2488",
   "metadata": {},
   "source": [
    "### Logistic Regression"
   ]
  },
  {
   "cell_type": "code",
   "execution_count": null,
   "id": "b2bc27fd",
   "metadata": {},
   "outputs": [],
   "source": [
    "log = lm.LogisticRegression()\n",
    "acc_scores = cross_val_score(log, X_scaled, y.values.ravel(), scoring='accuracy', cv=rkf, n_jobs=-1)\n",
    "prec_scores = cross_val_score(log, X_scaled, y.values.ravel(), scoring='precision', cv=rkf, n_jobs=-1)\n",
    "print('accuracy: ', np.mean(acc_scores))\n",
    "print('precision: ', np.mean(prec_scores))"
   ]
  },
  {
   "cell_type": "code",
   "execution_count": null,
   "id": "649027b0",
   "metadata": {},
   "outputs": [],
   "source": [
    "log = lm.LogisticRegression()\n",
    "acc_scores = cross_val_score(log, X_scaled, y.values.ravel(), scoring='accuracy', cv=rskf, n_jobs=-1)\n",
    "prec_scores = cross_val_score(log, X_scaled, y.values.ravel(), scoring='precision', cv=rskf, n_jobs=-1)\n",
    "print('accuracy: ', np.mean(acc_scores))\n",
    "print('precision: ', np.mean(prec_scores))"
   ]
  },
  {
   "cell_type": "markdown",
   "id": "6b81af8b",
   "metadata": {},
   "source": [
    "### Random Forest"
   ]
  },
  {
   "cell_type": "code",
   "execution_count": null,
   "id": "b6d75335",
   "metadata": {},
   "outputs": [],
   "source": [
    "# RANDOM FOREST (rkf)\n",
    "rf = ens.RandomForestClassifier()\n",
    "acc_scores = cross_val_score(rf, X, y.values.ravel(), scoring='accuracy', cv=rkf, n_jobs=-1)\n",
    "prec_scores = cross_val_score(rf, X, y.values.ravel(), scoring='precision', cv=rkf, n_jobs=-1)\n",
    "print('accuracy: ', np.mean(acc_scores))\n",
    "print('precision: ', np.mean(prec_scores))"
   ]
  },
  {
   "cell_type": "code",
   "execution_count": null,
   "id": "55e146e7",
   "metadata": {},
   "outputs": [],
   "source": [
    "# RANDOM FOREST (rskf)\n",
    "rf = ens.RandomForestClassifier()\n",
    "acc_scores = cross_val_score(rf, X, y.values.ravel(), scoring='accuracy', cv=rskf, n_jobs=-1)\n",
    "prec_scores = cross_val_score(rf, X, y.values.ravel(), scoring='precision', cv=rskf, n_jobs=-1)\n",
    "print('accuracy: ', np.mean(acc_scores))\n",
    "print('precision: ', np.mean(prec_scores))"
   ]
  },
  {
   "cell_type": "markdown",
   "id": "b5a4e5d5",
   "metadata": {},
   "source": [
    "### Ridge Classifier"
   ]
  },
  {
   "cell_type": "code",
   "execution_count": null,
   "id": "25866530",
   "metadata": {},
   "outputs": [],
   "source": [
    "#RIDGE\n",
    "rdg = lm.RidgeClassifier()\n",
    "acc_scores = cross_val_score(rdg, X_norm, y.values.ravel(), scoring='accuracy', cv=rskf, n_jobs=-1)\n",
    "prec_scores = cross_val_score(rdg, X_norm, y.values.ravel(), scoring='precision', cv=rskf, n_jobs=-1)\n",
    "print('ridge accuracy: ', np.mean(acc_scores))\n",
    "print('ridge precision: ', np.mean(prec_scores))"
   ]
  },
  {
   "cell_type": "markdown",
   "id": "1ee204f2",
   "metadata": {},
   "source": [
    "### Support Vector Classifier (SVC)"
   ]
  },
  {
   "cell_type": "code",
   "execution_count": null,
   "id": "709c34ef",
   "metadata": {},
   "outputs": [],
   "source": [
    "#Support Vector Machine\n",
    "for kern in ['linear', 'poly', 'rbf', 'sigmoid']:\n",
    "    \n",
    "    svc = SVC(kernel = kern, probability = True)\n",
    "    \n",
    "    acc_scores = cross_val_score(svc, X_norm, y.values.ravel(), scoring='accuracy', cv=rskf, n_jobs=-1)\n",
    "    prec_scores = cross_val_score(svc, X_norm, y.values.ravel(), scoring='precision', cv=rskf, n_jobs=-1)\n",
    "    print(kern, ' accuracy: ', np.mean(acc_scores))\n",
    "    print(kern, ' precision: ', np.mean(prec_scores))"
   ]
  },
  {
   "cell_type": "markdown",
   "id": "73d00781",
   "metadata": {},
   "source": [
    "### XGBoost"
   ]
  },
  {
   "cell_type": "code",
   "execution_count": null,
   "id": "5459b5d8",
   "metadata": {},
   "outputs": [],
   "source": [
    "from numpy import loadtxt\n",
    "from xgboost import XGBClassifier\n",
    "\n",
    "model = XGBClassifier()\n",
    "acc_scores = cross_val_score(model, X, y.values.ravel(), scoring='accuracy', cv=rskf, n_jobs=-1)\n",
    "prec_scores = cross_val_score(model, X, y.values.ravel(), scoring='precision', cv=rskf, n_jobs=-1)\n",
    "print('accuracy: ', np.mean(acc_scores))\n",
    "print('precision: ', np.mean(prec_scores))"
   ]
  },
  {
   "cell_type": "markdown",
   "id": "a61c6e0d",
   "metadata": {},
   "source": [
    "### CATBoost"
   ]
  },
  {
   "cell_type": "code",
   "execution_count": null,
   "id": "db575102",
   "metadata": {},
   "outputs": [],
   "source": [
    "from catboost import CatBoostClassifier\n",
    "\n",
    "model = CatBoostClassifier(iterations = 100, verbose=10,random_state=123)\n",
    "acc_scores = cross_val_score(model, X, y.values.ravel(), scoring='accuracy', cv=rskf, n_jobs=-1)\n",
    "prec_scores = cross_val_score(model, X, y.values.ravel(), scoring='precision', cv=rskf, n_jobs=-1)\n",
    "print('accuracy: ', np.mean(acc_scores))\n",
    "print('precision: ', np.mean(prec_scores))"
   ]
  },
  {
   "cell_type": "markdown",
   "id": "7dd0a31c",
   "metadata": {},
   "source": [
    "### AdaBoost"
   ]
  },
  {
   "cell_type": "code",
   "execution_count": null,
   "id": "3d1d8bc9",
   "metadata": {},
   "outputs": [],
   "source": [
    "from sklearn.ensemble import AdaBoostClassifier\n",
    "\n",
    "model = AdaBoostClassifier(random_state=123)\n",
    "acc_scores = cross_val_score(model, X, y.values.ravel(), scoring='accuracy', cv=rskf, n_jobs=-1)\n",
    "prec_scores = cross_val_score(model, X, y.values.ravel(), scoring='precision', cv=rskf, n_jobs=-1)\n",
    "print('accuracy: ', np.mean(acc_scores))\n",
    "print('precision: ', np.mean(prec_scores))"
   ]
  },
  {
   "cell_type": "markdown",
   "id": "1682fcd4",
   "metadata": {},
   "source": [
    "# Model Training - (Updated Data)"
   ]
  },
  {
   "cell_type": "markdown",
   "id": "8edb0704",
   "metadata": {},
   "source": [
    "###  Repeated Stratified K-fold "
   ]
  },
  {
   "cell_type": "code",
   "execution_count": null,
   "id": "e9285566",
   "metadata": {},
   "outputs": [],
   "source": [
    "# Stratified Version\n",
    "from sklearn.model_selection import RepeatedStratifiedKFold\n",
    "rskf = RepeatedStratifiedKFold(n_splits=3, n_repeats=10)"
   ]
  },
  {
   "cell_type": "markdown",
   "id": "d4da8ca1",
   "metadata": {},
   "source": [
    "### Logistic Regression"
   ]
  },
  {
   "cell_type": "code",
   "execution_count": null,
   "id": "04ba0902",
   "metadata": {},
   "outputs": [],
   "source": [
    "log = lm.LogisticRegression()\n",
    "acc_scores = cross_val_score(log, X_new_scaled, y_new.values.ravel(), scoring='accuracy', cv=rskf, n_jobs=-1)\n",
    "prec_scores = cross_val_score(log, X_new_scaled, y_new.values.ravel(), scoring='precision', cv=rskf, n_jobs=-1)\n",
    "print('accuracy: ', np.mean(acc_scores))\n",
    "print('precision: ', np.mean(prec_scores))"
   ]
  },
  {
   "cell_type": "markdown",
   "id": "8916ab7a",
   "metadata": {},
   "source": [
    "### Random Forest"
   ]
  },
  {
   "cell_type": "code",
   "execution_count": null,
   "id": "ab147213",
   "metadata": {},
   "outputs": [],
   "source": [
    "# RANDOM FOREST (rskf)\n",
    "rf = ens.RandomForestClassifier()\n",
    "acc_scores = cross_val_score(rf, X_new, y_new.values.ravel(), scoring='accuracy', cv=rskf, n_jobs=-1)\n",
    "prec_scores = cross_val_score(rf, X_new, y_new.values.ravel(), scoring='precision', cv=rskf, n_jobs=-1)\n",
    "print('accuracy: ', np.mean(acc_scores))\n",
    "print('precision: ', np.mean(prec_scores))"
   ]
  },
  {
   "cell_type": "markdown",
   "id": "b1d5bb71",
   "metadata": {},
   "source": [
    "### Ridge Classifier"
   ]
  },
  {
   "cell_type": "code",
   "execution_count": null,
   "id": "09dc7d68",
   "metadata": {},
   "outputs": [],
   "source": [
    "#RIDGE\n",
    "rdg = lm.RidgeClassifier()\n",
    "acc_scores = cross_val_score(rdg, X_new_norm, y_new.values.ravel(), scoring='accuracy', cv=rskf, n_jobs=-1)\n",
    "prec_scores = cross_val_score(rdg, X_new_norm, y_new.values.ravel(), scoring='precision', cv=rskf, n_jobs=-1)\n",
    "print('ridge accuracy: ', np.mean(acc_scores))\n",
    "print('ridge precision: ', np.mean(prec_scores))"
   ]
  },
  {
   "cell_type": "markdown",
   "id": "755730f1",
   "metadata": {},
   "source": [
    "### Support Vector Classifier (SVC)"
   ]
  },
  {
   "cell_type": "code",
   "execution_count": null,
   "id": "fd5c2720",
   "metadata": {},
   "outputs": [],
   "source": [
    "#Support Vector Machine\n",
    "for kern in ['linear', 'poly', 'rbf', 'sigmoid']:\n",
    "    \n",
    "    svc = SVC(kernel = kern, probability = True)\n",
    "    \n",
    "    acc_scores = cross_val_score(svc, X_new_norm, y_new.values.ravel(), scoring='accuracy', cv=rskf, n_jobs=-1)\n",
    "    prec_scores = cross_val_score(svc, X_new_norm, y_new.values.ravel(), scoring='precision', cv=rskf, n_jobs=-1)\n",
    "    print(kern, ' accuracy: ', np.mean(acc_scores))\n",
    "    print(kern, ' precision: ', np.mean(prec_scores))"
   ]
  },
  {
   "cell_type": "markdown",
   "id": "da3ddcdb",
   "metadata": {},
   "source": [
    "### XGBoost"
   ]
  },
  {
   "cell_type": "code",
   "execution_count": null,
   "id": "a61f739c",
   "metadata": {},
   "outputs": [],
   "source": [
    "from numpy import loadtxt\n",
    "from xgboost import XGBClassifier\n",
    "\n",
    "model = XGBClassifier()\n",
    "acc_scores = cross_val_score(model, X_new, y_new.values.ravel(), scoring='accuracy', cv=rskf, n_jobs=-1)\n",
    "prec_scores = cross_val_score(model, X_new, y_new.values.ravel(), scoring='precision', cv=rskf, n_jobs=-1)\n",
    "print('accuracy: ', np.mean(acc_scores))\n",
    "print('precision: ', np.mean(prec_scores))\n",
    "print(model.best_score)"
   ]
  },
  {
   "cell_type": "markdown",
   "id": "3bd46960",
   "metadata": {},
   "source": [
    "### CATBoost"
   ]
  },
  {
   "cell_type": "code",
   "execution_count": null,
   "id": "607d2fa8",
   "metadata": {},
   "outputs": [],
   "source": [
    "from catboost import CatBoostClassifier\n",
    "\n",
    "model = CatBoostClassifier(iterations = 100, verbose = 2, random_state=123)\n",
    "acc_scores = cross_val_score(model, X_new, y_new.values.ravel(), scoring='accuracy', cv=rskf, n_jobs=-1)\n",
    "prec_scores = cross_val_score(model, X_new, y_new.values.ravel(), scoring='precision', cv=rskf, n_jobs=-1)\n",
    "print('accuracy: ', np.mean(acc_scores))\n",
    "print('precision: ', np.mean(prec_scores))"
   ]
  },
  {
   "cell_type": "markdown",
   "id": "ff933f8b",
   "metadata": {},
   "source": [
    "### AdaBoost"
   ]
  },
  {
   "cell_type": "code",
   "execution_count": null,
   "id": "372829d9",
   "metadata": {},
   "outputs": [],
   "source": [
    "from sklearn.ensemble import AdaBoostClassifier\n",
    "\n",
    "model = AdaBoostClassifier(random_state=123)\n",
    "acc_scores = cross_val_score(model, X_new, y_new.values.ravel(), scoring='accuracy', cv=rskf, n_jobs=-1)\n",
    "prec_scores = cross_val_score(model, X_new, y_new.values.ravel(), scoring='precision', cv=rskf, n_jobs=-1)\n",
    "print('accuracy: ', np.mean(acc_scores))\n",
    "print('precision: ', np.mean(prec_scores))"
   ]
  },
  {
   "cell_type": "markdown",
   "id": "82c086a8",
   "metadata": {},
   "source": [
    "# Hyperparameter Tunning"
   ]
  },
  {
   "cell_type": "markdown",
   "id": "010e5d5a",
   "metadata": {},
   "source": [
    "### AdaBoost"
   ]
  },
  {
   "cell_type": "code",
   "execution_count": null,
   "id": "4e0bae0f",
   "metadata": {},
   "outputs": [],
   "source": [
    "from sklearn.model_selection import GridSearchCV\n",
    "\n",
    "# 10X ITERATED STRATIFIED 3-FOLD CROSS-VALIDATED ACCURACY AND PRECISION\n",
    "rskf = RepeatedStratifiedKFold(n_splits=3, n_repeats=10, random_state=0)\n",
    "model = AdaBoostClassifier(random_state=123)\n",
    "\n",
    "# Creating space for different hyperparameters\n",
    "space = dict()\n",
    "space['n_estimators'] = [10, 50, 100, 150, 200, 250, 300]\n",
    "space['learning_rate'] = [10**i for i in range(-7,1)]\n",
    "space['algorithm'] = ['SAMME', 'SAMME.R']\n",
    "\n",
    "# Search\n",
    "search = GridSearchCV(model, space, scoring='accuracy', cv=rskf, n_jobs=-1)\n",
    "result = search.fit(X, y.values.ravel())\n",
    "\n",
    "#Print Result\n",
    "print('Best Score: %s' % result.best_score_)\n",
    "print('Best Hyperparameters: %s' % result.best_params_)"
   ]
  },
  {
   "cell_type": "code",
   "execution_count": null,
   "id": "771e5200",
   "metadata": {},
   "outputs": [],
   "source": [
    "model_ada = AdaBoostClassifier(n_estimators=200, learning_rate = 1, algorithm = \"SAMME.R\")\n",
    "acc_scores = cross_val_score(model_ada, X, y.values.ravel(), scoring='accuracy', cv=rskf, n_jobs=-1)\n",
    "prec_scores = cross_val_score(model_ada, X, y.values.ravel(), scoring='precision', cv=rskf, n_jobs=-1)\n",
    "print('accuracy: ', np.mean(acc_scores))\n",
    "print('precision: ', np.mean(prec_scores))"
   ]
  },
  {
   "cell_type": "markdown",
   "id": "a043c999",
   "metadata": {},
   "source": [
    "### Ridge Classifier"
   ]
  },
  {
   "cell_type": "code",
   "execution_count": null,
   "id": "ddaf6ff2",
   "metadata": {},
   "outputs": [],
   "source": [
    "# 10X ITERATED STRATIFIED 3-FOLD CROSS-VALIDATED ACCURACY AND PRECISION\n",
    "rskf = RepeatedStratifiedKFold(n_splits=3, n_repeats=10, random_state=0)\n",
    "model_rdg = lm.RidgeClassifier()\n",
    "\n",
    "# Creating space for different hyperparameters\n",
    "space = dict()\n",
    "space['alpha'] = [10**i for i in range(-4,3)]\n",
    "\n",
    "# Search\n",
    "search = GridSearchCV(model_rdg, space, scoring='accuracy', cv=rskf, n_jobs=-1)\n",
    "result = search.fit(X_norm, y.values.ravel())\n",
    "\n",
    "#Print Result\n",
    "print('Best Score: %s' % result.best_score_)\n",
    "print('Best Hyperparameters: %s' % result.best_params_)"
   ]
  },
  {
   "cell_type": "code",
   "execution_count": null,
   "id": "35a31afb",
   "metadata": {},
   "outputs": [],
   "source": [
    "# 10X ITERATED STRATIFIED 3-FOLD CROSS-VALIDATED ACCURACY AND PRECISION\n",
    "rskf = RepeatedStratifiedKFold(n_splits=3, n_repeats=10, random_state=0)\n",
    "model_rdg = lm.RidgeClassifier()\n",
    "\n",
    "# Creating space for different hyperparameters\n",
    "space = dict()\n",
    "space['alpha'] = [a for a in np.arange(0.1, 1.1, 0.1)]\n",
    "\n",
    "# Search\n",
    "search = GridSearchCV(model_rdg, space, scoring='accuracy', cv=rskf, n_jobs=-1)\n",
    "result = search.fit(X_norm, y.values.ravel())\n",
    "\n",
    "#Print Result\n",
    "print('Best Score: %s' % result.best_score_)\n",
    "print('Best Hyperparameters: %s' % result.best_params_)"
   ]
  },
  {
   "cell_type": "code",
   "execution_count": null,
   "id": "7e736d78",
   "metadata": {},
   "outputs": [],
   "source": [
    "rskf = RepeatedStratifiedKFold(n_splits=3, n_repeats=10)\n",
    "rdg = lm.RidgeClassifier(alpha = 0.7)\n",
    "acc_scores = cross_val_score(rdg, X_norm, y.values.ravel(), scoring='accuracy', cv=rskf, n_jobs=-1)\n",
    "prec_scores = cross_val_score(rdg, X_norm, y.values.ravel(), scoring='precision', cv=rskf, n_jobs=-1)\n",
    "print('alpha=0.7, ridge accuracy: ', np.mean(acc_scores))\n",
    "print('alpha=0.7, ridge precision: ', np.mean(prec_scores))"
   ]
  },
  {
   "cell_type": "markdown",
   "id": "2d5e1bc1",
   "metadata": {},
   "source": [
    "### SVC"
   ]
  },
  {
   "cell_type": "code",
   "execution_count": null,
   "id": "efd3d9ad",
   "metadata": {},
   "outputs": [],
   "source": [
    "rskf = RepeatedStratifiedKFold(n_splits=3, n_repeats=10, random_state=0)\n",
    "model_svc = SVC(random_state=123)\n",
    "\n",
    "# Creating space for different hyperparameters\n",
    "space = dict()\n",
    "space['C'] = [50, 10, 1, 0.1, 0.001]\n",
    "space['kernel'] = ['linear', 'poly', 'rbf', 'sigmoid']\n",
    "space['probability'] = [True, False]\n",
    "space['gamma'] = ['auto', 'scale']\n",
    "\n",
    "# Search\n",
    "search = GridSearchCV(model_svc, space, scoring='accuracy', cv=rskf, n_jobs=-1)\n",
    "result = search.fit(X_norm, y.values.ravel())\n",
    "\n",
    "#Print Result\n",
    "print('Best Score: %s' % result.best_score_)\n",
    "print('Best Hyperparameters: %s' % result.best_params_)"
   ]
  },
  {
   "cell_type": "code",
   "execution_count": null,
   "id": "8af9b290",
   "metadata": {},
   "outputs": [],
   "source": [
    "svc = SVC(C=10, kernel='sigmoid', probability = True, gamma = 'scale')\n",
    "    \n",
    "acc_scores = cross_val_score(svc, X_norm, y.values.ravel(), scoring='accuracy', cv=rskf, n_jobs=-1)\n",
    "prec_scores = cross_val_score(svc, X_norm, y.values.ravel(), scoring='precision', cv=rskf, n_jobs=-1)\n",
    "print('SVC accuracy: ', np.mean(acc_scores))\n",
    "print('SVC precision: ', np.mean(prec_scores))"
   ]
  },
  {
   "cell_type": "markdown",
   "id": "1af1081a",
   "metadata": {},
   "source": [
    "### Random Forest"
   ]
  },
  {
   "cell_type": "code",
   "execution_count": null,
   "id": "831e1ff3",
   "metadata": {},
   "outputs": [],
   "source": [
    "rskf = RepeatedStratifiedKFold(n_splits=3, n_repeats=10, random_state=0)\n",
    "model_rf = ens.RandomForestClassifier(random_state=123)\n",
    "\n",
    "# Creating space for different hyperparameters\n",
    "space = dict()\n",
    "space['n_estimators'] = [50, 100, 150, 200, 300, 400, 500]\n",
    "space['max_depth'] = [None, 5, 10, 14, 19, 25, 30]\n",
    "space['criterion'] = ['gini', 'entropy']\n",
    "\n",
    "# Search\n",
    "search = GridSearchCV(model_rf, space, scoring='accuracy', cv=rskf, n_jobs=-1)\n",
    "result = search.fit(X, y.values.ravel())\n",
    "\n",
    "#Print Result\n",
    "print('Best Score: %s' % result.best_score_)\n",
    "print('Best Hyperparameters: %s' % result.best_params_)"
   ]
  },
  {
   "cell_type": "code",
   "execution_count": null,
   "id": "fd1625a9",
   "metadata": {},
   "outputs": [],
   "source": [
    "rf = ens.RandomForestClassifier(n_estimators=300, criterion=\"gini\")\n",
    "acc_scores = cross_val_score(rf, X, y.values.ravel(), scoring='accuracy', cv=rskf, n_jobs=-1)\n",
    "prec_scores = cross_val_score(rf, X, y.values.ravel(), scoring='precision', cv=rskf, n_jobs=-1)\n",
    "print('accuracy: ', np.mean(acc_scores))\n",
    "print('precision: ', np.mean(prec_scores))"
   ]
  },
  {
   "cell_type": "markdown",
   "id": "2859c539",
   "metadata": {},
   "source": [
    "# Try PCA - Original data "
   ]
  },
  {
   "cell_type": "markdown",
   "id": "a890f8f1",
   "metadata": {},
   "source": [
    "## BootStrap sampling\n",
    "\n",
    "\n",
    "## standard deviation (Fro"
   ]
  },
  {
   "cell_type": "code",
   "execution_count": null,
   "id": "8cb1119b",
   "metadata": {},
   "outputs": [],
   "source": [
    "## Try PCA for Dimensionality Reduction\n",
    "from sklearn.decomposition import PCA, KernelPCA\n",
    "from sklearn.pipeline import Pipeline"
   ]
  },
  {
   "cell_type": "code",
   "execution_count": null,
   "id": "e3158fb4",
   "metadata": {},
   "outputs": [],
   "source": [
    "# Stratified Version\n",
    "rskf = RepeatedStratifiedKFold(n_splits=3, n_repeats=10)"
   ]
  },
  {
   "cell_type": "markdown",
   "id": "3abbd8b1",
   "metadata": {},
   "source": [
    "### Logistic Regression"
   ]
  },
  {
   "cell_type": "code",
   "execution_count": null,
   "id": "9d9eca66",
   "metadata": {},
   "outputs": [],
   "source": [
    "steps = [('pca', PCA(n_components=3)), ('m', lm.LogisticRegression())]\n",
    "model_lg = Pipeline(steps = steps)\n",
    "\n",
    "test_acc_scores = cross_val_score(model_lg, X, y.values.ravel(), scoring='accuracy', cv=rskf, n_jobs=-1)\n",
    "test_prec_scores = cross_val_score(model_lg, X, y.values.ravel(), scoring='precision', cv=rskf, n_jobs=-1)\n",
    "print('accuracy: ', np.mean(test_acc_scores))\n",
    "print('precision: ', np.mean(test_prec_scores))"
   ]
  },
  {
   "cell_type": "markdown",
   "id": "fa0053d8",
   "metadata": {},
   "source": [
    "### Random Forest"
   ]
  },
  {
   "cell_type": "code",
   "execution_count": null,
   "id": "cc3bb5ce",
   "metadata": {},
   "outputs": [],
   "source": [
    "# NOW RANDOM FOREST\n",
    "AcRate = []\n",
    "PreScore = []\n",
    "rskf = RepeatedStratifiedKFold(n_splits=3, n_repeats=10, random_state=0)\n",
    "for i in range(1,21):\n",
    "    steps = [('pca', PCA(n_components=i)), ('m', ens.RandomForestClassifier(random_state=123))]\n",
    "    model_rf = Pipeline(steps = steps)\n",
    "\n",
    "    test_acc_scores = cross_val_score(model_rf, X, y.values.ravel(), scoring='accuracy', cv=rskf, n_jobs=-1)\n",
    "    test_prec_scores = cross_val_score(model_rf, X, y.values.ravel(), scoring='precision', cv=rskf, n_jobs=-1)\n",
    "    AcRate.append(np.mean(test_acc_scores))\n",
    "    PreScore.append(np.mean(test_prec_scores))\n",
    "    print('n_components:', i, 'accuracy: ', np.mean(test_acc_scores))\n",
    "    print('n_components:', i, 'precision: ', np.mean(test_prec_scores))"
   ]
  },
  {
   "cell_type": "code",
   "execution_count": null,
   "id": "01c8f374",
   "metadata": {},
   "outputs": [],
   "source": [
    "n_components = [r for r in range (1,21)]\n",
    "  \n",
    "plt.plot(n_components, AcRate, label = \"Accuracy\")\n",
    "plt.plot(n_components, PreScore, label = \"Precision\")\n",
    "plt.legend()\n",
    "plt.show()"
   ]
  },
  {
   "cell_type": "code",
   "execution_count": null,
   "id": "ca926804",
   "metadata": {},
   "outputs": [],
   "source": [
    "steps = [('pca', PCA(n_components=11)), ('m', ens.RandomForestClassifier(n_estimators = 300))]\n",
    "model_rf = Pipeline(steps = steps)\n",
    "\n",
    "test_acc_scores = cross_val_score(model_rf, X, y.values.ravel(), scoring='accuracy', cv=rskf, n_jobs=-1)\n",
    "test_prec_scores = cross_val_score(model_rf, X, y.values.ravel(), scoring='precision', cv=rskf, n_jobs=-1)\n",
    "print('n_components: 11, accuracy: ', np.mean(test_acc_scores))\n",
    "print('n_components: 11, precision: ', np.mean(test_prec_scores))"
   ]
  },
  {
   "cell_type": "markdown",
   "id": "c3a5e273",
   "metadata": {},
   "source": [
    "### Ridge Classifier"
   ]
  },
  {
   "cell_type": "code",
   "execution_count": null,
   "id": "654d8b40",
   "metadata": {},
   "outputs": [],
   "source": [
    "#RIDGE\n",
    "rskf = RepeatedStratifiedKFold(n_splits=3, n_repeats=10)\n",
    "steps = [('pca', PCA(n_components=10)), ('m', lm.RidgeClassifier(alpha = 0.7))]\n",
    "model_rid = Pipeline(steps = steps)\n",
    "\n",
    "test_acc_scores = cross_val_score(model_rid, X_norm, y.values.ravel(), scoring='accuracy', cv=rskf, n_jobs=-1)\n",
    "test_prec_scores = cross_val_score(model_rid, X_norm, y.values.ravel(), scoring='precision', cv=rskf, n_jobs=-1)\n",
    "print(' ridge accuracy: ', np.mean(test_acc_scores))\n",
    "print(' ridge precision: ', np.mean(test_prec_scores))"
   ]
  },
  {
   "cell_type": "markdown",
   "id": "39602146",
   "metadata": {},
   "source": [
    "### SVC"
   ]
  },
  {
   "cell_type": "code",
   "execution_count": null,
   "id": "3519b793",
   "metadata": {},
   "outputs": [],
   "source": [
    "steps = [('pca', PCA(n_components=10)), ('svc', SVC(C=10, kernel='sigmoid', probability = True, gamma = 'scale'))]\n",
    "model_svc = Pipeline(steps = steps)\n",
    "\n",
    "acc_scores = cross_val_score(model_svc, X_norm, y.values.ravel(), scoring='accuracy', cv=rskf, n_jobs=-1)\n",
    "prec_scores = cross_val_score(model_svc, X_norm, y.values.ravel(), scoring='precision', cv=rskf, n_jobs=-1)\n",
    "print('accuracy: ', np.mean(acc_scores))\n",
    "print('precision: ', np.mean(prec_scores))"
   ]
  },
  {
   "cell_type": "markdown",
   "id": "3aac4186",
   "metadata": {},
   "source": [
    "### AdaBoost"
   ]
  },
  {
   "cell_type": "code",
   "execution_count": null,
   "id": "e01a36ce",
   "metadata": {},
   "outputs": [],
   "source": [
    "AcRate = []\n",
    "PreScore = []\n",
    "rskf = RepeatedStratifiedKFold(n_splits=3, n_repeats=10, random_state=0)\n",
    "for i in range (1,21):\n",
    "    steps = [('pca', PCA(n_components=i)), ('ada', AdaBoostClassifier(n_estimators=200, learning_rate = 1, algorithm = \"SAMME.R\", random_state=123))]\n",
    "    model_ada = Pipeline(steps = steps)\n",
    "\n",
    "    acc_scores = cross_val_score(model_ada, X, y.values.ravel(), scoring='accuracy', cv=rskf, n_jobs=-1)\n",
    "    prec_scores = cross_val_score(model_ada, X, y.values.ravel(), scoring='precision', cv=rskf, n_jobs=-1)\n",
    "    AcRate.append(np.mean(acc_scores))\n",
    "    PreScore.append(np.mean(prec_scores))\n",
    "    print('n_components:', i, 'accuracy: ', np.mean(acc_scores))\n",
    "    print('n_components:', i, 'precision: ', np.mean(prec_scores))"
   ]
  },
  {
   "cell_type": "code",
   "execution_count": null,
   "id": "8b81f1ce",
   "metadata": {},
   "outputs": [],
   "source": [
    "import matplotlib.pyplot as plt\n",
    "   \n",
    "n_components = [r for r in range (1,21)]\n",
    "  \n",
    "plt.plot(n_components, AcRate, label = \"Accuracy\")\n",
    "plt.plot(n_components, PreScore, label = \"Precision\")\n",
    "plt.legend()\n",
    "plt.show()"
   ]
  },
  {
   "cell_type": "code",
   "execution_count": null,
   "id": "2e8f0be1",
   "metadata": {},
   "outputs": [],
   "source": [
    "steps = [('pca', PCA(n_components=11)), ('ada', AdaBoostClassifier(n_estimators=200, learning_rate = 1, algorithm = \"SAMME.R\"))]\n",
    "model_ada = Pipeline(steps = steps)\n",
    "\n",
    "acc_scores = cross_val_score(model_ada, X, y.values.ravel(), scoring='accuracy', cv=rskf, n_jobs=-1)\n",
    "prec_scores = cross_val_score(model_ada, X, y.values.ravel(), scoring='precision', cv=rskf, n_jobs=-1)\n",
    "print('n_components: accuracy: ', np.mean(acc_scores))\n",
    "print('n_components: precision: ', np.mean(prec_scores))"
   ]
  },
  {
   "cell_type": "markdown",
   "id": "c6c89789",
   "metadata": {},
   "source": [
    "### XGBoost"
   ]
  },
  {
   "cell_type": "code",
   "execution_count": null,
   "id": "7dac84d7",
   "metadata": {},
   "outputs": [],
   "source": [
    "AcRate = []\n",
    "PreScore = []\n",
    "rskf = RepeatedStratifiedKFold(n_splits=3, n_repeats=10, random_state=0)\n",
    "for i in range (1,21):\n",
    "    steps = [('pca', PCA(n_components=i)), ('xg', XGBClassifier())]\n",
    "    model_xg = Pipeline(steps = steps)\n",
    "\n",
    "    acc_scores = cross_val_score(model_xg, X, y.values.ravel(), scoring='accuracy', cv=rskf, n_jobs=-1)\n",
    "    prec_scores = cross_val_score(model_xg, X, y.values.ravel(), scoring='precision', cv=rskf, n_jobs=-1)\n",
    "    AcRate.append(np.mean(acc_scores))\n",
    "    PreScore.append(np.mean(prec_scores))\n",
    "    print('n_components:', i, 'accuracy: ', np.mean(acc_scores))\n",
    "    print('n_components:', i, 'precision: ', np.mean(prec_scores))"
   ]
  },
  {
   "cell_type": "code",
   "execution_count": null,
   "id": "dadabcc3",
   "metadata": {},
   "outputs": [],
   "source": [
    "n_components = [r for r in range (1,21)]\n",
    "  \n",
    "plt.plot(n_components, AcRate, label = \"Accuracy\")\n",
    "plt.plot(n_components, PreScore, label = \"Precision\")\n",
    "plt.legend()\n",
    "plt.show()"
   ]
  },
  {
   "cell_type": "code",
   "execution_count": null,
   "id": "5a76542f",
   "metadata": {},
   "outputs": [],
   "source": [
    "#XGBoost\n",
    "rskf = RepeatedStratifiedKFold(n_splits=3, n_repeats=10)\n",
    "steps = [('pca', PCA(n_components=11)), ('xg', XGBClassifier())]\n",
    "model_xg = Pipeline(steps = steps)\n",
    "\n",
    "test_acc_scores = cross_val_score(model_xg, X, y.values.ravel(), scoring='accuracy', cv=rskf, n_jobs=-1)\n",
    "test_prec_scores = cross_val_score(model_xg, X, y.values.ravel(), scoring='precision', cv=rskf, n_jobs=-1)\n",
    "print(' XGBoost accuracy: ', np.mean(test_acc_scores))\n",
    "print(' XGBoost precision: ', np.mean(test_prec_scores))"
   ]
  },
  {
   "cell_type": "markdown",
   "id": "e133849c",
   "metadata": {},
   "source": [
    "### CATBoost"
   ]
  },
  {
   "cell_type": "code",
   "execution_count": null,
   "id": "45a39c0a",
   "metadata": {},
   "outputs": [],
   "source": [
    "#CATBoost\n",
    "rskf = RepeatedStratifiedKFold(n_splits=3, n_repeats=10)\n",
    "steps = [('pca', PCA(n_components=10)), ('cat', CatBoostClassifier(iterations = 100, verbose=10))]\n",
    "model_cat = Pipeline(steps = steps)\n",
    "\n",
    "test_acc_scores = cross_val_score(model_cat, X, y.values.ravel(), scoring='accuracy', cv=rskf, n_jobs=-1)\n",
    "test_prec_scores = cross_val_score(model_cat, X, y.values.ravel(), scoring='precision', cv=rskf, n_jobs=-1)\n",
    "print(' ridge accuracy: ', np.mean(test_acc_scores))\n",
    "print(' ridge precision: ', np.mean(test_prec_scores))"
   ]
  },
  {
   "cell_type": "code",
   "execution_count": null,
   "id": "ca171fa3",
   "metadata": {},
   "outputs": [],
   "source": [
    "AcRate = []\n",
    "PreScore = []\n",
    "rskf = RepeatedStratifiedKFold(n_splits=3, n_repeats=10, random_state=0)\n",
    "for i in range (1,21):\n",
    "    steps = [('pca', PCA(n_components=i)), ('cat', CatBoostClassifier(iterations = 100, verbose=10))]\n",
    "    model_cat = Pipeline(steps = steps)\n",
    "\n",
    "    acc_scores = cross_val_score(model_cat, X, y.values.ravel(), scoring='accuracy', cv=rskf, n_jobs=-1)\n",
    "    prec_scores = cross_val_score(model_cat, X, y.values.ravel(), scoring='precision', cv=rskf, n_jobs=-1)\n",
    "    AcRate.append(np.mean(acc_scores))\n",
    "    PreScore.append(np.mean(prec_scores))\n",
    "    print('n_components:', i, 'accuracy: ', np.mean(acc_scores))\n",
    "    print('n_components:', i, 'precision: ', np.mean(prec_scores))"
   ]
  },
  {
   "cell_type": "code",
   "execution_count": null,
   "id": "331f8aa3",
   "metadata": {},
   "outputs": [],
   "source": [
    "n_components = [r for r in range (1,21)]\n",
    "  \n",
    "plt.plot(n_components, AcRate, label = \"Accuracy\")\n",
    "plt.plot(n_components, PreScore, label = \"Precision\")\n",
    "plt.legend()\n",
    "plt.show()"
   ]
  },
  {
   "cell_type": "code",
   "execution_count": null,
   "id": "51803bf4",
   "metadata": {},
   "outputs": [],
   "source": [
    "#CATBoost\n",
    "rskf = RepeatedStratifiedKFold(n_splits=3, n_repeats=10)\n",
    "steps = [('pca', PCA(n_components=10)), ('cat', CatBoostClassifier(iterations = 100, verbose=10))]\n",
    "model_cat = Pipeline(steps = steps)\n",
    "\n",
    "test_acc_scores = cross_val_score(model_cat, X, y.values.ravel(), scoring='accuracy', cv=rskf, n_jobs=-1)\n",
    "test_prec_scores = cross_val_score(model_cat, X, y.values.ravel(), scoring='precision', cv=rskf, n_jobs=-1)\n",
    "print(' ridge accuracy: ', np.mean(test_acc_scores))\n",
    "print(' ridge precision: ', np.mean(test_prec_scores))"
   ]
  },
  {
   "cell_type": "markdown",
   "id": "6137f1cf",
   "metadata": {},
   "source": [
    "# PCA then Hyperparameters Tuning - Updated Data"
   ]
  },
  {
   "cell_type": "markdown",
   "id": "311bf000",
   "metadata": {},
   "source": [
    "### Ada Boost"
   ]
  },
  {
   "cell_type": "code",
   "execution_count": null,
   "id": "5016a381",
   "metadata": {
    "scrolled": true
   },
   "outputs": [],
   "source": [
    "from sklearn.model_selection import GridSearchCV\n",
    "\n",
    "#Ada Boost\n",
    "# 10X ITERATED STRATIFIED 3-FOLD CROSS-VALIDATED ACCURACY AND PRECISION\n",
    "rskf = RepeatedStratifiedKFold(n_splits=3, n_repeats=10, random_state=0)\n",
    "steps = [('pca', PCA()), ('ada', AdaBoostClassifier(random_state=123))]\n",
    "model_ada = Pipeline(steps = steps)\n",
    "\n",
    "# Creating space for different hyperparameters\n",
    "space = dict()\n",
    "space['pca__n_components'] = [i for i in range(2, 21)]\n",
    "space['ada__n_estimators'] = [10, 50, 100, 150, 200, 250, 300]\n",
    "space['ada__learning_rate'] = [10**i for i in range(-7,1)]\n",
    "space['ada__algorithm'] = ['SAMME', 'SAMME.R']\n",
    "\n",
    "# Search\n",
    "search = GridSearchCV(model_ada, space, scoring='accuracy', cv=rskf, n_jobs=-1, verbose = 2)\n",
    "result = search.fit(X, y.values.ravel())\n",
    "\n",
    "#Print Result\n",
    "print('Best Score: %s' % result.best_score_)\n",
    "print('Best Hyperparameters: %s' % result.best_params_)"
   ]
  },
  {
   "cell_type": "code",
   "execution_count": null,
   "id": "1dedacbe",
   "metadata": {},
   "outputs": [],
   "source": [
    "#ada_result = pd.DataFrame(result.cv_results_)\n",
    "#ada_result.head()"
   ]
  },
  {
   "cell_type": "code",
   "execution_count": null,
   "id": "fbafbc17",
   "metadata": {},
   "outputs": [],
   "source": [
    "#Fit Again to confirm the Model Performance\n",
    "steps = [('pca', PCA(n_components=10)), ('ada', AdaBoostClassifier(n_estimators=250, learning_rate = 1, algorithm = \"SAMME\"))]\n",
    "model_ada = Pipeline(steps = steps)\n",
    "\n",
    "acc_scores = cross_val_score(model_ada, X, y.values.ravel(), scoring='accuracy', cv=rskf, n_jobs=-1)\n",
    "prec_scores = cross_val_score(model_ada, X, y.values.ravel(), scoring='precision', cv=rskf, n_jobs=-1)\n",
    "print('n_components: accuracy: ', np.mean(acc_scores))\n",
    "print('n_components: precision: ', np.mean(prec_scores))"
   ]
  },
  {
   "cell_type": "markdown",
   "id": "5bc2dcdd",
   "metadata": {},
   "source": [
    "### Random Forest"
   ]
  },
  {
   "cell_type": "code",
   "execution_count": null,
   "id": "0b155ed8",
   "metadata": {
    "scrolled": true
   },
   "outputs": [],
   "source": [
    "#Random Forest\n",
    "# 10X ITERATED STRATIFIED 3-FOLD CROSS-VALIDATED ACCURACY AND PRECISION\n",
    "rskf = RepeatedStratifiedKFold(n_splits=3, n_repeats=10, random_state=0)\n",
    "steps = [('pca', PCA(n_components=i)), ('rf', ens.RandomForestClassifier(random_state=123))]\n",
    "model_rf = Pipeline(steps = steps)\n",
    "\n",
    "# Creating space for different hyperparameters\n",
    "space = dict()\n",
    "space['pca__n_components'] = [i for i in range(2, 21)]\n",
    "space['rf__n_estimators'] = [50, 100, 150, 200, 300, 400, 500]\n",
    "space['rf__max_depth'] = [None, 5, 10, 14, 19, 25, 30]\n",
    "space['rf__criterion'] = ['gini', 'entropy']\n",
    "\n",
    "# Search\n",
    "search = GridSearchCV(model_rf, space, scoring='accuracy', cv=rskf, n_jobs=-1, verbose = 2)\n",
    "result = search.fit(X, y.values.ravel())\n",
    "\n",
    "#Print Result\n",
    "print('Best Score: %s' % result.best_score_)\n",
    "print('Best Hyperparameters: %s' % result.best_params_)"
   ]
  },
  {
   "cell_type": "code",
   "execution_count": null,
   "id": "507d1438",
   "metadata": {},
   "outputs": [],
   "source": [
    "print('Best Score: %s' % result.best_score_)\n",
    "print('Best Hyperparameters: %s' % result.best_params_)"
   ]
  },
  {
   "cell_type": "code",
   "execution_count": null,
   "id": "c351f788",
   "metadata": {},
   "outputs": [],
   "source": [
    "#rf_result = pd.DataFrame(result.cv_results_)\n",
    "#rf_result.head()"
   ]
  },
  {
   "cell_type": "code",
   "execution_count": null,
   "id": "15b9e60d",
   "metadata": {},
   "outputs": [],
   "source": [
    "steps = [('pca', PCA(n_components=12)), ('m', ens.RandomForestClassifier(n_estimators = 50, max_depth = 19, criterion = \"entropy\"))]\n",
    "model_rf = Pipeline(steps = steps)\n",
    "\n",
    "test_acc_scores = cross_val_score(model_rf, X, y.values.ravel(), scoring='accuracy', cv=rskf, n_jobs=-1)\n",
    "test_prec_scores = cross_val_score(model_rf, X, y.values.ravel(), scoring='precision', cv=rskf, n_jobs=-1)\n",
    "print('n_components: 11, accuracy: ', np.mean(test_acc_scores))\n",
    "print('n_components: 11, precision: ', np.mean(test_prec_scores))"
   ]
  },
  {
   "cell_type": "markdown",
   "id": "b33c9e49",
   "metadata": {},
   "source": [
    "### Ridge Classifier"
   ]
  },
  {
   "cell_type": "code",
   "execution_count": null,
   "id": "6a10e4f0",
   "metadata": {},
   "outputs": [],
   "source": []
  },
  {
   "cell_type": "code",
   "execution_count": null,
   "id": "c3e0da4a",
   "metadata": {},
   "outputs": [],
   "source": []
  },
  {
   "cell_type": "code",
   "execution_count": null,
   "id": "cdd54538",
   "metadata": {},
   "outputs": [],
   "source": []
  },
  {
   "cell_type": "code",
   "execution_count": null,
   "id": "ec3a0796",
   "metadata": {},
   "outputs": [],
   "source": []
  },
  {
   "cell_type": "markdown",
   "id": "1e881588",
   "metadata": {},
   "source": [
    "# Hyperparameters Tuning - Updated Data"
   ]
  },
  {
   "cell_type": "markdown",
   "id": "5f671432",
   "metadata": {},
   "source": [
    "### AdaBoost"
   ]
  },
  {
   "cell_type": "code",
   "execution_count": null,
   "id": "7dbcbae2",
   "metadata": {},
   "outputs": [],
   "source": [
    "from sklearn.model_selection import GridSearchCV\n",
    "\n",
    "#Ada Boost\n",
    "# 10X ITERATED STRATIFIED 3-FOLD CROSS-VALIDATED ACCURACY AND PRECISION\n",
    "rskf = RepeatedStratifiedKFold(n_splits=3, n_repeats=10, random_state=0)\n",
    "steps = [('pca', PCA()), ('ada', AdaBoostClassifier(random_state=123))]\n",
    "model_ada = Pipeline(steps = steps)\n",
    "\n",
    "# Creating space for different hyperparameters\n",
    "space = dict()\n",
    "space['pca__n_components'] = [i for i in range(2, 21)]\n",
    "space['ada__n_estimators'] = [10, 50, 100, 150, 200, 250, 300]\n",
    "space['ada__learning_rate'] = [10**i for i in range(-7,1)]\n",
    "space['ada__algorithm'] = ['SAMME', 'SAMME.R']\n",
    "\n",
    "# Search\n",
    "ada_search = GridSearchCV(model_ada, space, scoring='accuracy', cv=rskf, n_jobs=-1, verbose = 2)\n",
    "ada_result = ada_search.fit(X_new, y_new.values.ravel())\n",
    "\n",
    "#Print Result\n",
    "print('Best Score: %s' % ada_result.best_score_)\n",
    "print('Best Hyperparameters: %s' % ada_result.best_params_)"
   ]
  },
  {
   "cell_type": "code",
   "execution_count": null,
   "id": "4e1e22b9",
   "metadata": {},
   "outputs": [],
   "source": [
    "#Print Result\n",
    "print('Best Score: %s' % ada_result.best_score_)\n",
    "print('Best Hyperparameters: %s' % ada_result.best_params_)"
   ]
  },
  {
   "cell_type": "code",
   "execution_count": null,
   "id": "ce3a3260",
   "metadata": {},
   "outputs": [],
   "source": [
    "ada_result_tb = pd.DataFrame(ada_result.cv_results_)\n",
    "ada_result_tb.head()"
   ]
  },
  {
   "cell_type": "code",
   "execution_count": null,
   "id": "8a893161",
   "metadata": {},
   "outputs": [],
   "source": [
    "#Fit Again Using the best hyperparameters to confirm the Model Performance\n",
    "steps = [('pca', PCA(n_components=15)), ('ada', AdaBoostClassifier(n_estimators=300, learning_rate = 0.1, algorithm = \"SAMME.R\"))]\n",
    "model_ada = Pipeline(steps = steps)\n",
    "\n",
    "rskf = RepeatedStratifiedKFold(n_splits=5, n_repeats=20)\n",
    "acc_scores = cross_val_score(model_ada, X_new, y_new.values.ravel(), scoring='accuracy', cv=rskf, n_jobs=-1)\n",
    "prec_scores = cross_val_score(model_ada, X_new, y_new.values.ravel(), scoring='precision', cv=rskf, n_jobs=-1)\n",
    "print('n_components: accuracy: ', np.mean(acc_scores))\n",
    "print('n_components: precision: ', np.mean(prec_scores))"
   ]
  },
  {
   "cell_type": "code",
   "execution_count": null,
   "id": "b0ee85ed",
   "metadata": {},
   "outputs": [],
   "source": [
    "#Fit Again Using the best hyperparameters to confirm the Model Performance\n",
    "rskf = RepeatedStratifiedKFold(n_splits=5, n_repeats=100)\n",
    "steps = [('pca', PCA(n_components=15)), ('ada', AdaBoostClassifier(n_estimators=300, learning_rate = 0.1, algorithm = \"SAMME.R\"))]\n",
    "model_ada = Pipeline(steps = steps)\n",
    "\n",
    "rskf = RepeatedStratifiedKFold(n_splits=5, n_repeats=20)\n",
    "acc_scores = cross_val_score(model_ada, X_new, y_new.values.ravel(), scoring='accuracy', cv=rskf, n_jobs=-1)\n",
    "prec_scores = cross_val_score(model_ada, X_new, y_new.values.ravel(), scoring='precision', cv=rskf, n_jobs=-1)\n",
    "print('n_components 15: accuracy: ', np.mean(acc_scores))\n",
    "print('n_components 15: precision: ', np.mean(prec_scores))\n",
    "print('n_components: 15, accuracy_std: ', np.std(test_acc_scores))\n",
    "print('n_components: 15, precision_std: ', np.std(test_prec_scores))\n"
   ]
  },
  {
   "cell_type": "markdown",
   "id": "85abae04",
   "metadata": {},
   "source": [
    "### Random Forest"
   ]
  },
  {
   "cell_type": "code",
   "execution_count": null,
   "id": "8e290729",
   "metadata": {},
   "outputs": [],
   "source": [
    "#Random Forest\n",
    "# 10X ITERATED STRATIFIED 3-FOLD CROSS-VALIDATED ACCURACY AND PRECISION\n",
    "rskf = RepeatedStratifiedKFold(n_splits=3, n_repeats=10, random_state=0)\n",
    "steps = [('pca', PCA(n_components=i)), ('rf', ens.RandomForestClassifier(random_state=123))]\n",
    "model_rf = Pipeline(steps = steps)\n",
    "\n",
    "# Creating space for different hyperparameters\n",
    "space = dict()\n",
    "space['pca__n_components'] = [i for i in range(2, 21)]\n",
    "space['rf__n_estimators'] = [50, 100, 150, 200, 300, 400, 500]\n",
    "space['rf__max_depth'] = [None, 5, 10, 14, 19, 25, 30]\n",
    "space['rf__criterion'] = ['gini', 'entropy']\n",
    "\n",
    "# Search\n",
    "rf_search = GridSearchCV(model_rf, space, scoring='accuracy', cv=rskf, n_jobs=-1, verbose = 2)\n",
    "rf_result = search.fit(X_new, y_new.values.ravel())\n",
    "\n",
    "#Print Result\n",
    "print('Best Score: %s' % rf_result.best_score_)\n",
    "print('Best Hyperparameters: %s' % rf_result.best_params_)"
   ]
  },
  {
   "cell_type": "code",
   "execution_count": null,
   "id": "4e10b536",
   "metadata": {},
   "outputs": [],
   "source": [
    "print('Best Score: %s' % rf_result.best_score_)\n",
    "print('Best Hyperparameters: %s' % rf_result.best_params_)"
   ]
  },
  {
   "cell_type": "code",
   "execution_count": null,
   "id": "3ff68017",
   "metadata": {},
   "outputs": [],
   "source": [
    "rf_result_tb = pd.DataFrame(result.cv_results_)\n",
    "rf_result_tb.head()"
   ]
  },
  {
   "cell_type": "code",
   "execution_count": null,
   "id": "2ea97fd6",
   "metadata": {},
   "outputs": [],
   "source": [
    "#Fit Again using the best hyperparameters to confirm the Model Performance\n",
    "steps = [('pca', PCA(n_components=14)), ('m', ens.RandomForestClassifier(n_estimators = 50, max_depth = 14, criterion = \"entropy\"))]\n",
    "model_rf = Pipeline(steps = steps)\n",
    "\n",
    "test_acc_scores = cross_val_score(model_rf, X_new, y_new.values.ravel(), scoring='accuracy', cv=rskf, n_jobs=-1)\n",
    "test_prec_scores = cross_val_score(model_rf, X_new, y_new.values.ravel(), scoring='precision', cv=rskf, n_jobs=-1)\n",
    "print('n_components: 14, accuracy: ', np.mean(test_acc_scores))\n",
    "print('n_components: 14, precision: ', np.mean(test_prec_scores))"
   ]
  },
  {
   "cell_type": "code",
   "execution_count": null,
   "id": "ad67d6d8",
   "metadata": {},
   "outputs": [],
   "source": [
    "#Fit Again using the best hyperparameters to confirm the Model Performance\n",
    "rskf = RepeatedStratifiedKFold(n_splits=5, n_repeats=100, random_state=0)\n",
    "\n",
    "steps = [('pca', PCA(n_components=14)), ('m', ens.RandomForestClassifier(n_estimators = 50, max_depth = 14, criterion = \"entropy\"))]\n",
    "model_rf = Pipeline(steps = steps)\n",
    "\n",
    "test_acc_scores = cross_val_score(model_rf, X_new, y_new.values.ravel(), scoring='accuracy', cv=rskf, n_jobs=-1)\n",
    "test_prec_scores = cross_val_score(model_rf, X_new, y_new.values.ravel(), scoring='precision', cv=rskf, n_jobs=-1)\n",
    "print('n_components: 14, accuracy: ', np.mean(test_acc_scores))\n",
    "print('n_components: 14, precision: ', np.mean(test_prec_scores))\n",
    "print('n_components: 14, accuracy_std: ', np.std(test_acc_scores))\n",
    "print('n_components: 14, precision_std: ', np.std(test_prec_scores))"
   ]
  },
  {
   "cell_type": "code",
   "execution_count": null,
   "id": "68aeb010",
   "metadata": {},
   "outputs": [],
   "source": [
    "print('n_components: 14, accuracy_std: ', np.percentile(test_acc_scores, 20))\n",
    "print('n_components: 14, precision_std: ', np.percentile(test_prec_scores, 20))"
   ]
  },
  {
   "cell_type": "code",
   "execution_count": null,
   "id": "9cbd4d90",
   "metadata": {},
   "outputs": [],
   "source": []
  },
  {
   "cell_type": "markdown",
   "id": "94022cfc",
   "metadata": {},
   "source": [
    "# Feature Importance"
   ]
  },
  {
   "cell_type": "code",
   "execution_count": null,
   "id": "712b4a8e",
   "metadata": {},
   "outputs": [],
   "source": [
    "# Dropping Gene\n",
    "df_sect_only = df_all.copy()\n",
    "df_sect_only = df_sect_only.drop(columns = [x for x in df_sect_only.columns if 'gene_'  in x])"
   ]
  },
  {
   "cell_type": "code",
   "execution_count": null,
   "id": "ab1a386b",
   "metadata": {},
   "outputs": [],
   "source": [
    "# SIMILARLY, WANT MORE ROBUST IDEA OF RF FI; GOING TO ITERATRE THRU 10K TIMES\n",
    "X_sect = df_sect_only.drop(columns = [x for x in df_sect_only.columns if x == 'outcome' or x == 'sample_id'])\n",
    "\n",
    "y_sect = df_sect_only.drop(columns = [x for x in df_sect_only.columns if x != 'outcome'])\n",
    "final_df = pd.DataFrame()\n",
    "\n",
    "for i in range(1000):\n",
    "    X_train, X_test, y_train, y_test = train_test_split(X_sect, y_sect, \n",
    "                                                        stratify = y_sect, \n",
    "                                                        test_size = 0.2)\n",
    "\n",
    "    model_ada = AdaBoostClassifier(n_estimators=200, learning_rate = 1, algorithm = \"SAMME.R\").fit(X_train, y_train.values.ravel())\n",
    "    \n",
    "    feature_names = [x for x in df_sect_only.columns if x != 'outcome' and x != 'sample_id']\n",
    "    importances = model_ada.feature_importances_\n",
    "    data = {'feature_names': feature_names, 'feature_importance': importances}\n",
    "    fi_df = pd.DataFrame(data)\n",
    "    \n",
    "    final_df = pd.concat([final_df, fi_df])\n",
    "    "
   ]
  },
  {
   "cell_type": "code",
   "execution_count": null,
   "id": "08728326",
   "metadata": {},
   "outputs": [],
   "source": [
    "keep_df = final_df.copy()\n",
    "\n",
    "keep_df = keep_df.groupby('feature_names').sum().reset_index()\n",
    "\n",
    "# CONVERT TO AVERAGE\n",
    "keep_df['feature_importance'] = keep_df['feature_importance'].apply(lambda x: x/10000)\n",
    "\n",
    "keep_df.sort_values(by = ['feature_importance'], ascending = False, inplace = True)\n",
    "\n",
    "#keep_df.to_csv(\"ada_fi_tmp.csv\")"
   ]
  },
  {
   "cell_type": "code",
   "execution_count": null,
   "id": "d92ae6f4",
   "metadata": {},
   "outputs": [],
   "source": [
    "keep_df = pd.read_csv(\"ada_fi_tmp.csv\")\n",
    "plt.figure(figsize = (5, 7))\n",
    "plt.scatter(keep_df.head(25)['feature_importance'], keep_df.head(25)['feature_names'])\n",
    "# plt.tick_params(color='white', labelcolor='white')\n",
    "plt.title(\"RF Feature Importance Avg. - 10,000 Iterations\")#, color = 'white')\n",
    "plt.savefig(\"fi_10k\", bbox_inches='tight')"
   ]
  }
 ],
 "metadata": {
  "kernelspec": {
   "display_name": "Python 3 (ipykernel)",
   "language": "python",
   "name": "python3"
  },
  "language_info": {
   "codemirror_mode": {
    "name": "ipython",
    "version": 3
   },
   "file_extension": ".py",
   "mimetype": "text/x-python",
   "name": "python",
   "nbconvert_exporter": "python",
   "pygments_lexer": "ipython3",
   "version": "3.9.6"
  }
 },
 "nbformat": 4,
 "nbformat_minor": 5
}
