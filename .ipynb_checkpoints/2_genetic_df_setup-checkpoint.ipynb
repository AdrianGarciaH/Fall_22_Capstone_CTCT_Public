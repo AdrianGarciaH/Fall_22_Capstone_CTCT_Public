{
 "cells": [
  {
   "cell_type": "code",
   "execution_count": null,
   "metadata": {},
   "outputs": [],
   "source": [
    "import pandas as pd\n",
    "import numpy as np\n",
    "import math as m\n",
    "import random as rand\n",
    "import matplotlib.pyplot as plt\n",
    "import seaborn as sns\n",
    "import re\n",
    "from datetime import datetime\n",
    "from sklearn import linear_model as lm, metrics, ensemble as ens\n",
    "from sklearn.model_selection import train_test_split, cross_val_score, KFold\n",
    "from sklearn.preprocessing import StandardScaler\n",
    "from sklearn.svm import SVC\n",
    "import random"
   ]
  },
  {
   "cell_type": "code",
   "execution_count": null,
   "metadata": {},
   "outputs": [],
   "source": [
    "#DEFINING A FUNCTION TO UPDATE COLUMN NAMES LATER\n",
    "def lower_no_space(word): \n",
    "    \n",
    "    word = re.sub(' ', '_', word) \n",
    "    \n",
    "    word = re.sub(r'\\'', '', word) \n",
    "    \n",
    "    word = re.sub(r'\\(', '', word)\n",
    "    \n",
    "    word = re.sub(r'\\)', '', word)\n",
    "    \n",
    "    word = re.sub('\\?', '', word)\n",
    "    \n",
    "    word = re.sub('/', '_', word)\n",
    "    \n",
    "    word = word.lower()\n",
    "    \n",
    "    return word"
   ]
  },
  {
   "cell_type": "code",
   "execution_count": null,
   "metadata": {},
   "outputs": [],
   "source": [
    "df_ss = pd.read_csv(\"ss_gen_data.csv\", header = 2)\n",
    "df_mf = pd.read_csv(\"mf_gen_data.csv\", header = 2)"
   ]
  },
  {
   "cell_type": "code",
   "execution_count": null,
   "metadata": {},
   "outputs": [],
   "source": [
    "#RENAMING COLUMNS\n",
    "df_ss = df_ss.rename(mapper = lower_no_space, axis = 1) \n",
    "\n",
    "#AND AGAIN\n",
    "df_mf = df_mf.rename(mapper = lower_no_space, axis = 1) "
   ]
  },
  {
   "cell_type": "code",
   "execution_count": null,
   "metadata": {},
   "outputs": [],
   "source": [
    "#ADD OUTCOME COLUMN - ASSIGNING SS AS 1\n",
    "\n",
    "df_ss['outcome'] = 1\n",
    "df_mf['outcome'] = 0"
   ]
  },
  {
   "cell_type": "code",
   "execution_count": null,
   "metadata": {},
   "outputs": [],
   "source": [
    "#COMBINE THEM INTO ONE \"GENETIC\" DATAFRAME\n",
    "df_gen = pd.concat([df_ss, df_mf]) \n",
    "\n",
    "#NOTES:\n",
    "    #SHAPE = 14577, 12\n",
    "    #EACH RECORD IS A GENETIC MUTATION\n",
    "    #~7K TOTAL GENES (SO ~2 RECORDS PER GENE), 143 PEOPLE\n",
    "    #ONE PERSON HAS OVER 1.4K RECORDS(!!!)\n",
    "    #VARIANT_CLASSIFICATION AND TYPE SEEM REDUNDANT (MUTATION = SNP; DEL = DEL; INS = INS; SPLICE SITE = NAN)\n"
   ]
  },
  {
   "cell_type": "code",
   "execution_count": null,
   "metadata": {},
   "outputs": [],
   "source": [
    "df_gen.head()"
   ]
  },
  {
   "cell_type": "code",
   "execution_count": null,
   "metadata": {},
   "outputs": [],
   "source": [
    "#CLEAN CHROMOSOME NAMES (SOME ARE JUST THE CHROM, SOME SAY 'chr' FIRST)\n",
    "\n",
    "df_gen['chromosome'] = df_gen['chromosome'].apply(lambda x: str(x)[3:] if 'chr' in str(x) else str(x))\n",
    "\n",
    "#STILL LEAVES 2 OBS OF 'CHROMOSOME' CHROMOSOME AND 13 OF '19_gl000209_random' CHROMOSOME; IDK WHAT TO DO WITH THESE"
   ]
  },
  {
   "cell_type": "code",
   "execution_count": null,
   "metadata": {},
   "outputs": [],
   "source": [
    "df_gen.rename(columns={'start_position':'pos',\\\n",
    "                       'reference_allele' : 'ref',\\\n",
    "                       'altered_allele' : 'alt',\\\n",
    "                      'chromosome': 'chrom'}, inplace=True)\n",
    "\n",
    "for col in ['chrom', 'pos', 'ref', 'alt']:\n",
    "        df_gen = df_gen.astype({col: 'string'})"
   ]
  },
  {
   "cell_type": "code",
   "execution_count": null,
   "metadata": {},
   "outputs": [],
   "source": [
    "chunksize = 10000000\n",
    "counter = 1\n",
    "        \n",
    "with pd.read_csv('whole_genome_SNVs.tsv.gz', sep='\\t', header = 1, chunksize = chunksize) as reader:\n",
    "    for df_cadd in reader:\n",
    "        print(counter, ': loaded')\n",
    "\n",
    "        df_cadd = df_cadd.rename(mapper = lower_no_space, axis = 1) \n",
    "        df_cadd.rename(columns={'#chrom':'chrom'}, inplace=True)\n",
    "        for col in ['chrom', 'pos', 'ref', 'alt']:\n",
    "            df_cadd = df_cadd.astype({col: 'string'})\n",
    "\n",
    "        df_gen = pd.merge(df_gen, df_cadd, on=['chrom', 'pos', 'ref', 'alt'], how='left')\n",
    "        print(counter, ': merged')\n",
    "\n",
    "        if 'phred_x' in df_gen.columns.values.tolist():\n",
    "            df_gen['phred'] = df_gen['phred_x'].add(df_gen['phred_y'], fill_value = 0)\n",
    "            df_gen['rawscore'] = df_gen['rawscore_x'].add(df_gen['rawscore_y'], fill_value = 0)\n",
    "\n",
    "            df_gen = df_gen.drop(columns = ['phred_x', 'phred_y', 'rawscore_x', 'rawscore_y'])\n",
    "        \n",
    "        counter += 1\n"
   ]
  },
  {
   "cell_type": "code",
   "execution_count": null,
   "metadata": {},
   "outputs": [],
   "source": [
    "df_gen.to_csv(\"test_gen.csv\")"
   ]
  }
 ],
 "metadata": {
  "kernelspec": {
   "display_name": "Python 3 (ipykernel)",
   "language": "python",
   "name": "python3"
  },
  "language_info": {
   "codemirror_mode": {
    "name": "ipython",
    "version": 3
   },
   "file_extension": ".py",
   "mimetype": "text/x-python",
   "name": "python",
   "nbconvert_exporter": "python",
   "pygments_lexer": "ipython3",
   "version": "3.9.6"
  }
 },
 "nbformat": 4,
 "nbformat_minor": 4
}
